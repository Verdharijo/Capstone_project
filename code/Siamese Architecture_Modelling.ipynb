{
 "cells": [
  {
   "cell_type": "markdown",
   "id": "fbbaecbf",
   "metadata": {},
   "source": [
    "# Creation of Siamese Network Architecture\n",
    "\n",
    "![Image](https://miro.medium.com/v2/resize:fit:1100/format:webp/1*I7a9aVN2poHUtiHSq2q44Q.png)\n",
    "\n",
    "\n",
    "**Introduction**\n",
    "\n",
    "A Siamese network is a class of neural networks that contains one or more identical networks. We feed a pair of inputs to these networks. Each network computes the features of one input. And, then the similarity of features is computed using their difference or the dot product. For same class input pairs, target output is 1 and for different classes input pairs, the output is 0. Both networks have same the parameters and weights. \n",
    "\n",
    "\n",
    "*Convolutional Neural Network (CNN):*\n",
    "\n",
    "* Convolutional Neural Network (CNN, or ConvNet) are a special kind of multi-layer neural networks, designed to recognize visual patterns directly from pixel images with minimal preprocessing.\n",
    "* Many different types such as VGGNet and ResNet \n",
    "\n",
    "\n",
    "**The basic archietecture for Siamese Network constitutes the following:**\n",
    "\n",
    "* Firstly, we have our input layer. Using a CNN.\n",
    "\n",
    "* Then, Conv2D and MaxPool layers. \n",
    "\n",
    "* After that, we flatten it and add a dense layer. \n",
    "\n",
    "* Then, when connecting these two models, we take the dot product of these features. Since we have normalized the features already, they will be between 0 and 1. \n",
    "\n",
    "\n",
    "\n",
    "The benefits of choosing Siamese Network:\n",
    "\n",
    "1. Model is useful when less data is available and classes are imbalanced.\n",
    "2. Suitable for classification tasks such as Image Classification\n",
    "\n",
    "\n",
    "**Sources:**\n",
    "\n",
    "1. [Siamese Network Introduction](https://towardsdatascience.com/siamese-networks-introduction-and-implementation-2140e3443dee)\n",
    "2. [CNN Introduction](https://medium.com/analytics-vidhya/cnns-architectures-lenet-alexnet-vgg-googlenet-resnet-and-more-666091488df5) "
   ]
  },
  {
   "cell_type": "markdown",
   "id": "67ad0b03",
   "metadata": {},
   "source": [
    "# Import libraries"
   ]
  },
  {
   "cell_type": "code",
   "execution_count": 68,
   "id": "a44c4c96",
   "metadata": {},
   "outputs": [
    {
     "name": "stderr",
     "output_type": "stream",
     "text": [
      "C:\\Users\\rusta\\anaconda3\\Lib\\site-packages\\paramiko\\transport.py:219: CryptographyDeprecationWarning: Blowfish has been deprecated\n",
      "  \"class\": algorithms.Blowfish,\n"
     ]
    }
   ],
   "source": [
    "import gc\n",
    "import cv2\n",
    "import glob\n",
    "import numpy as np\n",
    "import collections\n",
    "import os\n",
    "from keras_applications.imagenet_utils import preprocess_input\n",
    "from collections import defaultdict\n",
    "from tensorflow.keras.preprocessing.image import ImageDataGenerator\n",
    "import pandas as pd\n",
    "import numpy as np\n",
    "import matplotlib.pyplot as plt\n",
    "from random import choice, sample\n",
    "\n",
    "\n",
    "from sklearn.multioutput import MultiOutputClassifier\n",
    "from sklearn.linear_model import LogisticRegression\n",
    "from sklearn.model_selection import train_test_split\n",
    "from sklearn.metrics import classification_report\n",
    "from sklearn.preprocessing import MultiLabelBinarizer\n",
    "from skimage.io import imread\n",
    "from skimage.transform import resize\n",
    "from skimage.color import rgba2rgb"
   ]
  },
  {
   "cell_type": "markdown",
   "id": "062b29aa",
   "metadata": {},
   "source": [
    "#### Create function to read images into inputable format for Siamese Network\n",
    "\n",
    "Some image formats contain 4 channels instead of 3, having an alpha channel/dimension focusing on transparency of colour as well. However as the model focuses on other attributes, such images are converted to 3 channels instead."
   ]
  },
  {
   "cell_type": "code",
   "execution_count": 79,
   "id": "1e09e074",
   "metadata": {},
   "outputs": [],
   "source": [
    "def read_img(path):\n",
    "    img = cv2.imread(path)\n",
    "    \n",
    "    if img.shape[-1] == 4:\n",
    "                img = rgba2rgb(img) #convert to 3 channels\n",
    "            \n",
    "    img = resize(img, (224, 224), anti_aliasing=True)\n",
    "    img = np.array(img).astype(float)\n",
    "    return preprocess_input(img, data_format = \"channels_last\", mode=\"caffe\")"
   ]
  },
  {
   "cell_type": "markdown",
   "id": "2a669781",
   "metadata": {},
   "source": [
    "#### Indication of Main Working Folder\n",
    "\n",
    "This folder contains folders of each family, with each family containing subfolders of unique family members."
   ]
  },
  {
   "cell_type": "code",
   "execution_count": 31,
   "id": "b95fdde4",
   "metadata": {},
   "outputs": [],
   "source": [
    "main_folder = \"Combined_Families\""
   ]
  },
  {
   "cell_type": "code",
   "execution_count": 32,
   "id": "cc33de50",
   "metadata": {},
   "outputs": [
    {
     "name": "stdout",
     "output_type": "stream",
     "text": [
      "Number of Families: 52 \n",
      "Number of unique Humans: 214 \n",
      "Average of 4 images per unique human\n"
     ]
    }
   ],
   "source": [
    "#creates dictionary where key is family and values are family members in family\n",
    "allPhotos = defaultdict(list)\n",
    "families = []\n",
    "totalphotocount = 0\n",
    "# indicate name of folder housing all training image folders\n",
    "for family in glob.glob(main_folder + \"/*\"):\n",
    "    families.append(family)\n",
    "    for mem in glob.glob(family+'/*'):\n",
    "        for photo in glob.glob(mem+'/*'):\n",
    "            allPhotos[mem].append(photo)\n",
    "            totalphotocount +=1\n",
    "\n",
    "#forms list of all families\n",
    "ppl = list(allPhotos.keys())\n",
    "\n",
    "#Counts number of members\n",
    "len(ppl)\n",
    "\n",
    "#print statement\n",
    "print(f\"Number of Families: {len(families)} \\nNumber of unique Humans: {len(ppl)} \\nAverage of {int(totalphotocount/len(ppl))} images per unique human\")"
   ]
  },
  {
   "cell_type": "code",
   "execution_count": 33,
   "id": "67c21be9",
   "metadata": {},
   "outputs": [
    {
     "data": {
      "text/plain": [
       "OrderedDict([('Combined_Families\\\\F0150\\\\MID1',\n",
       "              ['Combined_Families\\\\F0150\\\\MID1\\\\P01612_face3.jpg',\n",
       "               'Combined_Families\\\\F0150\\\\MID1\\\\P01614_face2.jpg',\n",
       "               'Combined_Families\\\\F0150\\\\MID1\\\\P01615_face3.jpg',\n",
       "               'Combined_Families\\\\F0150\\\\MID1\\\\P01616_face2.jpg',\n",
       "               'Combined_Families\\\\F0150\\\\MID1\\\\P01618_face3.jpg']),\n",
       "             ('Combined_Families\\\\F0150\\\\MID2',\n",
       "              ['Combined_Families\\\\F0150\\\\MID2\\\\P01612_face2.jpg',\n",
       "               'Combined_Families\\\\F0150\\\\MID2\\\\P01614_face1.jpg',\n",
       "               'Combined_Families\\\\F0150\\\\MID2\\\\P01615_face1.jpg',\n",
       "               'Combined_Families\\\\F0150\\\\MID2\\\\P01616_face1.jpg']),\n",
       "             ('Combined_Families\\\\F0150\\\\MID3',\n",
       "              ['Combined_Families\\\\F0150\\\\MID3\\\\P01612_face1.jpg',\n",
       "               'Combined_Families\\\\F0150\\\\MID3\\\\P01617_face3.jpg']),\n",
       "             ('Combined_Families\\\\F0150\\\\MID4',\n",
       "              ['Combined_Families\\\\F0150\\\\MID4\\\\P01613_face2.jpg',\n",
       "               'Combined_Families\\\\F0150\\\\MID4\\\\P01617_face4.jpg',\n",
       "               'Combined_Families\\\\F0150\\\\MID4\\\\P01618_face2.jpg',\n",
       "               'Combined_Families\\\\F0150\\\\MID4\\\\P01619_face2.jpg',\n",
       "               'Combined_Families\\\\F0150\\\\MID4\\\\P01620_face2.jpg']),\n",
       "             ('Combined_Families\\\\F0150\\\\MID5',\n",
       "              ['Combined_Families\\\\F0150\\\\MID5\\\\P01613_face1.jpg',\n",
       "               'Combined_Families\\\\F0150\\\\MID5\\\\P01617_face2.jpg',\n",
       "               'Combined_Families\\\\F0150\\\\MID5\\\\P01618_face1.jpg',\n",
       "               'Combined_Families\\\\F0150\\\\MID5\\\\P01619_face1.jpg',\n",
       "               'Combined_Families\\\\F0150\\\\MID5\\\\P01620_face3.jpg'])])"
      ]
     },
     "execution_count": 33,
     "metadata": {},
     "output_type": "execute_result"
    }
   ],
   "source": [
    "# Get first 5 items in dictionary of allPhotos, which contains all unique humans and the images within\n",
    "out = collections.OrderedDict(list(allPhotos.items())[0:5])\n",
    "out"
   ]
  },
  {
   "cell_type": "code",
   "execution_count": 40,
   "id": "e867e8fc",
   "metadata": {},
   "outputs": [
    {
     "name": "stdout",
     "output_type": "stream",
     "text": [
      "(3598, 2)\n",
      "(81, 2)\n",
      "(3679, 2)\n"
     ]
    }
   ],
   "source": [
    "#turning data into dataframe\n",
    "data = pd.read_csv('./train_relationships_fitw.csv')\n",
    "print(data.shape)\n",
    "data2 = pd.read_csv('./train_relationships_local.csv')\n",
    "print(data2.shape)\n",
    "\n",
    "#concatenate both dataframes of FITW and local dataset\n",
    "fitw_local_df = pd.concat([data, data2])\n",
    "print(joined_df.shape)"
   ]
  },
  {
   "cell_type": "code",
   "execution_count": 95,
   "id": "c1cd17d2",
   "metadata": {},
   "outputs": [
    {
     "name": "stdout",
     "output_type": "stream",
     "text": [
      "Dataframe of all 2nd generational relationships is (3866, 2)\n",
      "Dataframe of all 2nd generational with local relationships is (3947, 2)\n"
     ]
    }
   ],
   "source": [
    "#precise relationships of kinship\n",
    "fd = pd.read_csv('./precise_relationships/fd.csv')\n",
    "fs = pd.read_csv('./precise_relationships/fs.csv')\n",
    "md = pd.read_csv('./precise_relationships/md.csv')\n",
    "ms = pd.read_csv('./precise_relationships/ms.csv')\n",
    "\n",
    "all_kinship = pd.concat([fd,fs,md,ms])\n",
    "precise_kins_local_df = pd.concat([all_kinship, data2])\n",
    "\n",
    "print(f\"Dataframe of all 2nd generational relationships is {all_kinship.shape}\")\n",
    "print(f\"Dataframe of all 2nd generational with local relationships is {precise_kins_local_df.shape}\")"
   ]
  },
  {
   "cell_type": "code",
   "execution_count": 41,
   "id": "49e43025",
   "metadata": {
    "scrolled": true
   },
   "outputs": [
    {
     "name": "stdout",
     "output_type": "stream",
     "text": [
      "(3679, 2)\n"
     ]
    },
    {
     "data": {
      "text/html": [
       "<div>\n",
       "<style scoped>\n",
       "    .dataframe tbody tr th:only-of-type {\n",
       "        vertical-align: middle;\n",
       "    }\n",
       "\n",
       "    .dataframe tbody tr th {\n",
       "        vertical-align: top;\n",
       "    }\n",
       "\n",
       "    .dataframe thead th {\n",
       "        text-align: right;\n",
       "    }\n",
       "</style>\n",
       "<table border=\"1\" class=\"dataframe\">\n",
       "  <thead>\n",
       "    <tr style=\"text-align: right;\">\n",
       "      <th></th>\n",
       "      <th>p1</th>\n",
       "      <th>p2</th>\n",
       "    </tr>\n",
       "  </thead>\n",
       "  <tbody>\n",
       "    <tr>\n",
       "      <th>76</th>\n",
       "      <td>Combined_Families\\L907\\MID1</td>\n",
       "      <td>Combined_Families\\L907\\MID3</td>\n",
       "    </tr>\n",
       "    <tr>\n",
       "      <th>77</th>\n",
       "      <td>Combined_Families\\L907\\MID2</td>\n",
       "      <td>Combined_Families\\L907\\MID4</td>\n",
       "    </tr>\n",
       "    <tr>\n",
       "      <th>78</th>\n",
       "      <td>Combined_Families\\L907\\MID2</td>\n",
       "      <td>Combined_Families\\L907\\MID4</td>\n",
       "    </tr>\n",
       "    <tr>\n",
       "      <th>79</th>\n",
       "      <td>Combined_Families\\L908\\MID1</td>\n",
       "      <td>Combined_Families\\L908\\MID3</td>\n",
       "    </tr>\n",
       "    <tr>\n",
       "      <th>80</th>\n",
       "      <td>Combined_Families\\L908\\MID2</td>\n",
       "      <td>Combined_Families\\L908\\MID3</td>\n",
       "    </tr>\n",
       "  </tbody>\n",
       "</table>\n",
       "</div>"
      ],
      "text/plain": [
       "                             p1                           p2\n",
       "76  Combined_Families\\L907\\MID1  Combined_Families\\L907\\MID3\n",
       "77  Combined_Families\\L907\\MID2  Combined_Families\\L907\\MID4\n",
       "78  Combined_Families\\L907\\MID2  Combined_Families\\L907\\MID4\n",
       "79  Combined_Families\\L908\\MID1  Combined_Families\\L908\\MID3\n",
       "80  Combined_Families\\L908\\MID2  Combined_Families\\L908\\MID3"
      ]
     },
     "execution_count": 41,
     "metadata": {},
     "output_type": "execute_result"
    }
   ],
   "source": [
    "# Using giant database with all kinships mixed in.\n",
    "data = joined_df\n",
    "\n",
    "\n",
    "data.p1 = data.p1.apply( lambda x: main_folder + '/'+x )\n",
    "\n",
    "# Replace forward slashes in the 'p1' column with backslashes\n",
    "data['p1'] = data['p1'].str.replace('/', '\\\\')\n",
    "\n",
    "data.p2 = data.p2.apply( lambda x: main_folder + '/'+x )\n",
    "\n",
    "# Replace forward slashes in the 'p1' column with backslashes\n",
    "data['p2'] = data['p2'].str.replace('/', '\\\\')\n",
    "\n",
    "print(data.shape)\n",
    "data.tail()"
   ]
  },
  {
   "cell_type": "code",
   "execution_count": 96,
   "id": "73575388",
   "metadata": {},
   "outputs": [
    {
     "name": "stdout",
     "output_type": "stream",
     "text": [
      "(3947, 2)\n"
     ]
    },
    {
     "data": {
      "text/html": [
       "<div>\n",
       "<style scoped>\n",
       "    .dataframe tbody tr th:only-of-type {\n",
       "        vertical-align: middle;\n",
       "    }\n",
       "\n",
       "    .dataframe tbody tr th {\n",
       "        vertical-align: top;\n",
       "    }\n",
       "\n",
       "    .dataframe thead th {\n",
       "        text-align: right;\n",
       "    }\n",
       "</style>\n",
       "<table border=\"1\" class=\"dataframe\">\n",
       "  <thead>\n",
       "    <tr style=\"text-align: right;\">\n",
       "      <th></th>\n",
       "      <th>p1</th>\n",
       "      <th>p2</th>\n",
       "    </tr>\n",
       "  </thead>\n",
       "  <tbody>\n",
       "    <tr>\n",
       "      <th>0</th>\n",
       "      <td>Combined_Families\\F0002\\MID1</td>\n",
       "      <td>Combined_Families\\F0002\\MID3</td>\n",
       "    </tr>\n",
       "    <tr>\n",
       "      <th>1</th>\n",
       "      <td>Combined_Families\\F0003\\MID2</td>\n",
       "      <td>Combined_Families\\F0003\\MID1</td>\n",
       "    </tr>\n",
       "    <tr>\n",
       "      <th>2</th>\n",
       "      <td>Combined_Families\\F0003\\MID2</td>\n",
       "      <td>Combined_Families\\F0003\\MID4</td>\n",
       "    </tr>\n",
       "    <tr>\n",
       "      <th>3</th>\n",
       "      <td>Combined_Families\\F0004\\MID1</td>\n",
       "      <td>Combined_Families\\F0004\\MID4</td>\n",
       "    </tr>\n",
       "    <tr>\n",
       "      <th>4</th>\n",
       "      <td>Combined_Families\\F0004\\MID1</td>\n",
       "      <td>Combined_Families\\F0004\\MID5</td>\n",
       "    </tr>\n",
       "  </tbody>\n",
       "</table>\n",
       "</div>"
      ],
      "text/plain": [
       "                             p1                            p2\n",
       "0  Combined_Families\\F0002\\MID1  Combined_Families\\F0002\\MID3\n",
       "1  Combined_Families\\F0003\\MID2  Combined_Families\\F0003\\MID1\n",
       "2  Combined_Families\\F0003\\MID2  Combined_Families\\F0003\\MID4\n",
       "3  Combined_Families\\F0004\\MID1  Combined_Families\\F0004\\MID4\n",
       "4  Combined_Families\\F0004\\MID1  Combined_Families\\F0004\\MID5"
      ]
     },
     "execution_count": 96,
     "metadata": {},
     "output_type": "execute_result"
    }
   ],
   "source": [
    "# Using curated database with only 2nd gen kinships mixed in.\n",
    "data = precise_kins_local_df\n",
    "\n",
    "\n",
    "data.p1 = data.p1.apply( lambda x: main_folder + '/'+x )\n",
    "\n",
    "# Replace forward slashes in the 'p1' column with backslashes\n",
    "data['p1'] = data['p1'].str.replace('/', '\\\\')\n",
    "\n",
    "data.p2 = data.p2.apply( lambda x: main_folder + '/'+x )\n",
    "\n",
    "# Replace forward slashes in the 'p1' column with backslashes\n",
    "data['p2'] = data['p2'].str.replace('/', '\\\\')\n",
    "\n",
    "#remove last \\ in values\n",
    "\n",
    "\n",
    "def remove_last_backslash(df):\n",
    "    # Iterate over the columns in the DataFrame\n",
    "    for column in df.columns:\n",
    "        # Get the values in the column\n",
    "        values = df[column]\n",
    "\n",
    "        # Remove the last \"\\\" character from each value\n",
    "        values = values.str.rstrip(\"\\\\\")\n",
    "\n",
    "        # Update the DataFrame with the modified values\n",
    "        df[column] = values\n",
    "    \n",
    "    return df\n",
    "\n",
    "# Remove the last \"\\\" character from all values in the DataFrame\n",
    "data = remove_last_backslash(data)\n",
    "\n",
    "\n",
    "print(data.shape)\n",
    "data.head()"
   ]
  },
  {
   "cell_type": "code",
   "execution_count": 89,
   "id": "18aa960b",
   "metadata": {},
   "outputs": [
    {
     "data": {
      "text/plain": [
       "['Combined_Families\\\\L907\\\\MID3',\n",
       " 'Combined_Families\\\\L907\\\\MID4',\n",
       " 'Combined_Families\\\\L908\\\\MID1',\n",
       " 'Combined_Families\\\\L908\\\\MID2',\n",
       " 'Combined_Families\\\\L908\\\\MID3']"
      ]
     },
     "execution_count": 89,
     "metadata": {},
     "output_type": "execute_result"
    }
   ],
   "source": [
    "ppl[-5:]\n",
    "\n",
    "#ensure unique humans have exact same format as dataframe containing labels"
   ]
  },
  {
   "cell_type": "code",
   "execution_count": 97,
   "id": "da953a62",
   "metadata": {},
   "outputs": [
    {
     "name": "stdout",
     "output_type": "stream",
     "text": [
      "There are 183 rows of training pairs to train kinship model on.\n",
      "There are 3415 rows of data where either 1 or both folders not found in train-faces folder\n"
     ]
    },
    {
     "data": {
      "text/plain": [
       "[('Combined_Families\\\\F0150\\\\MID1', 'Combined_Families\\\\F0150\\\\MID4'),\n",
       " ('Combined_Families\\\\F0150\\\\MID1', 'Combined_Families\\\\F0150\\\\MID5'),\n",
       " ('Combined_Families\\\\F0150\\\\MID1', 'Combined_Families\\\\F0150\\\\MID8'),\n",
       " ('Combined_Families\\\\F0285\\\\MID1', 'Combined_Families\\\\F0285\\\\MID5'),\n",
       " ('Combined_Families\\\\F0285\\\\MID1', 'Combined_Families\\\\F0285\\\\MID4')]"
      ]
     },
     "execution_count": 97,
     "metadata": {},
     "output_type": "execute_result"
    }
   ],
   "source": [
    "#return rows where both images are found in folder\n",
    "tdata = data[ ( (data[\"p1\"].isin(ppl)) & (data[\"p2\"].isin(ppl)) ) ]\n",
    "tdata = [ ( x[0], x[1]  ) for x in tdata.values ]\n",
    "print(f\"There are {len(tdata)} rows of training pairs to train kinship model on.\")\n",
    "print(f\"There are {3598 - len(tdata)} rows of data where either 1 or both folders not found in train-faces folder\")\n",
    "tdata[:5]"
   ]
  },
  {
   "cell_type": "markdown",
   "id": "49a2f5f0",
   "metadata": {},
   "source": [
    "### Random Batch Selection of image pairs in dataset\n",
    "\n",
    "This allows the neural network to be trained randomly on different images in batches"
   ]
  },
  {
   "cell_type": "code",
   "execution_count": 99,
   "id": "7ce819d5",
   "metadata": {},
   "outputs": [
    {
     "name": "stdout",
     "output_type": "stream",
     "text": [
      "('Combined_Families\\\\F0811\\\\MID5', 'Combined_Families\\\\F0811\\\\MID7')\n",
      "('Combined_Families\\\\F0532\\\\MID3', 'Combined_Families\\\\F0532\\\\MID1')\n"
     ]
    },
    {
     "data": {
      "image/png": "[encoded data removed]",
      "text/plain": [
       "<Figure size 400x400 with 4 Axes>"
      ]
     },
     "metadata": {},
     "output_type": "display_data"
    }
   ],
   "source": [
    "#EDA step, showing potential pairs within training data set\n",
    "f, ax = plt.subplots(2, 2, figsize=(4, 4))\n",
    "batch = sample(tdata, 2) \n",
    "for row in batch:\n",
    "    print(row)\n",
    "for i,j in [(0,0),(0,1),(1,0),(1,1)]:\n",
    "    ax[i][j].imshow( cv2.imread( choice(allPhotos[batch[i][j]]) ) [:, :, ::-1] )"
   ]
  },
  {
   "cell_type": "code",
   "execution_count": 85,
   "id": "6bf64a6a",
   "metadata": {},
   "outputs": [
    {
     "data": {
      "text/plain": [
       "(2266, 224)"
      ]
     },
     "execution_count": 85,
     "metadata": {},
     "output_type": "execute_result"
    }
   ],
   "source": [
    "# This one is for FITW full dataset\n",
    "#decide to break up train_relationships with 90% train dataset and validation 10% (F09)\n",
    "train = [ x for x in tdata if 'F09' not in x[0]  ]\n",
    "val = [ x for x in tdata if 'F09' in x[0]  ]\n",
    "len(train), len(val)"
   ]
  },
  {
   "cell_type": "code",
   "execution_count": 100,
   "id": "6cd4d2f7",
   "metadata": {},
   "outputs": [
    {
     "data": {
      "text/plain": [
       "19"
      ]
     },
     "execution_count": 100,
     "metadata": {},
     "output_type": "execute_result"
    }
   ],
   "source": [
    "# Split the data into a training set and a test set. 90% train dataset and validation 10% (F09)\n",
    "train, val = train_test_split(tdata, test_size=0.1, random_state=42)\n",
    "len(val)"
   ]
  },
  {
   "cell_type": "markdown",
   "id": "f628377b",
   "metadata": {},
   "source": [
    "# Development of Specific Functions\n",
    "\n",
    "In order to ensure deep learning model runs well, 2 specific functions are created to streamline process.\n",
    "\n",
    "1) Function 1 (getImages) has a purpose of referring to database of positive kinship relationships and to read those specific images, while having error management.\n",
    "\n",
    "2) Function 2 (getMiniBatch) has a purpose of ensuring that the model is learning in batches and ensuring images have similar dimensions\n",
    "\n",
    "\n",
    "A generator that takes these lists, dictionary and batch size is created to generate a batch of pair of images and labels to be fed as input to the model. This generator also generates pairs of images belonging to individuals that are non-kins. Each batch generated contains an equal distribution of kins and non-kins labels."
   ]
  },
  {
   "cell_type": "code",
   "execution_count": 101,
   "id": "7e2de48a",
   "metadata": {},
   "outputs": [],
   "source": [
    "\n",
    "# Function 1: getImages\n",
    "def getImages(p1, p2):\n",
    "    if p1 in allPhotos and allPhotos[p1]:\n",
    "        p1 = read_img(choice(allPhotos[p1]))\n",
    "    else:\n",
    "        # Handle the case where allPhotos[p1] is empty or p1 is not in allPhotos\n",
    "        p1 = None  # You can choose an appropriate action here\n",
    "\n",
    "    if p2 in allPhotos and allPhotos[p2]:\n",
    "        p2 = read_img(choice(allPhotos[p2]))\n",
    "    else:\n",
    "        # Handle the case where allPhotos[p2] is empty or p2 is not in allPhotos\n",
    "        p2 = None  # You can choose an appropriate action here\n",
    "\n",
    "    return p1, p2\n",
    "\n",
    "\n",
    "\n",
    "# Function 2: getMiniBatch\n",
    "def getMiniBatch(batch_size=16, data=train):\n",
    "    p1 = []\n",
    "    p2 = []\n",
    "    Y = []\n",
    "    \n",
    "    batch = sample(data, batch_size//2)\n",
    "    \n",
    "    for x in batch:\n",
    "        _p1, _p2 = getImages(*x)\n",
    "        \n",
    "        if _p1 is not None and _p2 is not None:  # Check for None\n",
    "            p1.append(_p1)\n",
    "            p2.append(_p2)\n",
    "            Y.append(1)\n",
    "        \n",
    "    while len(Y) < batch_size:\n",
    "        _p1,_p2 = tuple(np.random.choice(ppl,size=2, replace=False))\n",
    "        \n",
    "        if (_p1,_p2) not in train+val and (_p2,_p1) not in train+val:\n",
    "            _p1,_p2 = getImages(_p1,_p2)\n",
    "            \n",
    "            if _p1 is not None and _p2 is not None:  # Check for None\n",
    "                p1.append(_p1)\n",
    "                p2.append(_p2)\n",
    "                Y.append(0)\n",
    "                \n",
    "    if not p1 or not p2:\n",
    "        raise ValueError(\"No valid images found\")  # Handle the case of empty lists and stops function here.\n",
    "    \n",
    "    # Check if all images have the same shape and dimensions\n",
    "    image_shape = p1[0].shape  # Assuming the first image in the list\n",
    "    for img in p1:\n",
    "        if img.shape != image_shape:\n",
    "            raise ValueError(\"Images in p1 have inconsistent shapes\")\n",
    "\n",
    "    for img in p2:\n",
    "        if img.shape != image_shape:\n",
    "            raise ValueError(\"Images in p2 have inconsistent shapes\")\n",
    "            \n",
    "    \n",
    "    # Convert p1 and p2 to NumPy arrays\n",
    "    p1 = np.array(p1)\n",
    "    p2 = np.array(p2)\n",
    "    \n",
    "    # Convert Y to a NumPy array if it's not already\n",
    "    Y = np.array(Y)\n",
    "            \n",
    "            \n",
    "    return [p1,p2], Y\n"
   ]
  },
  {
   "cell_type": "markdown",
   "id": "01116e34",
   "metadata": {},
   "source": [
    "### Initialization of X and y arrays for training"
   ]
  },
  {
   "cell_type": "code",
   "execution_count": 102,
   "id": "c7c96c78",
   "metadata": {},
   "outputs": [],
   "source": [
    "# Initialize lists to store images, labels, and unique person IDs\n",
    "X = []\n",
    "y = []\n",
    "person_ids = []"
   ]
  },
  {
   "cell_type": "code",
   "execution_count": 73,
   "id": "1e1fe06c",
   "metadata": {
    "scrolled": true
   },
   "outputs": [
    {
     "name": "stdout",
     "output_type": "stream",
     "text": [
      "There are 1009 images in total\n",
      "This is the order of the photos: ['F0150', 'F0150', 'F0150', 'F0150', 'F0150', 'F0150', 'F0150', 'F0150', 'F0150', 'F0150', 'F0150', 'F0150', 'F0150', 'F0150', 'F0150', 'F0150', 'F0150', 'F0150', 'F0150', 'F0150', 'F0150', 'F0150', 'F0150', 'F0150', 'F0150', 'F0271', 'F0271', 'F0271', 'F0271', 'F0271', 'F0271', 'F0271', 'F0271', 'F0271', 'F0271', 'F0285', 'F0285', 'F0285', 'F0285', 'F0285', 'F0285', 'F0285', 'F0285', 'F0285', 'F0285', 'F0285', 'F0285', 'F0285', 'F0285', 'F0285', 'F0285', 'F0285', 'F0285', 'F0285', 'F0285', 'F0285', 'F0285', 'F0285', 'F0285', 'F0285', 'F0285', 'F0285', 'F0339', 'F0339', 'F0339', 'F0339', 'F0339', 'F0339', 'F0339', 'F0339', 'F0339', 'F0339', 'F0339', 'F0339', 'F0339', 'F0339', 'F0339', 'F0339', 'F0339', 'F0339', 'F0339', 'F0339', 'F0339', 'F0339', 'F0339', 'F0339', 'F0339', 'F0339', 'F0339', 'F0424', 'F0424', 'F0424', 'F0424', 'F0424', 'F0424', 'F0424', 'F0424', 'F0424', 'F0424', 'F0424', 'F0424', 'F0424', 'F0424', 'F0424', 'F0424', 'F0425', 'F0425', 'F0425', 'F0425', 'F0425', 'F0425', 'F0425', 'F0425', 'F0425', 'F0425', 'F0425', 'F0425', 'F0425', 'F0425', 'F0425', 'F0425', 'F0425', 'F0425', 'F0425', 'F0425', 'F0425', 'F0425', 'F0425', 'F0425', 'F0425', 'F0425', 'F0425', 'F0425', 'F0425', 'F0425', 'F0425', 'F0425', 'F0425', 'F0425', 'F0425', 'F0425', 'F0425', 'F0425', 'F0425', 'F0425', 'F0425', 'F0425', 'F0425', 'F0425', 'F0425', 'F0425', 'F0425', 'F0425', 'F0425', 'F0425', 'F0425', 'F0425', 'F0425', 'F0425', 'F0425', 'F0425', 'F0425', 'F0425', 'F0425', 'F0425', 'F0425', 'F0425', 'F0425', 'F0425', 'F0425', 'F0425', 'F0425', 'F0425', 'F0425', 'F0425', 'F0425', 'F0425', 'F0425', 'F0425', 'F0425', 'F0425', 'F0425', 'F0425', 'F0425', 'F0425', 'F0425', 'F0425', 'F0425', 'F0425', 'F0425', 'F0425', 'F0425', 'F0425', 'F0425', 'F0425', 'F0425', 'F0425', 'F0425', 'F0425', 'F0425', 'F0425', 'F0465', 'F0465', 'F0465', 'F0465', 'F0465', 'F0465', 'F0465', 'F0465', 'F0465', 'F0465', 'F0465', 'F0465', 'F0465', 'F0465', 'F0465', 'F0515', 'F0515', 'F0515', 'F0515', 'F0515', 'F0515', 'F0515', 'F0515', 'F0515', 'F0515', 'F0515', 'F0515', 'F0515', 'F0515', 'F0515', 'F0515', 'F0515', 'F0515', 'F0515', 'F0515', 'F0515', 'F0515', 'F0515', 'F0515', 'F0515', 'F0532', 'F0532', 'F0532', 'F0532', 'F0532', 'F0532', 'F0532', 'F0532', 'F0532', 'F0532', 'F0532', 'F0532', 'F0532', 'F0679', 'F0679', 'F0679', 'F0679', 'F0679', 'F0679', 'F0679', 'F0679', 'F0679', 'F0679', 'F0679', 'F0679', 'F0679', 'F0686', 'F0686', 'F0686', 'F0686', 'F0686', 'F0686', 'F0686', 'F0686', 'F0686', 'F0686', 'F0686', 'F0686', 'F0686', 'F0686', 'F0686', 'F0686', 'F0686', 'F0686', 'F0686', 'F0686', 'F0686', 'F0686', 'F0686', 'F0686', 'F0686', 'F0686', 'F0686', 'F0686', 'F0686', 'F0686', 'F0686', 'F0686', 'F0686', 'F0686', 'F0686', 'F0686', 'F0686', 'F0686', 'F0686', 'F0686', 'F0686', 'F0686', 'F0686', 'F0686', 'F0686', 'F0686', 'F0686', 'F0686', 'F0686', 'F0686', 'F0686', 'F0686', 'F0686', 'F0687', 'F0687', 'F0687', 'F0687', 'F0687', 'F0687', 'F0687', 'F0687', 'F0687', 'F0687', 'F0687', 'F0687', 'F0687', 'F0687', 'F0687', 'F0687', 'F0687', 'F0778', 'F0778', 'F0778', 'F0778', 'F0778', 'F0778', 'F0778', 'F0778', 'F0778', 'F0778', 'F0778', 'F0778', 'F0778', 'F0778', 'F0778', 'F0778', 'F0780', 'F0780', 'F0780', 'F0780', 'F0780', 'F0780', 'F0780', 'F0780', 'F0780', 'F0780', 'F0780', 'F0780', 'F0780', 'F0780', 'F0780', 'F0780', 'F0780', 'F0780', 'F0780', 'F0780', 'F0780', 'F0785', 'F0785', 'F0785', 'F0785', 'F0785', 'F0785', 'F0785', 'F0785', 'F0785', 'F0785', 'F0785', 'F0785', 'F0785', 'F0785', 'F0785', 'F0785', 'F0785', 'F0785', 'F0785', 'F0785', 'F0785', 'F0785', 'F0785', 'F0785', 'F0785', 'F0785', 'F0785', 'F0811', 'F0811', 'F0811', 'F0811', 'F0811', 'F0811', 'F0811', 'F0811', 'F0811', 'F0811', 'F0811', 'F0811', 'F0811', 'F0811', 'F0811', 'F0811', 'F0811', 'F0811', 'F0811', 'F0811', 'F0811', 'F0811', 'F0811', 'F0811', 'F0811', 'F0837', 'F0837', 'F0837', 'F0837', 'F0837', 'F0837', 'F0837', 'F0837', 'F0837', 'F0837', 'F0837', 'F0837', 'F0837', 'F0837', 'F0837', 'F0840', 'F0840', 'F0840', 'F0840', 'F0840', 'F0840', 'F0840', 'F0840', 'F0840', 'F0840', 'F0840', 'F0856', 'F0856', 'F0856', 'F0856', 'F0856', 'F0856', 'F0856', 'F0856', 'F0856', 'F0856', 'F0856', 'F0857', 'F0857', 'F0857', 'F0857', 'F0857', 'F0857', 'F0857', 'F0857', 'F0857', 'F0857', 'F0857', 'F0857', 'F0857', 'F0857', 'F0857', 'F0857', 'F0861', 'F0861', 'F0861', 'F0861', 'F0861', 'F0861', 'F0861', 'F0861', 'F0861', 'F0862', 'F0862', 'F0862', 'F0862', 'F0862', 'F0862', 'F0862', 'F0862', 'F0862', 'F0862', 'F0862', 'F0862', 'F0862', 'F0862', 'F0862', 'F0862', 'F0862', 'F0863', 'F0863', 'F0863', 'F0863', 'F0863', 'F0863', 'F0863', 'F0863', 'F0863', 'F0863', 'F0863', 'F0863', 'F0863', 'F0863', 'F0866', 'F0866', 'F0866', 'F0866', 'F0866', 'F0866', 'F0866', 'F0866', 'F0866', 'F0866', 'F0866', 'F0866', 'F0866', 'F0866', 'F0866', 'F0868', 'F0868', 'F0868', 'F0868', 'F0868', 'F0868', 'F0868', 'F0868', 'F0868', 'F0868', 'F0868', 'F0868', 'F0868', 'F0868', 'F0868', 'F0868', 'F0868', 'F0868', 'F0869', 'F0869', 'F0869', 'F0869', 'F0869', 'F0869', 'F0869', 'F0869', 'F0869', 'F0869', 'F0869', 'F0869', 'F0869', 'F0869', 'F0869', 'F0869', 'F0869', 'F0869', 'F0869', 'F0869', 'F0892', 'F0892', 'F0892', 'F0892', 'F0892', 'F0892', 'F0892', 'F0892', 'F0892', 'F0892', 'F0892', 'F0892', 'F0892', 'F0892', 'F0892', 'F0892', 'F0892', 'F0892', 'F0892', 'F0892', 'F0892', 'F0892', 'F0892', 'F0892', 'F0892', 'F0892', 'F0892', 'F0892', 'F0892', 'F0892', 'F0892', 'F0892', 'F0892', 'F0899', 'F0899', 'F0899', 'F0899', 'F0899', 'F0899', 'F0899', 'F0899', 'F0899', 'F0899', 'F0899', 'F0899', 'F0899', 'F0899', 'F0899', 'F0899', 'F0899', 'F0899', 'F0900', 'F0900', 'F0900', 'F0900', 'F0900', 'F0900', 'F0900', 'F0900', 'F0900', 'F0900', 'F0900', 'F0900', 'F0900', 'F0900', 'F0900', 'F0901', 'F0901', 'F0901', 'F0901', 'F0901', 'F0901', 'F0901', 'F0901', 'F0901', 'F0901', 'F0901', 'F0901', 'F0901', 'F0901', 'F0901', 'F0901', 'F0901', 'F0901', 'F0901', 'F0903', 'F0903', 'F0903', 'F0903', 'F0903', 'F0903', 'F0903', 'F0903', 'F0903', 'F0903', 'F0903', 'F0903', 'F0903', 'F0903', 'F0903', 'F0903', 'F0903', 'F0903', 'F0904', 'F0904', 'F0904', 'F0904', 'F0904', 'F0904', 'F0904', 'F0904', 'F0904', 'F0904', 'F0904', 'F0904', 'F0904', 'F0904', 'F0904', 'F0944', 'F0944', 'F0944', 'F0944', 'F0944', 'F0944', 'F0944', 'F0944', 'F0944', 'F0944', 'F0944', 'F0944', 'F0944', 'F0944', 'F0944', 'F0944', 'F0944', 'F0944', 'F0944', 'F0944', 'F0944', 'F0944', 'F0944', 'F0944', 'F0944', 'F0945', 'F0945', 'F0945', 'F0945', 'F0945', 'F0945', 'F0945', 'F0945', 'F0945', 'F0945', 'F0945', 'F0945', 'F0945', 'F0945', 'F0945', 'F0946', 'F0946', 'F0946', 'F0946', 'F0946', 'F0946', 'F0946', 'F0946', 'F0946', 'F0946', 'F0946', 'F0946', 'F0946', 'F0946', 'F0946', 'F0946', 'F0947', 'F0947', 'F0947', 'F0947', 'F0947', 'F0947', 'F0947', 'F0947', 'F0947', 'F0947', 'F0947', 'F0947', 'F0947', 'F0947', 'F0947', 'F0947', 'F0947', 'F0947', 'F0951', 'F0951', 'F0951', 'F0951', 'F0951', 'F0951', 'F0951', 'F0951', 'F0951', 'F0951', 'F0951', 'F0951', 'F0951', 'F0951', 'F0951', 'F0951', 'F0951', 'F0951', 'F0951', 'F0953', 'F0953', 'F0953', 'F0953', 'F0953', 'F0953', 'F0953', 'F0953', 'F0953', 'F0953', 'F0953', 'F0953', 'F0953', 'F0953', 'F0953', 'F0953', 'F0953', 'F0953', 'F0953', 'F0953', 'F0953', 'F0953', 'F0953', 'F0953', 'F0953', 'F0953', 'F0953', 'L001', 'L001', 'L001', 'L001', 'L001', 'L001', 'L001', 'L001', 'L001', 'L001', 'L001', 'L001', 'L001', 'L001', 'L001', 'L001', 'L001', 'L001', 'L001', 'L001', 'L001', 'L001', 'L001', 'L001', 'L001', 'L001', 'L001', 'L001', 'L001', 'L001', 'L001', 'L001', 'L001', 'L001', 'L001', 'L002', 'L002', 'L002', 'L002', 'L002', 'L002', 'L002', 'L002', 'L002', 'L002', 'L002', 'L003', 'L003', 'L003', 'L003', 'L003', 'L003', 'L003', 'L003', 'L003', 'L003', 'L003', 'L003', 'L003', 'L003', 'L004', 'L004', 'L005', 'L005', 'L005', 'L005', 'L005', 'L005', 'L005', 'L005', 'L005', 'L005', 'L005', 'L005', 'L005', 'L005', 'L005', 'L005', 'L005', 'L005', 'L005', 'L005', 'L005', 'L005', 'L005', 'L005', 'L005', 'L005', 'L005', 'L005', 'L005', 'L005', 'L005', 'L005', 'L005', 'L005', 'L005', 'L006', 'L006', 'L006', 'L006', 'L006', 'L006', 'L006', 'L006', 'L006', 'L006', 'L006', 'L006', 'L006', 'L006', 'L006', 'L006', 'L006', 'L901', 'L901', 'L901', 'L901', 'L901', 'L901', 'L901', 'L901', 'L901', 'L901', 'L901', 'L901', 'L901', 'L901', 'L901', 'L901', 'L901', 'L901', 'L901', 'L901', 'L901', 'L901', 'L902', 'L902', 'L902', 'L902', 'L902', 'L902', 'L902', 'L902', 'L902', 'L902', 'L902', 'L902', 'L902', 'L902', 'L903', 'L903', 'L903', 'L903', 'L903', 'L903', 'L903', 'L903', 'L904', 'L904', 'L904', 'L904', 'L904', 'L904', 'L904', 'L904', 'L904', 'L904', 'L904', 'L904', 'L904', 'L905', 'L905', 'L905', 'L905', 'L905', 'L905', 'L905', 'L905', 'L905', 'L905', 'L905', 'L905', 'L905', 'L905', 'L905', 'L906', 'L906', 'L906', 'L906', 'L907', 'L907', 'L907', 'L907', 'L908', 'L908', 'L908', 'L908', 'L908'] \n"
     ]
    }
   ],
   "source": [
    "# Script to ensure that all photos are of similar dimensions\n",
    "# Original\n",
    "# Load and preprocess the images from the image folder\n",
    "image_folder = 'Combined_Families'\n",
    "count = 0\n",
    "specimen = []\n",
    "\n",
    "# Create input data (X) by loading and preprocessing the images from the image folder\n",
    "for image_filename in os.listdir(image_folder):\n",
    "    genetic_specimen = os.path.join(image_folder, image_filename)  #image_path is folder of each folder with images inside\n",
    "    \n",
    "    for indiv in os.listdir(genetic_specimen):\n",
    "        \n",
    "        person_path = os.path.join(genetic_specimen, indiv) \n",
    "        \n",
    "        for img in os.listdir(person_path):\n",
    "            \n",
    "            image_path = os.path.join(person_path, img) \n",
    "            \n",
    "            image = cv2.imread(image_path) #products object of type <class 'numpy.ndarray'>\n",
    "            \n",
    "            #if have 4 channels, which means has alpha channel\n",
    "            if image.shape[-1] == 4:\n",
    "                image = rgba2rgb(image) #convert to 3 channels\n",
    "\n",
    "\n",
    "            image = resize(image, (224, 224), anti_aliasing=True)\n",
    "            X.append(image.flatten()) #Need to flatten image\n",
    "            count +=1\n",
    "            specimen.append(image_filename)\n",
    "\n",
    "print(f\"There are {count} images in total\")\n",
    "print(f\"This is the order of the photos: {specimen} \")"
   ]
  },
  {
   "cell_type": "markdown",
   "id": "67dbcc3c",
   "metadata": {},
   "source": [
    "# Modelling\n",
    "\n",
    "Imagenet weights has been chosen with siamese architecture that extracts and learns facial embeddings and relationships between images. This method is the quite prevalent in current literature and will be used as a prototypical model as of now.\n",
    "\n",
    "\n",
    "Sources: \n",
    "\n",
    "- [2019 Medium Article](https://towardsdatascience.com/deep-neural-networks-for-kinship-prediction-using-face-photos-f2ad9ab53834)\n",
    "- [2020 Medium Article](https://medium.com/@sritejabanisetti21/kinship-recognition-through-a-double-siamese-network-b2edacf39aee)\n",
    "- [2020 Journal Article](https://www.researchgate.net/publication/341817234_Deep_Fusion_Siamese_Network_for_Automatic_Kinship_Verification)"
   ]
  },
  {
   "cell_type": "code",
   "execution_count": 74,
   "id": "5e3c237a",
   "metadata": {},
   "outputs": [],
   "source": [
    "from keras.models import Model\n",
    "from keras.layers import Input\n",
    "import tensorflow as tf\n",
    "# updated tensorflow version, which changes keras version to keras-2.14.0\n",
    "from tensorflow.keras.applications import VGG16  # Or another architecture"
   ]
  },
  {
   "cell_type": "markdown",
   "id": "d29ea462",
   "metadata": {},
   "source": [
    "# Choice of using pre-trained VGG16 model\n",
    "\n",
    "VGG16 returns a 4096-dimensional feature vector for each input image, while VGG Face model gives a 2048 dimensional vector once the fully connected layers are cut down. Whereas the FaceNet model returns a 128-dimensional vector for each face."
   ]
  },
  {
   "cell_type": "code",
   "execution_count": 135,
   "id": "77f5ad8c",
   "metadata": {},
   "outputs": [
    {
     "ename": "ValueError",
     "evalue": "The `weights` argument should be either `None` (random initialization), `imagenet` (pre-training on ImageNet), or the path to the weights file to be loaded.  Received: weights=resnet50",
     "output_type": "error",
     "traceback": [
      "\u001b[1;31m---------------------------------------------------------------------------\u001b[0m",
      "\u001b[1;31mValueError\u001b[0m                                Traceback (most recent call last)",
      "Cell \u001b[1;32mIn[135], line 3\u001b[0m\n\u001b[0;32m      1\u001b[0m IMG_DIM \u001b[38;5;241m=\u001b[39m (\u001b[38;5;241m224\u001b[39m,\u001b[38;5;241m224\u001b[39m,\u001b[38;5;241m3\u001b[39m)\n\u001b[1;32m----> 3\u001b[0m vggface \u001b[38;5;241m=\u001b[39m VGG16(include_top\u001b[38;5;241m=\u001b[39m\u001b[38;5;28;01mFalse\u001b[39;00m, weights\u001b[38;5;241m=\u001b[39m\u001b[38;5;124m'\u001b[39m\u001b[38;5;124mresnet50\u001b[39m\u001b[38;5;124m'\u001b[39m)\n\u001b[0;32m      5\u001b[0m \u001b[38;5;28;01mfor\u001b[39;00m layer \u001b[38;5;129;01min\u001b[39;00m vggface\u001b[38;5;241m.\u001b[39mlayers[:\u001b[38;5;241m-\u001b[39m\u001b[38;5;241m3\u001b[39m]:\n\u001b[0;32m      6\u001b[0m     layer\u001b[38;5;241m.\u001b[39mtrainable\u001b[38;5;241m=\u001b[39m\u001b[38;5;28;01mTrue\u001b[39;00m\n",
      "File \u001b[1;32m~\\anaconda3\\Lib\\site-packages\\keras\\src\\applications\\vgg16.py:122\u001b[0m, in \u001b[0;36mVGG16\u001b[1;34m(include_top, weights, input_tensor, input_shape, pooling, classes, classifier_activation)\u001b[0m\n\u001b[0;32m     58\u001b[0m \u001b[38;5;250m\u001b[39m\u001b[38;5;124;03m\"\"\"Instantiates the VGG16 model.\u001b[39;00m\n\u001b[0;32m     59\u001b[0m \n\u001b[0;32m     60\u001b[0m \u001b[38;5;124;03mReference:\u001b[39;00m\n\u001b[1;32m   (...)\u001b[0m\n\u001b[0;32m    119\u001b[0m \u001b[38;5;124;03m  A `keras.Model` instance.\u001b[39;00m\n\u001b[0;32m    120\u001b[0m \u001b[38;5;124;03m\"\"\"\u001b[39;00m\n\u001b[0;32m    121\u001b[0m \u001b[38;5;28;01mif\u001b[39;00m \u001b[38;5;129;01mnot\u001b[39;00m (weights \u001b[38;5;129;01min\u001b[39;00m {\u001b[38;5;124m\"\u001b[39m\u001b[38;5;124mimagenet\u001b[39m\u001b[38;5;124m\"\u001b[39m, \u001b[38;5;28;01mNone\u001b[39;00m} \u001b[38;5;129;01mor\u001b[39;00m tf\u001b[38;5;241m.\u001b[39mio\u001b[38;5;241m.\u001b[39mgfile\u001b[38;5;241m.\u001b[39mexists(weights)):\n\u001b[1;32m--> 122\u001b[0m     \u001b[38;5;28;01mraise\u001b[39;00m \u001b[38;5;167;01mValueError\u001b[39;00m(\n\u001b[0;32m    123\u001b[0m         \u001b[38;5;124m\"\u001b[39m\u001b[38;5;124mThe `weights` argument should be either \u001b[39m\u001b[38;5;124m\"\u001b[39m\n\u001b[0;32m    124\u001b[0m         \u001b[38;5;124m\"\u001b[39m\u001b[38;5;124m`None` (random initialization), `imagenet` \u001b[39m\u001b[38;5;124m\"\u001b[39m\n\u001b[0;32m    125\u001b[0m         \u001b[38;5;124m\"\u001b[39m\u001b[38;5;124m(pre-training on ImageNet), \u001b[39m\u001b[38;5;124m\"\u001b[39m\n\u001b[0;32m    126\u001b[0m         \u001b[38;5;124m\"\u001b[39m\u001b[38;5;124mor the path to the weights file to be loaded.  Received: \u001b[39m\u001b[38;5;124m\"\u001b[39m\n\u001b[0;32m    127\u001b[0m         \u001b[38;5;124mf\u001b[39m\u001b[38;5;124m\"\u001b[39m\u001b[38;5;124mweights=\u001b[39m\u001b[38;5;132;01m{\u001b[39;00mweights\u001b[38;5;132;01m}\u001b[39;00m\u001b[38;5;124m\"\u001b[39m\n\u001b[0;32m    128\u001b[0m     )\n\u001b[0;32m    130\u001b[0m \u001b[38;5;28;01mif\u001b[39;00m weights \u001b[38;5;241m==\u001b[39m \u001b[38;5;124m\"\u001b[39m\u001b[38;5;124mimagenet\u001b[39m\u001b[38;5;124m\"\u001b[39m \u001b[38;5;129;01mand\u001b[39;00m include_top \u001b[38;5;129;01mand\u001b[39;00m classes \u001b[38;5;241m!=\u001b[39m \u001b[38;5;241m1000\u001b[39m:\n\u001b[0;32m    131\u001b[0m     \u001b[38;5;28;01mraise\u001b[39;00m \u001b[38;5;167;01mValueError\u001b[39;00m(\n\u001b[0;32m    132\u001b[0m         \u001b[38;5;124m'\u001b[39m\u001b[38;5;124mIf using `weights` as `\u001b[39m\u001b[38;5;124m\"\u001b[39m\u001b[38;5;124mimagenet\u001b[39m\u001b[38;5;124m\"\u001b[39m\u001b[38;5;124m` with `include_top` \u001b[39m\u001b[38;5;124m'\u001b[39m\n\u001b[0;32m    133\u001b[0m         \u001b[38;5;124m\"\u001b[39m\u001b[38;5;124mas true, `classes` should be 1000.  \u001b[39m\u001b[38;5;124m\"\u001b[39m\n\u001b[0;32m    134\u001b[0m         \u001b[38;5;124mf\u001b[39m\u001b[38;5;124m\"\u001b[39m\u001b[38;5;124mReceived `classes=\u001b[39m\u001b[38;5;132;01m{\u001b[39;00mclasses\u001b[38;5;132;01m}\u001b[39;00m\u001b[38;5;124m`\u001b[39m\u001b[38;5;124m\"\u001b[39m\n\u001b[0;32m    135\u001b[0m     )\n",
      "\u001b[1;31mValueError\u001b[0m: The `weights` argument should be either `None` (random initialization), `imagenet` (pre-training on ImageNet), or the path to the weights file to be loaded.  Received: weights=resnet50"
     ]
    }
   ],
   "source": [
    "IMG_DIM = (224,224,3)\n",
    "\n",
    "vggface = VGG16(include_top=False, weights='imagenet')\n",
    "\n",
    "for layer in vggface.layers[:-3]:\n",
    "    layer.trainable=True"
   ]
  },
  {
   "cell_type": "code",
   "execution_count": 111,
   "id": "dcbc2e40",
   "metadata": {},
   "outputs": [],
   "source": [
    "#ChatGPT improved version of above cell. \n",
    "import numpy as np\n",
    "import tensorflow as tf\n",
    "\n",
    "def initialize_bias(shape, dtype=None, name=None):\n",
    "    if dtype is None:\n",
    "        dtype = tf.float32  # Set the default data type to float32\n",
    "    return tf.constant(np.random.normal(loc=0.5, scale=1e-2, size=shape), dtype=dtype, name=name)\n",
    "\n",
    "def initialize_weights(shape, dtype=None, name=None):\n",
    "    if dtype is None:\n",
    "        dtype = tf.float32  # Set the default data type to float32\n",
    "    return tf.constant(np.random.normal(loc=0.0, scale=1e-2, size=shape), dtype=dtype, name=name)\n"
   ]
  },
  {
   "cell_type": "markdown",
   "id": "8fccec12",
   "metadata": {},
   "source": [
    "### Version 1: Implementation of Siamese Network Architecture (Version 1 with adapted AUC measure)\n",
    "\n",
    "![Image](https://miro.medium.com/v2/resize:fit:828/format:webp/1*r_B3uuBzcQPB7jOseqfxpA.jpeg)\n",
    "\n",
    "\n",
    "\n",
    "The outputs from these models are passed through several other layers of the model and at last, a fully connected layer with a sigmoid function in the end, returns the probability score. "
   ]
  },
  {
   "cell_type": "code",
   "execution_count": 108,
   "id": "63c798d7",
   "metadata": {},
   "outputs": [],
   "source": [
    "from keras.layers import Input, Dense, Flatten, Subtract, Dropout, Multiply\n",
    "from keras.layers import Lambda, Concatenate, GlobalMaxPool2D, GlobalAvgPool2D\n",
    "from keras.models import Model\n",
    "from keras.regularizers import l2\n",
    "from keras import backend as K\n",
    "from keras.optimizers import SGD,Adam\n",
    "from keras.losses import binary_crossentropy\n",
    "import tensorflow as tf\n",
    "from sklearn.metrics import roc_auc_score\n",
    "\n",
    "def auc(y_true, y_pred):\n",
    "    y_true = tf.cast(y_true, dtype=tf.float32)\n",
    "    y_pred = tf.cast(y_pred, dtype=tf.float32)\n",
    "    #if len(np.unique(y_true)) == 1:\n",
    "    #    return 0.5  # or any other appropriate value, contains predefined value of 0.5\n",
    "    if tf.shape(y_true)[0] > 1:  \n",
    "        \n",
    "        auc_value = tf.py_function(lambda y_true, y_pred: roc_auc_score(y_true, y_pred, average='macro', multi_class='ovr'),\n",
    "                                   (y_true, y_pred), tf.float32)\n",
    "        \n",
    "        return auc_value\n",
    "    else:\n",
    "        return 0.5  # or any other appropriate value\n",
    "    \n",
    "    #return tf.py_function(roc_auc_score, (y_true, y_pred), tf.double)\n",
    "\n",
    "left_input = Input(IMG_DIM)\n",
    "right_input = Input(IMG_DIM)\n",
    "\n",
    "x1 = vggface(left_input)\n",
    "x2 = vggface(right_input)\n",
    "\n",
    "x1 = Concatenate(axis=-1)([GlobalMaxPool2D()(x1), GlobalAvgPool2D()(x1)])\n",
    "x2 = Concatenate(axis=-1)([GlobalMaxPool2D()(x2), GlobalAvgPool2D()(x2)])\n",
    "\n",
    "fc = Dense(100,activation='relu',kernel_regularizer=l2(1e-3),\n",
    "                   kernel_initializer=initialize_weights,bias_initializer=initialize_bias)\n",
    "x1 = fc(x1)\n",
    "x2 = fc(x2)\n",
    "\n",
    "# |h1-h2|\n",
    "x3 = Lambda(lambda tensors : K.abs(tensors[0] - tensors[1]))([x1, x2])\n",
    "\n",
    "# |h1-h2|^2\n",
    "x4 = Lambda(lambda tensor  : K.square(tensor))(x3)\n",
    "\n",
    "# h1*h2\n",
    "x5 = Multiply()([x1, x2])\n",
    "\n",
    "# |h1-h2|^2 + h1*h2\n",
    "x = Concatenate(axis=-1)([x4,x5])\n",
    "\n",
    "x = Dense(100,activation='relu',kernel_regularizer=l2(1e-3),\n",
    "                   kernel_initializer=initialize_weights,bias_initializer=initialize_bias)(x)\n",
    "x = Dropout(0.1)(x)\n",
    "\n",
    "\n",
    "prediction = Dense(1,activation='sigmoid',bias_initializer=initialize_bias)(x)\n",
    "\n",
    "siamese_net = Model(inputs=[left_input,right_input],outputs=prediction)\n",
    "\n",
    "#optimizer = Adam(1e-5)\n",
    "\n",
    "\"https://towardsdatascience.com/lossless-triplet-loss-7e932f990b24\"\n",
    "\n",
    "#compilation step, removed auc and only put accuracy\n",
    "siamese_net.compile(loss=\"binary_crossentropy\",optimizer= 'adam',metrics=['accuracy', auc]) #If needed, can put accuracy here"
   ]
  },
  {
   "cell_type": "code",
   "execution_count": 109,
   "id": "22dde805",
   "metadata": {},
   "outputs": [
    {
     "name": "stdout",
     "output_type": "stream",
     "text": [
      "Epoch 1/20\n",
      "200/200 [==============================] - ETA: 0s - loss: 0.7051 - accuracy: 0.5041 - auc: 0.4932 \n",
      "Epoch 1: val_auc improved from -inf to 0.50000, saving model to model_best_checkpoint.h5\n",
      "200/200 [==============================] - 2717s 14s/step - loss: 0.7051 - accuracy: 0.5041 - auc: 0.4932 - val_loss: 0.6947 - val_accuracy: 0.5000 - val_auc: 0.5000 - lr: 0.0010\n",
      "Epoch 2/20\n",
      "200/200 [==============================] - ETA: 0s - loss: 0.6985 - accuracy: 0.4959 - auc: 0.4923\n",
      "Epoch 2: val_auc did not improve from 0.50000\n",
      "200/200 [==============================] - 2153s 11s/step - loss: 0.6985 - accuracy: 0.4959 - auc: 0.4923 - val_loss: 0.6949 - val_accuracy: 0.5000 - val_auc: 0.5000 - lr: 0.0010\n",
      "Epoch 3/20\n",
      "200/200 [==============================] - ETA: 0s - loss: 0.6983 - accuracy: 0.4919 - auc: 0.4907\n",
      "Epoch 3: val_auc did not improve from 0.50000\n",
      "200/200 [==============================] - 2010s 10s/step - loss: 0.6983 - accuracy: 0.4919 - auc: 0.4907 - val_loss: 0.6952 - val_accuracy: 0.5000 - val_auc: 0.5000 - lr: 0.0010\n",
      "Epoch 4/20\n",
      "200/200 [==============================] - ETA: 0s - loss: 0.6961 - accuracy: 0.5109 - auc: 0.5041  \n",
      "Epoch 4: val_auc did not improve from 0.50000\n",
      "200/200 [==============================] - 24713s 124s/step - loss: 0.6961 - accuracy: 0.5109 - auc: 0.5041 - val_loss: 0.6949 - val_accuracy: 0.5000 - val_auc: 0.5000 - lr: 0.0010\n",
      "Epoch 5/20\n",
      "113/200 [===============>..............] - ETA: 18:53 - loss: 0.6951 - accuracy: 0.5271 - auc: 0.5144"
     ]
    },
    {
     "ename": "KeyboardInterrupt",
     "evalue": "",
     "output_type": "error",
     "traceback": [
      "\u001b[1;31m---------------------------------------------------------------------------\u001b[0m",
      "\u001b[1;31mKeyboardInterrupt\u001b[0m                         Traceback (most recent call last)",
      "Cell \u001b[1;32mIn[109], line 23\u001b[0m\n\u001b[0;32m     20\u001b[0m train_gen \u001b[38;5;241m=\u001b[39m data_generator(train, batch_size)\n\u001b[0;32m     21\u001b[0m val_gen \u001b[38;5;241m=\u001b[39m data_generator(val, batch_size)\n\u001b[1;32m---> 23\u001b[0m history \u001b[38;5;241m=\u001b[39m siamese_net\u001b[38;5;241m.\u001b[39mfit(train_gen, steps_per_epoch\u001b[38;5;241m=\u001b[39m\u001b[38;5;241m200\u001b[39m, epochs\u001b[38;5;241m=\u001b[39m\u001b[38;5;241m20\u001b[39m, \u001b[38;5;66;03m#Changed from 100 to 20\u001b[39;00m\n\u001b[0;32m     24\u001b[0m                           validation_data\u001b[38;5;241m=\u001b[39mval_gen, validation_steps\u001b[38;5;241m=\u001b[39m\u001b[38;5;241m100\u001b[39m,\n\u001b[0;32m     25\u001b[0m                           verbose\u001b[38;5;241m=\u001b[39m\u001b[38;5;241m1\u001b[39m, callbacks\u001b[38;5;241m=\u001b[39mcallbacks_list)\n",
      "File \u001b[1;32m~\\anaconda3\\Lib\\site-packages\\keras\\src\\utils\\traceback_utils.py:65\u001b[0m, in \u001b[0;36mfilter_traceback.<locals>.error_handler\u001b[1;34m(*args, **kwargs)\u001b[0m\n\u001b[0;32m     63\u001b[0m filtered_tb \u001b[38;5;241m=\u001b[39m \u001b[38;5;28;01mNone\u001b[39;00m\n\u001b[0;32m     64\u001b[0m \u001b[38;5;28;01mtry\u001b[39;00m:\n\u001b[1;32m---> 65\u001b[0m     \u001b[38;5;28;01mreturn\u001b[39;00m fn(\u001b[38;5;241m*\u001b[39margs, \u001b[38;5;241m*\u001b[39m\u001b[38;5;241m*\u001b[39mkwargs)\n\u001b[0;32m     66\u001b[0m \u001b[38;5;28;01mexcept\u001b[39;00m \u001b[38;5;167;01mException\u001b[39;00m \u001b[38;5;28;01mas\u001b[39;00m e:\n\u001b[0;32m     67\u001b[0m     filtered_tb \u001b[38;5;241m=\u001b[39m _process_traceback_frames(e\u001b[38;5;241m.\u001b[39m__traceback__)\n",
      "File \u001b[1;32m~\\anaconda3\\Lib\\site-packages\\keras\\src\\engine\\training.py:1783\u001b[0m, in \u001b[0;36mModel.fit\u001b[1;34m(self, x, y, batch_size, epochs, verbose, callbacks, validation_split, validation_data, shuffle, class_weight, sample_weight, initial_epoch, steps_per_epoch, validation_steps, validation_batch_size, validation_freq, max_queue_size, workers, use_multiprocessing)\u001b[0m\n\u001b[0;32m   1775\u001b[0m \u001b[38;5;28;01mwith\u001b[39;00m tf\u001b[38;5;241m.\u001b[39mprofiler\u001b[38;5;241m.\u001b[39mexperimental\u001b[38;5;241m.\u001b[39mTrace(\n\u001b[0;32m   1776\u001b[0m     \u001b[38;5;124m\"\u001b[39m\u001b[38;5;124mtrain\u001b[39m\u001b[38;5;124m\"\u001b[39m,\n\u001b[0;32m   1777\u001b[0m     epoch_num\u001b[38;5;241m=\u001b[39mepoch,\n\u001b[1;32m   (...)\u001b[0m\n\u001b[0;32m   1780\u001b[0m     _r\u001b[38;5;241m=\u001b[39m\u001b[38;5;241m1\u001b[39m,\n\u001b[0;32m   1781\u001b[0m ):\n\u001b[0;32m   1782\u001b[0m     callbacks\u001b[38;5;241m.\u001b[39mon_train_batch_begin(step)\n\u001b[1;32m-> 1783\u001b[0m     tmp_logs \u001b[38;5;241m=\u001b[39m \u001b[38;5;28mself\u001b[39m\u001b[38;5;241m.\u001b[39mtrain_function(iterator)\n\u001b[0;32m   1784\u001b[0m     \u001b[38;5;28;01mif\u001b[39;00m data_handler\u001b[38;5;241m.\u001b[39mshould_sync:\n\u001b[0;32m   1785\u001b[0m         context\u001b[38;5;241m.\u001b[39masync_wait()\n",
      "File \u001b[1;32m~\\anaconda3\\Lib\\site-packages\\tensorflow\\python\\util\\traceback_utils.py:150\u001b[0m, in \u001b[0;36mfilter_traceback.<locals>.error_handler\u001b[1;34m(*args, **kwargs)\u001b[0m\n\u001b[0;32m    148\u001b[0m filtered_tb \u001b[38;5;241m=\u001b[39m \u001b[38;5;28;01mNone\u001b[39;00m\n\u001b[0;32m    149\u001b[0m \u001b[38;5;28;01mtry\u001b[39;00m:\n\u001b[1;32m--> 150\u001b[0m   \u001b[38;5;28;01mreturn\u001b[39;00m fn(\u001b[38;5;241m*\u001b[39margs, \u001b[38;5;241m*\u001b[39m\u001b[38;5;241m*\u001b[39mkwargs)\n\u001b[0;32m    151\u001b[0m \u001b[38;5;28;01mexcept\u001b[39;00m \u001b[38;5;167;01mException\u001b[39;00m \u001b[38;5;28;01mas\u001b[39;00m e:\n\u001b[0;32m    152\u001b[0m   filtered_tb \u001b[38;5;241m=\u001b[39m _process_traceback_frames(e\u001b[38;5;241m.\u001b[39m__traceback__)\n",
      "File \u001b[1;32m~\\anaconda3\\Lib\\site-packages\\tensorflow\\python\\eager\\polymorphic_function\\polymorphic_function.py:831\u001b[0m, in \u001b[0;36mFunction.__call__\u001b[1;34m(self, *args, **kwds)\u001b[0m\n\u001b[0;32m    828\u001b[0m compiler \u001b[38;5;241m=\u001b[39m \u001b[38;5;124m\"\u001b[39m\u001b[38;5;124mxla\u001b[39m\u001b[38;5;124m\"\u001b[39m \u001b[38;5;28;01mif\u001b[39;00m \u001b[38;5;28mself\u001b[39m\u001b[38;5;241m.\u001b[39m_jit_compile \u001b[38;5;28;01melse\u001b[39;00m \u001b[38;5;124m\"\u001b[39m\u001b[38;5;124mnonXla\u001b[39m\u001b[38;5;124m\"\u001b[39m\n\u001b[0;32m    830\u001b[0m \u001b[38;5;28;01mwith\u001b[39;00m OptionalXlaContext(\u001b[38;5;28mself\u001b[39m\u001b[38;5;241m.\u001b[39m_jit_compile):\n\u001b[1;32m--> 831\u001b[0m   result \u001b[38;5;241m=\u001b[39m \u001b[38;5;28mself\u001b[39m\u001b[38;5;241m.\u001b[39m_call(\u001b[38;5;241m*\u001b[39margs, \u001b[38;5;241m*\u001b[39m\u001b[38;5;241m*\u001b[39mkwds)\n\u001b[0;32m    833\u001b[0m new_tracing_count \u001b[38;5;241m=\u001b[39m \u001b[38;5;28mself\u001b[39m\u001b[38;5;241m.\u001b[39mexperimental_get_tracing_count()\n\u001b[0;32m    834\u001b[0m without_tracing \u001b[38;5;241m=\u001b[39m (tracing_count \u001b[38;5;241m==\u001b[39m new_tracing_count)\n",
      "File \u001b[1;32m~\\anaconda3\\Lib\\site-packages\\tensorflow\\python\\eager\\polymorphic_function\\polymorphic_function.py:867\u001b[0m, in \u001b[0;36mFunction._call\u001b[1;34m(self, *args, **kwds)\u001b[0m\n\u001b[0;32m    864\u001b[0m   \u001b[38;5;28mself\u001b[39m\u001b[38;5;241m.\u001b[39m_lock\u001b[38;5;241m.\u001b[39mrelease()\n\u001b[0;32m    865\u001b[0m   \u001b[38;5;66;03m# In this case we have created variables on the first call, so we run the\u001b[39;00m\n\u001b[0;32m    866\u001b[0m   \u001b[38;5;66;03m# defunned version which is guaranteed to never create variables.\u001b[39;00m\n\u001b[1;32m--> 867\u001b[0m   \u001b[38;5;28;01mreturn\u001b[39;00m tracing_compilation\u001b[38;5;241m.\u001b[39mcall_function(\n\u001b[0;32m    868\u001b[0m       args, kwds, \u001b[38;5;28mself\u001b[39m\u001b[38;5;241m.\u001b[39m_no_variable_creation_config\n\u001b[0;32m    869\u001b[0m   )\n\u001b[0;32m    870\u001b[0m \u001b[38;5;28;01melif\u001b[39;00m \u001b[38;5;28mself\u001b[39m\u001b[38;5;241m.\u001b[39m_variable_creation_config \u001b[38;5;129;01mis\u001b[39;00m \u001b[38;5;129;01mnot\u001b[39;00m \u001b[38;5;28;01mNone\u001b[39;00m:\n\u001b[0;32m    871\u001b[0m   \u001b[38;5;66;03m# Release the lock early so that multiple threads can perform the call\u001b[39;00m\n\u001b[0;32m    872\u001b[0m   \u001b[38;5;66;03m# in parallel.\u001b[39;00m\n\u001b[0;32m    873\u001b[0m   \u001b[38;5;28mself\u001b[39m\u001b[38;5;241m.\u001b[39m_lock\u001b[38;5;241m.\u001b[39mrelease()\n",
      "File \u001b[1;32m~\\anaconda3\\Lib\\site-packages\\tensorflow\\python\\eager\\polymorphic_function\\tracing_compilation.py:139\u001b[0m, in \u001b[0;36mcall_function\u001b[1;34m(args, kwargs, tracing_options)\u001b[0m\n\u001b[0;32m    137\u001b[0m bound_args \u001b[38;5;241m=\u001b[39m function\u001b[38;5;241m.\u001b[39mfunction_type\u001b[38;5;241m.\u001b[39mbind(\u001b[38;5;241m*\u001b[39margs, \u001b[38;5;241m*\u001b[39m\u001b[38;5;241m*\u001b[39mkwargs)\n\u001b[0;32m    138\u001b[0m flat_inputs \u001b[38;5;241m=\u001b[39m function\u001b[38;5;241m.\u001b[39mfunction_type\u001b[38;5;241m.\u001b[39munpack_inputs(bound_args)\n\u001b[1;32m--> 139\u001b[0m \u001b[38;5;28;01mreturn\u001b[39;00m function\u001b[38;5;241m.\u001b[39m_call_flat(  \u001b[38;5;66;03m# pylint: disable=protected-access\u001b[39;00m\n\u001b[0;32m    140\u001b[0m     flat_inputs, captured_inputs\u001b[38;5;241m=\u001b[39mfunction\u001b[38;5;241m.\u001b[39mcaptured_inputs\n\u001b[0;32m    141\u001b[0m )\n",
      "File \u001b[1;32m~\\anaconda3\\Lib\\site-packages\\tensorflow\\python\\eager\\polymorphic_function\\concrete_function.py:1264\u001b[0m, in \u001b[0;36mConcreteFunction._call_flat\u001b[1;34m(self, tensor_inputs, captured_inputs)\u001b[0m\n\u001b[0;32m   1260\u001b[0m possible_gradient_type \u001b[38;5;241m=\u001b[39m gradients_util\u001b[38;5;241m.\u001b[39mPossibleTapeGradientTypes(args)\n\u001b[0;32m   1261\u001b[0m \u001b[38;5;28;01mif\u001b[39;00m (possible_gradient_type \u001b[38;5;241m==\u001b[39m gradients_util\u001b[38;5;241m.\u001b[39mPOSSIBLE_GRADIENT_TYPES_NONE\n\u001b[0;32m   1262\u001b[0m     \u001b[38;5;129;01mand\u001b[39;00m executing_eagerly):\n\u001b[0;32m   1263\u001b[0m   \u001b[38;5;66;03m# No tape is watching; skip to running the function.\u001b[39;00m\n\u001b[1;32m-> 1264\u001b[0m   \u001b[38;5;28;01mreturn\u001b[39;00m \u001b[38;5;28mself\u001b[39m\u001b[38;5;241m.\u001b[39m_inference_function\u001b[38;5;241m.\u001b[39mflat_call(args)\n\u001b[0;32m   1265\u001b[0m forward_backward \u001b[38;5;241m=\u001b[39m \u001b[38;5;28mself\u001b[39m\u001b[38;5;241m.\u001b[39m_select_forward_and_backward_functions(\n\u001b[0;32m   1266\u001b[0m     args,\n\u001b[0;32m   1267\u001b[0m     possible_gradient_type,\n\u001b[0;32m   1268\u001b[0m     executing_eagerly)\n\u001b[0;32m   1269\u001b[0m forward_function, args_with_tangents \u001b[38;5;241m=\u001b[39m forward_backward\u001b[38;5;241m.\u001b[39mforward()\n",
      "File \u001b[1;32m~\\anaconda3\\Lib\\site-packages\\tensorflow\\python\\eager\\polymorphic_function\\atomic_function.py:217\u001b[0m, in \u001b[0;36mAtomicFunction.flat_call\u001b[1;34m(self, args)\u001b[0m\n\u001b[0;32m    215\u001b[0m \u001b[38;5;28;01mdef\u001b[39;00m \u001b[38;5;21mflat_call\u001b[39m(\u001b[38;5;28mself\u001b[39m, args: Sequence[core\u001b[38;5;241m.\u001b[39mTensor]) \u001b[38;5;241m-\u001b[39m\u001b[38;5;241m>\u001b[39m Any:\n\u001b[0;32m    216\u001b[0m \u001b[38;5;250m  \u001b[39m\u001b[38;5;124;03m\"\"\"Calls with tensor inputs and returns the structured output.\"\"\"\u001b[39;00m\n\u001b[1;32m--> 217\u001b[0m   flat_outputs \u001b[38;5;241m=\u001b[39m \u001b[38;5;28mself\u001b[39m(\u001b[38;5;241m*\u001b[39margs)\n\u001b[0;32m    218\u001b[0m   \u001b[38;5;28;01mreturn\u001b[39;00m \u001b[38;5;28mself\u001b[39m\u001b[38;5;241m.\u001b[39mfunction_type\u001b[38;5;241m.\u001b[39mpack_output(flat_outputs)\n",
      "File \u001b[1;32m~\\anaconda3\\Lib\\site-packages\\tensorflow\\python\\eager\\polymorphic_function\\atomic_function.py:252\u001b[0m, in \u001b[0;36mAtomicFunction.__call__\u001b[1;34m(self, *args)\u001b[0m\n\u001b[0;32m    250\u001b[0m \u001b[38;5;28;01mwith\u001b[39;00m record\u001b[38;5;241m.\u001b[39mstop_recording():\n\u001b[0;32m    251\u001b[0m   \u001b[38;5;28;01mif\u001b[39;00m \u001b[38;5;28mself\u001b[39m\u001b[38;5;241m.\u001b[39m_bound_context\u001b[38;5;241m.\u001b[39mexecuting_eagerly():\n\u001b[1;32m--> 252\u001b[0m     outputs \u001b[38;5;241m=\u001b[39m \u001b[38;5;28mself\u001b[39m\u001b[38;5;241m.\u001b[39m_bound_context\u001b[38;5;241m.\u001b[39mcall_function(\n\u001b[0;32m    253\u001b[0m         \u001b[38;5;28mself\u001b[39m\u001b[38;5;241m.\u001b[39mname,\n\u001b[0;32m    254\u001b[0m         \u001b[38;5;28mlist\u001b[39m(args),\n\u001b[0;32m    255\u001b[0m         \u001b[38;5;28mlen\u001b[39m(\u001b[38;5;28mself\u001b[39m\u001b[38;5;241m.\u001b[39mfunction_type\u001b[38;5;241m.\u001b[39mflat_outputs),\n\u001b[0;32m    256\u001b[0m     )\n\u001b[0;32m    257\u001b[0m   \u001b[38;5;28;01melse\u001b[39;00m:\n\u001b[0;32m    258\u001b[0m     outputs \u001b[38;5;241m=\u001b[39m make_call_op_in_graph(\n\u001b[0;32m    259\u001b[0m         \u001b[38;5;28mself\u001b[39m,\n\u001b[0;32m    260\u001b[0m         \u001b[38;5;28mlist\u001b[39m(args),\n\u001b[0;32m    261\u001b[0m         \u001b[38;5;28mself\u001b[39m\u001b[38;5;241m.\u001b[39m_bound_context\u001b[38;5;241m.\u001b[39mfunction_call_options\u001b[38;5;241m.\u001b[39mas_attrs(),\n\u001b[0;32m    262\u001b[0m     )\n",
      "File \u001b[1;32m~\\anaconda3\\Lib\\site-packages\\tensorflow\\python\\eager\\context.py:1479\u001b[0m, in \u001b[0;36mContext.call_function\u001b[1;34m(self, name, tensor_inputs, num_outputs)\u001b[0m\n\u001b[0;32m   1477\u001b[0m cancellation_context \u001b[38;5;241m=\u001b[39m cancellation\u001b[38;5;241m.\u001b[39mcontext()\n\u001b[0;32m   1478\u001b[0m \u001b[38;5;28;01mif\u001b[39;00m cancellation_context \u001b[38;5;129;01mis\u001b[39;00m \u001b[38;5;28;01mNone\u001b[39;00m:\n\u001b[1;32m-> 1479\u001b[0m   outputs \u001b[38;5;241m=\u001b[39m execute\u001b[38;5;241m.\u001b[39mexecute(\n\u001b[0;32m   1480\u001b[0m       name\u001b[38;5;241m.\u001b[39mdecode(\u001b[38;5;124m\"\u001b[39m\u001b[38;5;124mutf-8\u001b[39m\u001b[38;5;124m\"\u001b[39m),\n\u001b[0;32m   1481\u001b[0m       num_outputs\u001b[38;5;241m=\u001b[39mnum_outputs,\n\u001b[0;32m   1482\u001b[0m       inputs\u001b[38;5;241m=\u001b[39mtensor_inputs,\n\u001b[0;32m   1483\u001b[0m       attrs\u001b[38;5;241m=\u001b[39mattrs,\n\u001b[0;32m   1484\u001b[0m       ctx\u001b[38;5;241m=\u001b[39m\u001b[38;5;28mself\u001b[39m,\n\u001b[0;32m   1485\u001b[0m   )\n\u001b[0;32m   1486\u001b[0m \u001b[38;5;28;01melse\u001b[39;00m:\n\u001b[0;32m   1487\u001b[0m   outputs \u001b[38;5;241m=\u001b[39m execute\u001b[38;5;241m.\u001b[39mexecute_with_cancellation(\n\u001b[0;32m   1488\u001b[0m       name\u001b[38;5;241m.\u001b[39mdecode(\u001b[38;5;124m\"\u001b[39m\u001b[38;5;124mutf-8\u001b[39m\u001b[38;5;124m\"\u001b[39m),\n\u001b[0;32m   1489\u001b[0m       num_outputs\u001b[38;5;241m=\u001b[39mnum_outputs,\n\u001b[1;32m   (...)\u001b[0m\n\u001b[0;32m   1493\u001b[0m       cancellation_manager\u001b[38;5;241m=\u001b[39mcancellation_context,\n\u001b[0;32m   1494\u001b[0m   )\n",
      "File \u001b[1;32m~\\anaconda3\\Lib\\site-packages\\tensorflow\\python\\eager\\execute.py:60\u001b[0m, in \u001b[0;36mquick_execute\u001b[1;34m(op_name, num_outputs, inputs, attrs, ctx, name)\u001b[0m\n\u001b[0;32m     53\u001b[0m   \u001b[38;5;66;03m# Convert any objects of type core_types.Tensor to Tensor.\u001b[39;00m\n\u001b[0;32m     54\u001b[0m   inputs \u001b[38;5;241m=\u001b[39m [\n\u001b[0;32m     55\u001b[0m       tensor_conversion_registry\u001b[38;5;241m.\u001b[39mconvert(t)\n\u001b[0;32m     56\u001b[0m       \u001b[38;5;28;01mif\u001b[39;00m \u001b[38;5;28misinstance\u001b[39m(t, core_types\u001b[38;5;241m.\u001b[39mTensor)\n\u001b[0;32m     57\u001b[0m       \u001b[38;5;28;01melse\u001b[39;00m t\n\u001b[0;32m     58\u001b[0m       \u001b[38;5;28;01mfor\u001b[39;00m t \u001b[38;5;129;01min\u001b[39;00m inputs\n\u001b[0;32m     59\u001b[0m   ]\n\u001b[1;32m---> 60\u001b[0m   tensors \u001b[38;5;241m=\u001b[39m pywrap_tfe\u001b[38;5;241m.\u001b[39mTFE_Py_Execute(ctx\u001b[38;5;241m.\u001b[39m_handle, device_name, op_name,\n\u001b[0;32m     61\u001b[0m                                       inputs, attrs, num_outputs)\n\u001b[0;32m     62\u001b[0m \u001b[38;5;28;01mexcept\u001b[39;00m core\u001b[38;5;241m.\u001b[39m_NotOkStatusException \u001b[38;5;28;01mas\u001b[39;00m e:\n\u001b[0;32m     63\u001b[0m   \u001b[38;5;28;01mif\u001b[39;00m name \u001b[38;5;129;01mis\u001b[39;00m \u001b[38;5;129;01mnot\u001b[39;00m \u001b[38;5;28;01mNone\u001b[39;00m:\n",
      "\u001b[1;31mKeyboardInterrupt\u001b[0m: "
     ]
    }
   ],
   "source": [
    "# This is for precise_relationships folder, with fd,fs,md,ms.\n",
    "from keras.callbacks import ReduceLROnPlateau, ModelCheckpoint, EarlyStopping\n",
    "\n",
    "reducelr = ReduceLROnPlateau(monitor='val_auc', mode='max', patience=6, factor=0.1, verbose=1)\n",
    "\n",
    "model_checkpoint = ModelCheckpoint('model_best_checkpoint.h5', save_best_only=True,\n",
    "                                   save_weights_only=True, monitor='val_auc', mode='max', verbose=1)\n",
    "\n",
    "early_stopping = EarlyStopping(monitor='val_auc', patience=20, mode='max')\n",
    "\n",
    "callbacks_list = [reducelr, model_checkpoint, early_stopping]\n",
    "\n",
    "batch_size = 16\n",
    "\n",
    "def data_generator(data, batch_size):\n",
    "    while True:\n",
    "        batch_data = getMiniBatch(batch_size=batch_size, data=data)\n",
    "        yield batch_data\n",
    "\n",
    "train_gen = data_generator(train, batch_size)\n",
    "val_gen = data_generator(val, batch_size)\n",
    "\n",
    "history = siamese_net.fit(train_gen, steps_per_epoch=200, epochs=20, #Changed from 100 to 20\n",
    "                          validation_data=val_gen, validation_steps=100,\n",
    "                          verbose=1, callbacks=callbacks_list)"
   ]
  },
  {
   "cell_type": "markdown",
   "id": "6a71af3a",
   "metadata": {},
   "source": [
    "## Version 2: Siamese Network Architecture with Smaller Dataset, using Asian-only Faces"
   ]
  },
  {
   "cell_type": "code",
   "execution_count": 82,
   "id": "97c21864",
   "metadata": {},
   "outputs": [
    {
     "name": "stdout",
     "output_type": "stream",
     "text": [
      "Epoch 1/5\n",
      "200/200 [==============================] - ETA: 0s - loss: 4.9143 - accuracy: 0.5056WARNING:tensorflow:Learning rate reduction is conditioned on metric `val_auc` which is not available. Available metrics are: loss,accuracy,val_loss,val_accuracy,lr\n",
      "WARNING:tensorflow:Can save best model only with val_auc available, skipping.\n",
      "WARNING:tensorflow:Early stopping conditioned on metric `val_auc` which is not available. Available metrics are: loss,accuracy,val_loss,val_accuracy,lr\n",
      "200/200 [==============================] - 2104s 10s/step - loss: 4.9143 - accuracy: 0.5056 - val_loss: 0.6968 - val_accuracy: 0.5000 - lr: 0.0010\n",
      "Epoch 2/5\n",
      "200/200 [==============================] - ETA: 0s - loss: 0.7021 - accuracy: 0.5038 WARNING:tensorflow:Learning rate reduction is conditioned on metric `val_auc` which is not available. Available metrics are: loss,accuracy,val_loss,val_accuracy,lr\n",
      "WARNING:tensorflow:Can save best model only with val_auc available, skipping.\n",
      "WARNING:tensorflow:Early stopping conditioned on metric `val_auc` which is not available. Available metrics are: loss,accuracy,val_loss,val_accuracy,lr\n",
      "200/200 [==============================] - 2494s 12s/step - loss: 0.7021 - accuracy: 0.5038 - val_loss: 0.6969 - val_accuracy: 0.5000 - lr: 0.0010\n",
      "Epoch 3/5\n",
      "200/200 [==============================] - ETA: 0s - loss: 0.6998 - accuracy: 0.5031 WARNING:tensorflow:Learning rate reduction is conditioned on metric `val_auc` which is not available. Available metrics are: loss,accuracy,val_loss,val_accuracy,lr\n",
      "WARNING:tensorflow:Can save best model only with val_auc available, skipping.\n",
      "WARNING:tensorflow:Early stopping conditioned on metric `val_auc` which is not available. Available metrics are: loss,accuracy,val_loss,val_accuracy,lr\n",
      "200/200 [==============================] - 2365s 12s/step - loss: 0.6998 - accuracy: 0.5031 - val_loss: 0.6967 - val_accuracy: 0.5000 - lr: 0.0010\n",
      "Epoch 4/5\n",
      "200/200 [==============================] - ETA: 0s - loss: 0.6968 - accuracy: 0.5194WARNING:tensorflow:Learning rate reduction is conditioned on metric `val_auc` which is not available. Available metrics are: loss,accuracy,val_loss,val_accuracy,lr\n",
      "WARNING:tensorflow:Can save best model only with val_auc available, skipping.\n",
      "WARNING:tensorflow:Early stopping conditioned on metric `val_auc` which is not available. Available metrics are: loss,accuracy,val_loss,val_accuracy,lr\n",
      "200/200 [==============================] - 1988s 10s/step - loss: 0.6968 - accuracy: 0.5194 - val_loss: 0.6969 - val_accuracy: 0.5000 - lr: 0.0010\n",
      "Epoch 5/5\n",
      "200/200 [==============================] - ETA: 0s - loss: 0.7015 - accuracy: 0.4975  WARNING:tensorflow:Learning rate reduction is conditioned on metric `val_auc` which is not available. Available metrics are: loss,accuracy,val_loss,val_accuracy,lr\n",
      "WARNING:tensorflow:Can save best model only with val_auc available, skipping.\n",
      "WARNING:tensorflow:Early stopping conditioned on metric `val_auc` which is not available. Available metrics are: loss,accuracy,val_loss,val_accuracy,lr\n",
      "200/200 [==============================] - 21043s 106s/step - loss: 0.7015 - accuracy: 0.4975 - val_loss: 0.6967 - val_accuracy: 0.5000 - lr: 0.0010\n"
     ]
    }
   ],
   "source": [
    "# This is for FITW Combined Families using FITW_relationships.csv\n",
    "from keras.callbacks import ReduceLROnPlateau, ModelCheckpoint, EarlyStopping\n",
    "\n",
    "reducelr = ReduceLROnPlateau(monitor='val_auc', mode='max', patience=6, factor=0.1, verbose=1)\n",
    "\n",
    "model_checkpoint = ModelCheckpoint('model_best_checkpoint.h5', save_best_only=True,\n",
    "                                   save_weights_only=True, monitor='val_auc', mode='max', verbose=1)\n",
    "\n",
    "early_stopping = EarlyStopping(monitor='val_auc', patience=20, mode='max')\n",
    "\n",
    "callbacks_list = [reducelr, model_checkpoint, early_stopping]\n",
    "\n",
    "batch_size = 16\n",
    "\n",
    "def data_generator(data, batch_size):\n",
    "    while True:\n",
    "        batch_data = getMiniBatch(batch_size=batch_size, data=data)\n",
    "        yield batch_data\n",
    "\n",
    "train_gen = data_generator(train, batch_size)\n",
    "val_gen = data_generator(val, batch_size)\n",
    "\n",
    "history = siamese_net.fit(train_gen, steps_per_epoch=200, epochs=20, #Changed from 100 to 50\n",
    "                          validation_data=val_gen, validation_steps=100,\n",
    "                          verbose=1, callbacks=callbacks_list)"
   ]
  },
  {
   "cell_type": "code",
   "execution_count": null,
   "id": "aca5bf78",
   "metadata": {},
   "outputs": [],
   "source": [
    "from keras.callbacks import ReduceLROnPlateau, ModelCheckpoint, EarlyStopping\n",
    "\n",
    "reducelr = ReduceLROnPlateau(monitor='val_auc', mode='max', patience=6, factor=0.1, verbose=1)\n",
    "\n",
    "model_checkpoint = ModelCheckpoint('model_best_checkpoint.h5', save_best_only=True,\n",
    "                                   save_weights_only=True, monitor='val_auc', mode='max', verbose=1)\n",
    "\n",
    "early_stopping = EarlyStopping(monitor='val_auc', patience=20, mode='max')\n",
    "\n",
    "callbacks_list = [reducelr, model_checkpoint, early_stopping]\n",
    "\n",
    "batch_size = 16\n",
    "\n",
    "def data_generator(data, batch_size):\n",
    "    while True:\n",
    "        batch_data = getMiniBatch(batch_size=batch_size, data=data)\n",
    "        yield batch_data\n",
    "\n",
    "train_gen = data_generator(train, batch_size)\n",
    "val_gen = data_generator(val, batch_size)\n",
    "\n",
    "history = siamese_net.fit(train_gen, steps_per_epoch=200, epochs=20, #Changed from 100 to 50\n",
    "                          validation_data=val_gen, validation_steps=100,\n",
    "                          verbose=1, callbacks=callbacks_list)"
   ]
  },
  {
   "cell_type": "code",
   "execution_count": 96,
   "id": "ccd7fec8",
   "metadata": {},
   "outputs": [
    {
     "name": "stdout",
     "output_type": "stream",
     "text": [
      "    374/Unknown - 718s 2s/step - loss: 0.7070 - accuracy: 0.5027"
     ]
    },
    {
     "ename": "KeyboardInterrupt",
     "evalue": "",
     "output_type": "error",
     "traceback": [
      "\u001b[1;31m---------------------------------------------------------------------------\u001b[0m",
      "\u001b[1;31mKeyboardInterrupt\u001b[0m                         Traceback (most recent call last)",
      "Cell \u001b[1;32mIn[96], line 2\u001b[0m\n\u001b[0;32m      1\u001b[0m \u001b[38;5;66;03m# Evaluate the model on the training and validation sets from Merlion Code\u001b[39;00m\n\u001b[1;32m----> 2\u001b[0m train_accuracy \u001b[38;5;241m=\u001b[39m siamese_net\u001b[38;5;241m.\u001b[39mevaluate(train_gen)[\u001b[38;5;241m1\u001b[39m]\n\u001b[0;32m      3\u001b[0m test_accuracy \u001b[38;5;241m=\u001b[39m siamese_net\u001b[38;5;241m.\u001b[39mevaluate(validation_gen)[\u001b[38;5;241m1\u001b[39m]\n\u001b[0;32m      5\u001b[0m \u001b[38;5;28mprint\u001b[39m(\u001b[38;5;124m\"\u001b[39m\u001b[38;5;124mTrain accuracy:\u001b[39m\u001b[38;5;124m\"\u001b[39m, train_accuracy)\n",
      "File \u001b[1;32m~\\anaconda3\\Lib\\site-packages\\keras\\src\\utils\\traceback_utils.py:65\u001b[0m, in \u001b[0;36mfilter_traceback.<locals>.error_handler\u001b[1;34m(*args, **kwargs)\u001b[0m\n\u001b[0;32m     63\u001b[0m filtered_tb \u001b[38;5;241m=\u001b[39m \u001b[38;5;28;01mNone\u001b[39;00m\n\u001b[0;32m     64\u001b[0m \u001b[38;5;28;01mtry\u001b[39;00m:\n\u001b[1;32m---> 65\u001b[0m     \u001b[38;5;28;01mreturn\u001b[39;00m fn(\u001b[38;5;241m*\u001b[39margs, \u001b[38;5;241m*\u001b[39m\u001b[38;5;241m*\u001b[39mkwargs)\n\u001b[0;32m     66\u001b[0m \u001b[38;5;28;01mexcept\u001b[39;00m \u001b[38;5;167;01mException\u001b[39;00m \u001b[38;5;28;01mas\u001b[39;00m e:\n\u001b[0;32m     67\u001b[0m     filtered_tb \u001b[38;5;241m=\u001b[39m _process_traceback_frames(e\u001b[38;5;241m.\u001b[39m__traceback__)\n",
      "File \u001b[1;32m~\\anaconda3\\Lib\\site-packages\\keras\\src\\engine\\training.py:2272\u001b[0m, in \u001b[0;36mModel.evaluate\u001b[1;34m(self, x, y, batch_size, verbose, sample_weight, steps, callbacks, max_queue_size, workers, use_multiprocessing, return_dict, **kwargs)\u001b[0m\n\u001b[0;32m   2268\u001b[0m             \u001b[38;5;28;01mwith\u001b[39;00m tf\u001b[38;5;241m.\u001b[39mprofiler\u001b[38;5;241m.\u001b[39mexperimental\u001b[38;5;241m.\u001b[39mTrace(\n\u001b[0;32m   2269\u001b[0m                 \u001b[38;5;124m\"\u001b[39m\u001b[38;5;124mtest\u001b[39m\u001b[38;5;124m\"\u001b[39m, step_num\u001b[38;5;241m=\u001b[39mstep, _r\u001b[38;5;241m=\u001b[39m\u001b[38;5;241m1\u001b[39m\n\u001b[0;32m   2270\u001b[0m             ):\n\u001b[0;32m   2271\u001b[0m                 callbacks\u001b[38;5;241m.\u001b[39mon_test_batch_begin(step)\n\u001b[1;32m-> 2272\u001b[0m                 logs \u001b[38;5;241m=\u001b[39m test_function_runner\u001b[38;5;241m.\u001b[39mrun_step(\n\u001b[0;32m   2273\u001b[0m                     dataset_or_iterator,\n\u001b[0;32m   2274\u001b[0m                     data_handler,\n\u001b[0;32m   2275\u001b[0m                     step,\n\u001b[0;32m   2276\u001b[0m                     \u001b[38;5;28mself\u001b[39m\u001b[38;5;241m.\u001b[39m_pss_evaluation_shards,\n\u001b[0;32m   2277\u001b[0m                 )\n\u001b[0;32m   2279\u001b[0m logs \u001b[38;5;241m=\u001b[39m tf_utils\u001b[38;5;241m.\u001b[39msync_to_numpy_or_python_type(logs)\n\u001b[0;32m   2280\u001b[0m \u001b[38;5;66;03m# Override with model metrics instead of last step logs\u001b[39;00m\n",
      "File \u001b[1;32m~\\anaconda3\\Lib\\site-packages\\keras\\src\\engine\\training.py:4079\u001b[0m, in \u001b[0;36m_TestFunction.run_step\u001b[1;34m(self, dataset_or_iterator, data_handler, step, unused_shards)\u001b[0m\n\u001b[0;32m   4078\u001b[0m \u001b[38;5;28;01mdef\u001b[39;00m \u001b[38;5;21mrun_step\u001b[39m(\u001b[38;5;28mself\u001b[39m, dataset_or_iterator, data_handler, step, unused_shards):\n\u001b[1;32m-> 4079\u001b[0m     tmp_logs \u001b[38;5;241m=\u001b[39m \u001b[38;5;28mself\u001b[39m\u001b[38;5;241m.\u001b[39m_function(dataset_or_iterator)\n\u001b[0;32m   4080\u001b[0m     \u001b[38;5;28;01mif\u001b[39;00m data_handler\u001b[38;5;241m.\u001b[39mshould_sync:\n\u001b[0;32m   4081\u001b[0m         context\u001b[38;5;241m.\u001b[39masync_wait()\n",
      "File \u001b[1;32m~\\anaconda3\\Lib\\site-packages\\tensorflow\\python\\util\\traceback_utils.py:150\u001b[0m, in \u001b[0;36mfilter_traceback.<locals>.error_handler\u001b[1;34m(*args, **kwargs)\u001b[0m\n\u001b[0;32m    148\u001b[0m filtered_tb \u001b[38;5;241m=\u001b[39m \u001b[38;5;28;01mNone\u001b[39;00m\n\u001b[0;32m    149\u001b[0m \u001b[38;5;28;01mtry\u001b[39;00m:\n\u001b[1;32m--> 150\u001b[0m   \u001b[38;5;28;01mreturn\u001b[39;00m fn(\u001b[38;5;241m*\u001b[39margs, \u001b[38;5;241m*\u001b[39m\u001b[38;5;241m*\u001b[39mkwargs)\n\u001b[0;32m    151\u001b[0m \u001b[38;5;28;01mexcept\u001b[39;00m \u001b[38;5;167;01mException\u001b[39;00m \u001b[38;5;28;01mas\u001b[39;00m e:\n\u001b[0;32m    152\u001b[0m   filtered_tb \u001b[38;5;241m=\u001b[39m _process_traceback_frames(e\u001b[38;5;241m.\u001b[39m__traceback__)\n",
      "File \u001b[1;32m~\\anaconda3\\Lib\\site-packages\\tensorflow\\python\\eager\\polymorphic_function\\polymorphic_function.py:831\u001b[0m, in \u001b[0;36mFunction.__call__\u001b[1;34m(self, *args, **kwds)\u001b[0m\n\u001b[0;32m    828\u001b[0m compiler \u001b[38;5;241m=\u001b[39m \u001b[38;5;124m\"\u001b[39m\u001b[38;5;124mxla\u001b[39m\u001b[38;5;124m\"\u001b[39m \u001b[38;5;28;01mif\u001b[39;00m \u001b[38;5;28mself\u001b[39m\u001b[38;5;241m.\u001b[39m_jit_compile \u001b[38;5;28;01melse\u001b[39;00m \u001b[38;5;124m\"\u001b[39m\u001b[38;5;124mnonXla\u001b[39m\u001b[38;5;124m\"\u001b[39m\n\u001b[0;32m    830\u001b[0m \u001b[38;5;28;01mwith\u001b[39;00m OptionalXlaContext(\u001b[38;5;28mself\u001b[39m\u001b[38;5;241m.\u001b[39m_jit_compile):\n\u001b[1;32m--> 831\u001b[0m   result \u001b[38;5;241m=\u001b[39m \u001b[38;5;28mself\u001b[39m\u001b[38;5;241m.\u001b[39m_call(\u001b[38;5;241m*\u001b[39margs, \u001b[38;5;241m*\u001b[39m\u001b[38;5;241m*\u001b[39mkwds)\n\u001b[0;32m    833\u001b[0m new_tracing_count \u001b[38;5;241m=\u001b[39m \u001b[38;5;28mself\u001b[39m\u001b[38;5;241m.\u001b[39mexperimental_get_tracing_count()\n\u001b[0;32m    834\u001b[0m without_tracing \u001b[38;5;241m=\u001b[39m (tracing_count \u001b[38;5;241m==\u001b[39m new_tracing_count)\n",
      "File \u001b[1;32m~\\anaconda3\\Lib\\site-packages\\tensorflow\\python\\eager\\polymorphic_function\\polymorphic_function.py:876\u001b[0m, in \u001b[0;36mFunction._call\u001b[1;34m(self, *args, **kwds)\u001b[0m\n\u001b[0;32m    873\u001b[0m \u001b[38;5;28mself\u001b[39m\u001b[38;5;241m.\u001b[39m_lock\u001b[38;5;241m.\u001b[39mrelease()\n\u001b[0;32m    874\u001b[0m \u001b[38;5;66;03m# In this case we have not created variables on the first call. So we can\u001b[39;00m\n\u001b[0;32m    875\u001b[0m \u001b[38;5;66;03m# run the first trace but we should fail if variables are created.\u001b[39;00m\n\u001b[1;32m--> 876\u001b[0m results \u001b[38;5;241m=\u001b[39m tracing_compilation\u001b[38;5;241m.\u001b[39mcall_function(\n\u001b[0;32m    877\u001b[0m     args, kwds, \u001b[38;5;28mself\u001b[39m\u001b[38;5;241m.\u001b[39m_variable_creation_config\n\u001b[0;32m    878\u001b[0m )\n\u001b[0;32m    879\u001b[0m \u001b[38;5;28;01mif\u001b[39;00m \u001b[38;5;28mself\u001b[39m\u001b[38;5;241m.\u001b[39m_created_variables:\n\u001b[0;32m    880\u001b[0m   \u001b[38;5;28;01mraise\u001b[39;00m \u001b[38;5;167;01mValueError\u001b[39;00m(\u001b[38;5;124m\"\u001b[39m\u001b[38;5;124mCreating variables on a non-first call to a function\u001b[39m\u001b[38;5;124m\"\u001b[39m\n\u001b[0;32m    881\u001b[0m                    \u001b[38;5;124m\"\u001b[39m\u001b[38;5;124m decorated with tf.function.\u001b[39m\u001b[38;5;124m\"\u001b[39m)\n",
      "File \u001b[1;32m~\\anaconda3\\Lib\\site-packages\\tensorflow\\python\\eager\\polymorphic_function\\tracing_compilation.py:139\u001b[0m, in \u001b[0;36mcall_function\u001b[1;34m(args, kwargs, tracing_options)\u001b[0m\n\u001b[0;32m    137\u001b[0m bound_args \u001b[38;5;241m=\u001b[39m function\u001b[38;5;241m.\u001b[39mfunction_type\u001b[38;5;241m.\u001b[39mbind(\u001b[38;5;241m*\u001b[39margs, \u001b[38;5;241m*\u001b[39m\u001b[38;5;241m*\u001b[39mkwargs)\n\u001b[0;32m    138\u001b[0m flat_inputs \u001b[38;5;241m=\u001b[39m function\u001b[38;5;241m.\u001b[39mfunction_type\u001b[38;5;241m.\u001b[39munpack_inputs(bound_args)\n\u001b[1;32m--> 139\u001b[0m \u001b[38;5;28;01mreturn\u001b[39;00m function\u001b[38;5;241m.\u001b[39m_call_flat(  \u001b[38;5;66;03m# pylint: disable=protected-access\u001b[39;00m\n\u001b[0;32m    140\u001b[0m     flat_inputs, captured_inputs\u001b[38;5;241m=\u001b[39mfunction\u001b[38;5;241m.\u001b[39mcaptured_inputs\n\u001b[0;32m    141\u001b[0m )\n",
      "File \u001b[1;32m~\\anaconda3\\Lib\\site-packages\\tensorflow\\python\\eager\\polymorphic_function\\concrete_function.py:1264\u001b[0m, in \u001b[0;36mConcreteFunction._call_flat\u001b[1;34m(self, tensor_inputs, captured_inputs)\u001b[0m\n\u001b[0;32m   1260\u001b[0m possible_gradient_type \u001b[38;5;241m=\u001b[39m gradients_util\u001b[38;5;241m.\u001b[39mPossibleTapeGradientTypes(args)\n\u001b[0;32m   1261\u001b[0m \u001b[38;5;28;01mif\u001b[39;00m (possible_gradient_type \u001b[38;5;241m==\u001b[39m gradients_util\u001b[38;5;241m.\u001b[39mPOSSIBLE_GRADIENT_TYPES_NONE\n\u001b[0;32m   1262\u001b[0m     \u001b[38;5;129;01mand\u001b[39;00m executing_eagerly):\n\u001b[0;32m   1263\u001b[0m   \u001b[38;5;66;03m# No tape is watching; skip to running the function.\u001b[39;00m\n\u001b[1;32m-> 1264\u001b[0m   \u001b[38;5;28;01mreturn\u001b[39;00m \u001b[38;5;28mself\u001b[39m\u001b[38;5;241m.\u001b[39m_inference_function\u001b[38;5;241m.\u001b[39mflat_call(args)\n\u001b[0;32m   1265\u001b[0m forward_backward \u001b[38;5;241m=\u001b[39m \u001b[38;5;28mself\u001b[39m\u001b[38;5;241m.\u001b[39m_select_forward_and_backward_functions(\n\u001b[0;32m   1266\u001b[0m     args,\n\u001b[0;32m   1267\u001b[0m     possible_gradient_type,\n\u001b[0;32m   1268\u001b[0m     executing_eagerly)\n\u001b[0;32m   1269\u001b[0m forward_function, args_with_tangents \u001b[38;5;241m=\u001b[39m forward_backward\u001b[38;5;241m.\u001b[39mforward()\n",
      "File \u001b[1;32m~\\anaconda3\\Lib\\site-packages\\tensorflow\\python\\eager\\polymorphic_function\\atomic_function.py:217\u001b[0m, in \u001b[0;36mAtomicFunction.flat_call\u001b[1;34m(self, args)\u001b[0m\n\u001b[0;32m    215\u001b[0m \u001b[38;5;28;01mdef\u001b[39;00m \u001b[38;5;21mflat_call\u001b[39m(\u001b[38;5;28mself\u001b[39m, args: Sequence[core\u001b[38;5;241m.\u001b[39mTensor]) \u001b[38;5;241m-\u001b[39m\u001b[38;5;241m>\u001b[39m Any:\n\u001b[0;32m    216\u001b[0m \u001b[38;5;250m  \u001b[39m\u001b[38;5;124;03m\"\"\"Calls with tensor inputs and returns the structured output.\"\"\"\u001b[39;00m\n\u001b[1;32m--> 217\u001b[0m   flat_outputs \u001b[38;5;241m=\u001b[39m \u001b[38;5;28mself\u001b[39m(\u001b[38;5;241m*\u001b[39margs)\n\u001b[0;32m    218\u001b[0m   \u001b[38;5;28;01mreturn\u001b[39;00m \u001b[38;5;28mself\u001b[39m\u001b[38;5;241m.\u001b[39mfunction_type\u001b[38;5;241m.\u001b[39mpack_output(flat_outputs)\n",
      "File \u001b[1;32m~\\anaconda3\\Lib\\site-packages\\tensorflow\\python\\eager\\polymorphic_function\\atomic_function.py:252\u001b[0m, in \u001b[0;36mAtomicFunction.__call__\u001b[1;34m(self, *args)\u001b[0m\n\u001b[0;32m    250\u001b[0m \u001b[38;5;28;01mwith\u001b[39;00m record\u001b[38;5;241m.\u001b[39mstop_recording():\n\u001b[0;32m    251\u001b[0m   \u001b[38;5;28;01mif\u001b[39;00m \u001b[38;5;28mself\u001b[39m\u001b[38;5;241m.\u001b[39m_bound_context\u001b[38;5;241m.\u001b[39mexecuting_eagerly():\n\u001b[1;32m--> 252\u001b[0m     outputs \u001b[38;5;241m=\u001b[39m \u001b[38;5;28mself\u001b[39m\u001b[38;5;241m.\u001b[39m_bound_context\u001b[38;5;241m.\u001b[39mcall_function(\n\u001b[0;32m    253\u001b[0m         \u001b[38;5;28mself\u001b[39m\u001b[38;5;241m.\u001b[39mname,\n\u001b[0;32m    254\u001b[0m         \u001b[38;5;28mlist\u001b[39m(args),\n\u001b[0;32m    255\u001b[0m         \u001b[38;5;28mlen\u001b[39m(\u001b[38;5;28mself\u001b[39m\u001b[38;5;241m.\u001b[39mfunction_type\u001b[38;5;241m.\u001b[39mflat_outputs),\n\u001b[0;32m    256\u001b[0m     )\n\u001b[0;32m    257\u001b[0m   \u001b[38;5;28;01melse\u001b[39;00m:\n\u001b[0;32m    258\u001b[0m     outputs \u001b[38;5;241m=\u001b[39m make_call_op_in_graph(\n\u001b[0;32m    259\u001b[0m         \u001b[38;5;28mself\u001b[39m,\n\u001b[0;32m    260\u001b[0m         \u001b[38;5;28mlist\u001b[39m(args),\n\u001b[0;32m    261\u001b[0m         \u001b[38;5;28mself\u001b[39m\u001b[38;5;241m.\u001b[39m_bound_context\u001b[38;5;241m.\u001b[39mfunction_call_options\u001b[38;5;241m.\u001b[39mas_attrs(),\n\u001b[0;32m    262\u001b[0m     )\n",
      "File \u001b[1;32m~\\anaconda3\\Lib\\site-packages\\tensorflow\\python\\eager\\context.py:1479\u001b[0m, in \u001b[0;36mContext.call_function\u001b[1;34m(self, name, tensor_inputs, num_outputs)\u001b[0m\n\u001b[0;32m   1477\u001b[0m cancellation_context \u001b[38;5;241m=\u001b[39m cancellation\u001b[38;5;241m.\u001b[39mcontext()\n\u001b[0;32m   1478\u001b[0m \u001b[38;5;28;01mif\u001b[39;00m cancellation_context \u001b[38;5;129;01mis\u001b[39;00m \u001b[38;5;28;01mNone\u001b[39;00m:\n\u001b[1;32m-> 1479\u001b[0m   outputs \u001b[38;5;241m=\u001b[39m execute\u001b[38;5;241m.\u001b[39mexecute(\n\u001b[0;32m   1480\u001b[0m       name\u001b[38;5;241m.\u001b[39mdecode(\u001b[38;5;124m\"\u001b[39m\u001b[38;5;124mutf-8\u001b[39m\u001b[38;5;124m\"\u001b[39m),\n\u001b[0;32m   1481\u001b[0m       num_outputs\u001b[38;5;241m=\u001b[39mnum_outputs,\n\u001b[0;32m   1482\u001b[0m       inputs\u001b[38;5;241m=\u001b[39mtensor_inputs,\n\u001b[0;32m   1483\u001b[0m       attrs\u001b[38;5;241m=\u001b[39mattrs,\n\u001b[0;32m   1484\u001b[0m       ctx\u001b[38;5;241m=\u001b[39m\u001b[38;5;28mself\u001b[39m,\n\u001b[0;32m   1485\u001b[0m   )\n\u001b[0;32m   1486\u001b[0m \u001b[38;5;28;01melse\u001b[39;00m:\n\u001b[0;32m   1487\u001b[0m   outputs \u001b[38;5;241m=\u001b[39m execute\u001b[38;5;241m.\u001b[39mexecute_with_cancellation(\n\u001b[0;32m   1488\u001b[0m       name\u001b[38;5;241m.\u001b[39mdecode(\u001b[38;5;124m\"\u001b[39m\u001b[38;5;124mutf-8\u001b[39m\u001b[38;5;124m\"\u001b[39m),\n\u001b[0;32m   1489\u001b[0m       num_outputs\u001b[38;5;241m=\u001b[39mnum_outputs,\n\u001b[1;32m   (...)\u001b[0m\n\u001b[0;32m   1493\u001b[0m       cancellation_manager\u001b[38;5;241m=\u001b[39mcancellation_context,\n\u001b[0;32m   1494\u001b[0m   )\n",
      "File \u001b[1;32m~\\anaconda3\\Lib\\site-packages\\tensorflow\\python\\eager\\execute.py:60\u001b[0m, in \u001b[0;36mquick_execute\u001b[1;34m(op_name, num_outputs, inputs, attrs, ctx, name)\u001b[0m\n\u001b[0;32m     53\u001b[0m   \u001b[38;5;66;03m# Convert any objects of type core_types.Tensor to Tensor.\u001b[39;00m\n\u001b[0;32m     54\u001b[0m   inputs \u001b[38;5;241m=\u001b[39m [\n\u001b[0;32m     55\u001b[0m       tensor_conversion_registry\u001b[38;5;241m.\u001b[39mconvert(t)\n\u001b[0;32m     56\u001b[0m       \u001b[38;5;28;01mif\u001b[39;00m \u001b[38;5;28misinstance\u001b[39m(t, core_types\u001b[38;5;241m.\u001b[39mTensor)\n\u001b[0;32m     57\u001b[0m       \u001b[38;5;28;01melse\u001b[39;00m t\n\u001b[0;32m     58\u001b[0m       \u001b[38;5;28;01mfor\u001b[39;00m t \u001b[38;5;129;01min\u001b[39;00m inputs\n\u001b[0;32m     59\u001b[0m   ]\n\u001b[1;32m---> 60\u001b[0m   tensors \u001b[38;5;241m=\u001b[39m pywrap_tfe\u001b[38;5;241m.\u001b[39mTFE_Py_Execute(ctx\u001b[38;5;241m.\u001b[39m_handle, device_name, op_name,\n\u001b[0;32m     61\u001b[0m                                       inputs, attrs, num_outputs)\n\u001b[0;32m     62\u001b[0m \u001b[38;5;28;01mexcept\u001b[39;00m core\u001b[38;5;241m.\u001b[39m_NotOkStatusException \u001b[38;5;28;01mas\u001b[39;00m e:\n\u001b[0;32m     63\u001b[0m   \u001b[38;5;28;01mif\u001b[39;00m name \u001b[38;5;129;01mis\u001b[39;00m \u001b[38;5;129;01mnot\u001b[39;00m \u001b[38;5;28;01mNone\u001b[39;00m:\n",
      "\u001b[1;31mKeyboardInterrupt\u001b[0m: "
     ]
    }
   ],
   "source": [
    "# Evaluate the model on the training and validation sets from Merlion Code\n",
    "train_accuracy = siamese_net.evaluate(train_gen)[1]\n",
    "test_accuracy = siamese_net.evaluate(validation_gen)[1]\n",
    "\n",
    "print(\"Train accuracy:\", train_accuracy)\n",
    "print(\"Validation accuracy:\", test_accuracy)"
   ]
  },
  {
   "cell_type": "markdown",
   "id": "715f53eb",
   "metadata": {},
   "source": [
    "###  Metrics for Performance of Siamese Network\n",
    "\n",
    "Using Accuracy and Loss Value"
   ]
  },
  {
   "cell_type": "code",
   "execution_count": 97,
   "id": "072dbb2a",
   "metadata": {},
   "outputs": [
    {
     "data": {
      "image/png": "[encoded data removed]",
      "text/plain": [
       "<Figure size 1600x400 with 2 Axes>"
      ]
     },
     "metadata": {},
     "output_type": "display_data"
    }
   ],
   "source": [
    "f, (ax1, ax2) = plt.subplots(1, 2, figsize=(16, 4))\n",
    "t = f.suptitle('Siamese Net Performance', fontsize=12)\n",
    "f.subplots_adjust(top=0.85, wspace=0.3)\n",
    "epoch_list = history.epoch\n",
    "\n",
    "ax1.plot(epoch_list, history.history['accuracy'], label='Train Accuracy')\n",
    "ax1.plot(epoch_list, history.history['val_accuracy'], label='Validation Accuracy')\n",
    "ax1.set_xticks(np.arange(0, epoch_list[-1], 5))\n",
    "ax1.set_ylabel('Accuracy Value');ax1.set_xlabel('Epoch');ax1.set_title('Accuracy')\n",
    "ax1.legend(loc=\"best\");ax1.grid(color='gray', linestyle='-', linewidth=0.5)\n",
    "\n",
    "ax2.plot(epoch_list, history.history['loss'], label='Train Loss')\n",
    "ax2.plot(epoch_list, history.history['val_loss'], label='Validation Loss')\n",
    "ax2.set_xticks(np.arange(0, epoch_list[-1], 5))\n",
    "ax2.set_ylabel('Loss Value');ax2.set_xlabel('Epoch');ax2.set_title('Loss')\n",
    "ax2.legend(loc=\"best\");ax2.grid(color='gray', linestyle='-', linewidth=0.5)\n"
   ]
  },
  {
   "cell_type": "markdown",
   "id": "5318d58b",
   "metadata": {},
   "source": [
    "### Saving of Model Weights in .h5 file for loading in deployment"
   ]
  },
  {
   "cell_type": "code",
   "execution_count": null,
   "id": "c7f829e2",
   "metadata": {},
   "outputs": [],
   "source": [
    "#manually saving weights in Siamese Network\n",
    "# Save the weights, by default saves with .ckpt extension\n",
    "siamese_net.save_weights('./checkpoints/my_checkpoint_v1')\n"
   ]
  },
  {
   "cell_type": "code",
   "execution_count": null,
   "id": "4693b95d",
   "metadata": {},
   "outputs": [],
   "source": [
    "#saving best model in .keras format. Newest format\n",
    "siamese_net.save('best_model6nov.keras')"
   ]
  },
  {
   "cell_type": "code",
   "execution_count": null,
   "id": "ec482bca",
   "metadata": {},
   "outputs": [],
   "source": [
    "#Saving best model in .h5 format\n",
    "siamese_net.save('best_model6nov.h5', save_format='h5')"
   ]
  },
  {
   "cell_type": "code",
   "execution_count": null,
   "id": "d47a87fc",
   "metadata": {},
   "outputs": [],
   "source": [
    "siamese_net.load_weights('best_model6nov.h5')"
   ]
  },
  {
   "cell_type": "markdown",
   "id": "42b80a92",
   "metadata": {},
   "source": [
    "# Version 3: Alteration of AUC function to get a better outcome\n",
    "\n",
    "This is due to the fact that the val_auc has been constant and does not see improvement with epochs. "
   ]
  },
  {
   "cell_type": "code",
   "execution_count": 112,
   "id": "d4c79e2e",
   "metadata": {},
   "outputs": [],
   "source": [
    "from keras.layers import Input, Dense, Flatten, Subtract, Dropout, Multiply\n",
    "from keras.layers import Lambda, Concatenate, GlobalMaxPool2D, GlobalAvgPool2D\n",
    "from keras.models import Model\n",
    "from keras.regularizers import l2\n",
    "from keras import backend as K\n",
    "from keras.optimizers import SGD,Adam\n",
    "from keras.losses import binary_crossentropy\n",
    "import tensorflow as tf\n",
    "from sklearn.metrics import roc_auc_score\n",
    "\n",
    "def auc(y_true, y_pred):\n",
    "    return tf.py_function(roc_auc_score, (y_true, y_pred), tf.double)\n",
    "\n",
    "left_input = Input(IMG_DIM)\n",
    "right_input = Input(IMG_DIM)\n",
    "\n",
    "x1 = vggface(left_input)\n",
    "x2 = vggface(right_input)\n",
    "\n",
    "x1 = Concatenate(axis=-1)([GlobalMaxPool2D()(x1), GlobalAvgPool2D()(x1)])\n",
    "x2 = Concatenate(axis=-1)([GlobalMaxPool2D()(x2), GlobalAvgPool2D()(x2)])\n",
    "\n",
    "fc = Dense(100,activation='relu',kernel_regularizer=l2(1e-3),\n",
    "                   kernel_initializer=initialize_weights,bias_initializer=initialize_bias)\n",
    "x1 = fc(x1)\n",
    "x2 = fc(x2)\n",
    "\n",
    "# |h1-h2|\n",
    "x3 = Lambda(lambda tensors : K.abs(tensors[0] - tensors[1]))([x1, x2])\n",
    "\n",
    "# |h1-h2|^2\n",
    "x4 = Lambda(lambda tensor  : K.square(tensor))(x3)\n",
    "\n",
    "# h1*h2\n",
    "x5 = Multiply()([x1, x2])\n",
    "\n",
    "# |h1-h2|^2 + h1*h2\n",
    "x = Concatenate(axis=-1)([x4,x5])\n",
    "\n",
    "x = Dense(100,activation='relu',kernel_regularizer=l2(1e-3),\n",
    "                   kernel_initializer=initialize_weights,bias_initializer=initialize_bias)(x)\n",
    "x = Dropout(0.1)(x)\n",
    "\n",
    "\n",
    "prediction = Dense(1,activation='sigmoid',bias_initializer=initialize_bias)(x)\n",
    "\n",
    "siamese_net = Model(inputs=[left_input,right_input],outputs=prediction)\n",
    "\n",
    "#optimizer = Adam(1e-5)\n",
    "\n",
    "\"https://towardsdatascience.com/lossless-triplet-loss-7e932f990b24\"\n",
    "\n",
    "#compilation step, removed auc and only put accuracy\n",
    "siamese_net.compile(loss=\"binary_crossentropy\",optimizer= 'adam',metrics=['accuracy', auc]) #If needed, can put accuracy here"
   ]
  },
  {
   "cell_type": "code",
   "execution_count": 113,
   "id": "08d8b2ae",
   "metadata": {},
   "outputs": [
    {
     "name": "stdout",
     "output_type": "stream",
     "text": [
      "Epoch 1/20\n",
      "200/200 [==============================] - ETA: 0s - loss: 1.3726 - accuracy: 0.5000 - auc: 0.4974 \n",
      "Epoch 1: val_auc improved from -inf to 0.50000, saving model to model_best_checkpoint.h5\n",
      "200/200 [==============================] - 2684s 13s/step - loss: 1.3726 - accuracy: 0.5000 - auc: 0.4974 - val_loss: 0.6958 - val_accuracy: 0.5000 - val_auc: 0.5000 - lr: 0.0010\n",
      "Epoch 2/20\n",
      "200/200 [==============================] - ETA: 0s - loss: 0.6974 - accuracy: 0.5219 - auc: 0.5201 \n",
      "Epoch 2: val_auc did not improve from 0.50000\n",
      "200/200 [==============================] - 2536s 13s/step - loss: 0.6974 - accuracy: 0.5219 - auc: 0.5201 - val_loss: 0.6959 - val_accuracy: 0.5000 - val_auc: 0.5000 - lr: 0.0010\n",
      "Epoch 3/20\n",
      "200/200 [==============================] - ETA: 0s - loss: 0.7009 - accuracy: 0.4953 - auc: 0.4908\n",
      "Epoch 3: val_auc did not improve from 0.50000\n",
      "200/200 [==============================] - 1975s 10s/step - loss: 0.7009 - accuracy: 0.4953 - auc: 0.4908 - val_loss: 0.6957 - val_accuracy: 0.5000 - val_auc: 0.5000 - lr: 0.0010\n",
      "Epoch 4/20\n",
      "200/200 [==============================] - ETA: 0s - loss: 0.6968 - accuracy: 0.5091 - auc: 0.5181\n",
      "Epoch 4: val_auc did not improve from 0.50000\n",
      "200/200 [==============================] - 1992s 10s/step - loss: 0.6968 - accuracy: 0.5091 - auc: 0.5181 - val_loss: 0.6955 - val_accuracy: 0.5000 - val_auc: 0.5000 - lr: 0.0010\n",
      "Epoch 5/20\n",
      " 18/200 [=>............................] - ETA: 27:47 - loss: 0.6988 - accuracy: 0.4931 - auc: 0.5078"
     ]
    },
    {
     "ename": "KeyboardInterrupt",
     "evalue": "",
     "output_type": "error",
     "traceback": [
      "\u001b[1;31m---------------------------------------------------------------------------\u001b[0m",
      "\u001b[1;31mKeyboardInterrupt\u001b[0m                         Traceback (most recent call last)",
      "Cell \u001b[1;32mIn[113], line 23\u001b[0m\n\u001b[0;32m     20\u001b[0m train_gen \u001b[38;5;241m=\u001b[39m data_generator(train, batch_size)\n\u001b[0;32m     21\u001b[0m val_gen \u001b[38;5;241m=\u001b[39m data_generator(val, batch_size)\n\u001b[1;32m---> 23\u001b[0m history \u001b[38;5;241m=\u001b[39m siamese_net\u001b[38;5;241m.\u001b[39mfit(train_gen, steps_per_epoch\u001b[38;5;241m=\u001b[39m\u001b[38;5;241m200\u001b[39m, epochs\u001b[38;5;241m=\u001b[39m\u001b[38;5;241m20\u001b[39m, \u001b[38;5;66;03m#Changed from 100 to 50\u001b[39;00m\n\u001b[0;32m     24\u001b[0m                           validation_data\u001b[38;5;241m=\u001b[39mval_gen, validation_steps\u001b[38;5;241m=\u001b[39m\u001b[38;5;241m100\u001b[39m,\n\u001b[0;32m     25\u001b[0m                           verbose\u001b[38;5;241m=\u001b[39m\u001b[38;5;241m1\u001b[39m, callbacks\u001b[38;5;241m=\u001b[39mcallbacks_list)\n",
      "File \u001b[1;32m~\\anaconda3\\Lib\\site-packages\\keras\\src\\utils\\traceback_utils.py:65\u001b[0m, in \u001b[0;36mfilter_traceback.<locals>.error_handler\u001b[1;34m(*args, **kwargs)\u001b[0m\n\u001b[0;32m     63\u001b[0m filtered_tb \u001b[38;5;241m=\u001b[39m \u001b[38;5;28;01mNone\u001b[39;00m\n\u001b[0;32m     64\u001b[0m \u001b[38;5;28;01mtry\u001b[39;00m:\n\u001b[1;32m---> 65\u001b[0m     \u001b[38;5;28;01mreturn\u001b[39;00m fn(\u001b[38;5;241m*\u001b[39margs, \u001b[38;5;241m*\u001b[39m\u001b[38;5;241m*\u001b[39mkwargs)\n\u001b[0;32m     66\u001b[0m \u001b[38;5;28;01mexcept\u001b[39;00m \u001b[38;5;167;01mException\u001b[39;00m \u001b[38;5;28;01mas\u001b[39;00m e:\n\u001b[0;32m     67\u001b[0m     filtered_tb \u001b[38;5;241m=\u001b[39m _process_traceback_frames(e\u001b[38;5;241m.\u001b[39m__traceback__)\n",
      "File \u001b[1;32m~\\anaconda3\\Lib\\site-packages\\keras\\src\\engine\\training.py:1783\u001b[0m, in \u001b[0;36mModel.fit\u001b[1;34m(self, x, y, batch_size, epochs, verbose, callbacks, validation_split, validation_data, shuffle, class_weight, sample_weight, initial_epoch, steps_per_epoch, validation_steps, validation_batch_size, validation_freq, max_queue_size, workers, use_multiprocessing)\u001b[0m\n\u001b[0;32m   1775\u001b[0m \u001b[38;5;28;01mwith\u001b[39;00m tf\u001b[38;5;241m.\u001b[39mprofiler\u001b[38;5;241m.\u001b[39mexperimental\u001b[38;5;241m.\u001b[39mTrace(\n\u001b[0;32m   1776\u001b[0m     \u001b[38;5;124m\"\u001b[39m\u001b[38;5;124mtrain\u001b[39m\u001b[38;5;124m\"\u001b[39m,\n\u001b[0;32m   1777\u001b[0m     epoch_num\u001b[38;5;241m=\u001b[39mepoch,\n\u001b[1;32m   (...)\u001b[0m\n\u001b[0;32m   1780\u001b[0m     _r\u001b[38;5;241m=\u001b[39m\u001b[38;5;241m1\u001b[39m,\n\u001b[0;32m   1781\u001b[0m ):\n\u001b[0;32m   1782\u001b[0m     callbacks\u001b[38;5;241m.\u001b[39mon_train_batch_begin(step)\n\u001b[1;32m-> 1783\u001b[0m     tmp_logs \u001b[38;5;241m=\u001b[39m \u001b[38;5;28mself\u001b[39m\u001b[38;5;241m.\u001b[39mtrain_function(iterator)\n\u001b[0;32m   1784\u001b[0m     \u001b[38;5;28;01mif\u001b[39;00m data_handler\u001b[38;5;241m.\u001b[39mshould_sync:\n\u001b[0;32m   1785\u001b[0m         context\u001b[38;5;241m.\u001b[39masync_wait()\n",
      "File \u001b[1;32m~\\anaconda3\\Lib\\site-packages\\tensorflow\\python\\util\\traceback_utils.py:150\u001b[0m, in \u001b[0;36mfilter_traceback.<locals>.error_handler\u001b[1;34m(*args, **kwargs)\u001b[0m\n\u001b[0;32m    148\u001b[0m filtered_tb \u001b[38;5;241m=\u001b[39m \u001b[38;5;28;01mNone\u001b[39;00m\n\u001b[0;32m    149\u001b[0m \u001b[38;5;28;01mtry\u001b[39;00m:\n\u001b[1;32m--> 150\u001b[0m   \u001b[38;5;28;01mreturn\u001b[39;00m fn(\u001b[38;5;241m*\u001b[39margs, \u001b[38;5;241m*\u001b[39m\u001b[38;5;241m*\u001b[39mkwargs)\n\u001b[0;32m    151\u001b[0m \u001b[38;5;28;01mexcept\u001b[39;00m \u001b[38;5;167;01mException\u001b[39;00m \u001b[38;5;28;01mas\u001b[39;00m e:\n\u001b[0;32m    152\u001b[0m   filtered_tb \u001b[38;5;241m=\u001b[39m _process_traceback_frames(e\u001b[38;5;241m.\u001b[39m__traceback__)\n",
      "File \u001b[1;32m~\\anaconda3\\Lib\\site-packages\\tensorflow\\python\\eager\\polymorphic_function\\polymorphic_function.py:831\u001b[0m, in \u001b[0;36mFunction.__call__\u001b[1;34m(self, *args, **kwds)\u001b[0m\n\u001b[0;32m    828\u001b[0m compiler \u001b[38;5;241m=\u001b[39m \u001b[38;5;124m\"\u001b[39m\u001b[38;5;124mxla\u001b[39m\u001b[38;5;124m\"\u001b[39m \u001b[38;5;28;01mif\u001b[39;00m \u001b[38;5;28mself\u001b[39m\u001b[38;5;241m.\u001b[39m_jit_compile \u001b[38;5;28;01melse\u001b[39;00m \u001b[38;5;124m\"\u001b[39m\u001b[38;5;124mnonXla\u001b[39m\u001b[38;5;124m\"\u001b[39m\n\u001b[0;32m    830\u001b[0m \u001b[38;5;28;01mwith\u001b[39;00m OptionalXlaContext(\u001b[38;5;28mself\u001b[39m\u001b[38;5;241m.\u001b[39m_jit_compile):\n\u001b[1;32m--> 831\u001b[0m   result \u001b[38;5;241m=\u001b[39m \u001b[38;5;28mself\u001b[39m\u001b[38;5;241m.\u001b[39m_call(\u001b[38;5;241m*\u001b[39margs, \u001b[38;5;241m*\u001b[39m\u001b[38;5;241m*\u001b[39mkwds)\n\u001b[0;32m    833\u001b[0m new_tracing_count \u001b[38;5;241m=\u001b[39m \u001b[38;5;28mself\u001b[39m\u001b[38;5;241m.\u001b[39mexperimental_get_tracing_count()\n\u001b[0;32m    834\u001b[0m without_tracing \u001b[38;5;241m=\u001b[39m (tracing_count \u001b[38;5;241m==\u001b[39m new_tracing_count)\n",
      "File \u001b[1;32m~\\anaconda3\\Lib\\site-packages\\tensorflow\\python\\eager\\polymorphic_function\\polymorphic_function.py:867\u001b[0m, in \u001b[0;36mFunction._call\u001b[1;34m(self, *args, **kwds)\u001b[0m\n\u001b[0;32m    864\u001b[0m   \u001b[38;5;28mself\u001b[39m\u001b[38;5;241m.\u001b[39m_lock\u001b[38;5;241m.\u001b[39mrelease()\n\u001b[0;32m    865\u001b[0m   \u001b[38;5;66;03m# In this case we have created variables on the first call, so we run the\u001b[39;00m\n\u001b[0;32m    866\u001b[0m   \u001b[38;5;66;03m# defunned version which is guaranteed to never create variables.\u001b[39;00m\n\u001b[1;32m--> 867\u001b[0m   \u001b[38;5;28;01mreturn\u001b[39;00m tracing_compilation\u001b[38;5;241m.\u001b[39mcall_function(\n\u001b[0;32m    868\u001b[0m       args, kwds, \u001b[38;5;28mself\u001b[39m\u001b[38;5;241m.\u001b[39m_no_variable_creation_config\n\u001b[0;32m    869\u001b[0m   )\n\u001b[0;32m    870\u001b[0m \u001b[38;5;28;01melif\u001b[39;00m \u001b[38;5;28mself\u001b[39m\u001b[38;5;241m.\u001b[39m_variable_creation_config \u001b[38;5;129;01mis\u001b[39;00m \u001b[38;5;129;01mnot\u001b[39;00m \u001b[38;5;28;01mNone\u001b[39;00m:\n\u001b[0;32m    871\u001b[0m   \u001b[38;5;66;03m# Release the lock early so that multiple threads can perform the call\u001b[39;00m\n\u001b[0;32m    872\u001b[0m   \u001b[38;5;66;03m# in parallel.\u001b[39;00m\n\u001b[0;32m    873\u001b[0m   \u001b[38;5;28mself\u001b[39m\u001b[38;5;241m.\u001b[39m_lock\u001b[38;5;241m.\u001b[39mrelease()\n",
      "File \u001b[1;32m~\\anaconda3\\Lib\\site-packages\\tensorflow\\python\\eager\\polymorphic_function\\tracing_compilation.py:139\u001b[0m, in \u001b[0;36mcall_function\u001b[1;34m(args, kwargs, tracing_options)\u001b[0m\n\u001b[0;32m    137\u001b[0m bound_args \u001b[38;5;241m=\u001b[39m function\u001b[38;5;241m.\u001b[39mfunction_type\u001b[38;5;241m.\u001b[39mbind(\u001b[38;5;241m*\u001b[39margs, \u001b[38;5;241m*\u001b[39m\u001b[38;5;241m*\u001b[39mkwargs)\n\u001b[0;32m    138\u001b[0m flat_inputs \u001b[38;5;241m=\u001b[39m function\u001b[38;5;241m.\u001b[39mfunction_type\u001b[38;5;241m.\u001b[39munpack_inputs(bound_args)\n\u001b[1;32m--> 139\u001b[0m \u001b[38;5;28;01mreturn\u001b[39;00m function\u001b[38;5;241m.\u001b[39m_call_flat(  \u001b[38;5;66;03m# pylint: disable=protected-access\u001b[39;00m\n\u001b[0;32m    140\u001b[0m     flat_inputs, captured_inputs\u001b[38;5;241m=\u001b[39mfunction\u001b[38;5;241m.\u001b[39mcaptured_inputs\n\u001b[0;32m    141\u001b[0m )\n",
      "File \u001b[1;32m~\\anaconda3\\Lib\\site-packages\\tensorflow\\python\\eager\\polymorphic_function\\concrete_function.py:1264\u001b[0m, in \u001b[0;36mConcreteFunction._call_flat\u001b[1;34m(self, tensor_inputs, captured_inputs)\u001b[0m\n\u001b[0;32m   1260\u001b[0m possible_gradient_type \u001b[38;5;241m=\u001b[39m gradients_util\u001b[38;5;241m.\u001b[39mPossibleTapeGradientTypes(args)\n\u001b[0;32m   1261\u001b[0m \u001b[38;5;28;01mif\u001b[39;00m (possible_gradient_type \u001b[38;5;241m==\u001b[39m gradients_util\u001b[38;5;241m.\u001b[39mPOSSIBLE_GRADIENT_TYPES_NONE\n\u001b[0;32m   1262\u001b[0m     \u001b[38;5;129;01mand\u001b[39;00m executing_eagerly):\n\u001b[0;32m   1263\u001b[0m   \u001b[38;5;66;03m# No tape is watching; skip to running the function.\u001b[39;00m\n\u001b[1;32m-> 1264\u001b[0m   \u001b[38;5;28;01mreturn\u001b[39;00m \u001b[38;5;28mself\u001b[39m\u001b[38;5;241m.\u001b[39m_inference_function\u001b[38;5;241m.\u001b[39mflat_call(args)\n\u001b[0;32m   1265\u001b[0m forward_backward \u001b[38;5;241m=\u001b[39m \u001b[38;5;28mself\u001b[39m\u001b[38;5;241m.\u001b[39m_select_forward_and_backward_functions(\n\u001b[0;32m   1266\u001b[0m     args,\n\u001b[0;32m   1267\u001b[0m     possible_gradient_type,\n\u001b[0;32m   1268\u001b[0m     executing_eagerly)\n\u001b[0;32m   1269\u001b[0m forward_function, args_with_tangents \u001b[38;5;241m=\u001b[39m forward_backward\u001b[38;5;241m.\u001b[39mforward()\n",
      "File \u001b[1;32m~\\anaconda3\\Lib\\site-packages\\tensorflow\\python\\eager\\polymorphic_function\\atomic_function.py:217\u001b[0m, in \u001b[0;36mAtomicFunction.flat_call\u001b[1;34m(self, args)\u001b[0m\n\u001b[0;32m    215\u001b[0m \u001b[38;5;28;01mdef\u001b[39;00m \u001b[38;5;21mflat_call\u001b[39m(\u001b[38;5;28mself\u001b[39m, args: Sequence[core\u001b[38;5;241m.\u001b[39mTensor]) \u001b[38;5;241m-\u001b[39m\u001b[38;5;241m>\u001b[39m Any:\n\u001b[0;32m    216\u001b[0m \u001b[38;5;250m  \u001b[39m\u001b[38;5;124;03m\"\"\"Calls with tensor inputs and returns the structured output.\"\"\"\u001b[39;00m\n\u001b[1;32m--> 217\u001b[0m   flat_outputs \u001b[38;5;241m=\u001b[39m \u001b[38;5;28mself\u001b[39m(\u001b[38;5;241m*\u001b[39margs)\n\u001b[0;32m    218\u001b[0m   \u001b[38;5;28;01mreturn\u001b[39;00m \u001b[38;5;28mself\u001b[39m\u001b[38;5;241m.\u001b[39mfunction_type\u001b[38;5;241m.\u001b[39mpack_output(flat_outputs)\n",
      "File \u001b[1;32m~\\anaconda3\\Lib\\site-packages\\tensorflow\\python\\eager\\polymorphic_function\\atomic_function.py:252\u001b[0m, in \u001b[0;36mAtomicFunction.__call__\u001b[1;34m(self, *args)\u001b[0m\n\u001b[0;32m    250\u001b[0m \u001b[38;5;28;01mwith\u001b[39;00m record\u001b[38;5;241m.\u001b[39mstop_recording():\n\u001b[0;32m    251\u001b[0m   \u001b[38;5;28;01mif\u001b[39;00m \u001b[38;5;28mself\u001b[39m\u001b[38;5;241m.\u001b[39m_bound_context\u001b[38;5;241m.\u001b[39mexecuting_eagerly():\n\u001b[1;32m--> 252\u001b[0m     outputs \u001b[38;5;241m=\u001b[39m \u001b[38;5;28mself\u001b[39m\u001b[38;5;241m.\u001b[39m_bound_context\u001b[38;5;241m.\u001b[39mcall_function(\n\u001b[0;32m    253\u001b[0m         \u001b[38;5;28mself\u001b[39m\u001b[38;5;241m.\u001b[39mname,\n\u001b[0;32m    254\u001b[0m         \u001b[38;5;28mlist\u001b[39m(args),\n\u001b[0;32m    255\u001b[0m         \u001b[38;5;28mlen\u001b[39m(\u001b[38;5;28mself\u001b[39m\u001b[38;5;241m.\u001b[39mfunction_type\u001b[38;5;241m.\u001b[39mflat_outputs),\n\u001b[0;32m    256\u001b[0m     )\n\u001b[0;32m    257\u001b[0m   \u001b[38;5;28;01melse\u001b[39;00m:\n\u001b[0;32m    258\u001b[0m     outputs \u001b[38;5;241m=\u001b[39m make_call_op_in_graph(\n\u001b[0;32m    259\u001b[0m         \u001b[38;5;28mself\u001b[39m,\n\u001b[0;32m    260\u001b[0m         \u001b[38;5;28mlist\u001b[39m(args),\n\u001b[0;32m    261\u001b[0m         \u001b[38;5;28mself\u001b[39m\u001b[38;5;241m.\u001b[39m_bound_context\u001b[38;5;241m.\u001b[39mfunction_call_options\u001b[38;5;241m.\u001b[39mas_attrs(),\n\u001b[0;32m    262\u001b[0m     )\n",
      "File \u001b[1;32m~\\anaconda3\\Lib\\site-packages\\tensorflow\\python\\eager\\context.py:1479\u001b[0m, in \u001b[0;36mContext.call_function\u001b[1;34m(self, name, tensor_inputs, num_outputs)\u001b[0m\n\u001b[0;32m   1477\u001b[0m cancellation_context \u001b[38;5;241m=\u001b[39m cancellation\u001b[38;5;241m.\u001b[39mcontext()\n\u001b[0;32m   1478\u001b[0m \u001b[38;5;28;01mif\u001b[39;00m cancellation_context \u001b[38;5;129;01mis\u001b[39;00m \u001b[38;5;28;01mNone\u001b[39;00m:\n\u001b[1;32m-> 1479\u001b[0m   outputs \u001b[38;5;241m=\u001b[39m execute\u001b[38;5;241m.\u001b[39mexecute(\n\u001b[0;32m   1480\u001b[0m       name\u001b[38;5;241m.\u001b[39mdecode(\u001b[38;5;124m\"\u001b[39m\u001b[38;5;124mutf-8\u001b[39m\u001b[38;5;124m\"\u001b[39m),\n\u001b[0;32m   1481\u001b[0m       num_outputs\u001b[38;5;241m=\u001b[39mnum_outputs,\n\u001b[0;32m   1482\u001b[0m       inputs\u001b[38;5;241m=\u001b[39mtensor_inputs,\n\u001b[0;32m   1483\u001b[0m       attrs\u001b[38;5;241m=\u001b[39mattrs,\n\u001b[0;32m   1484\u001b[0m       ctx\u001b[38;5;241m=\u001b[39m\u001b[38;5;28mself\u001b[39m,\n\u001b[0;32m   1485\u001b[0m   )\n\u001b[0;32m   1486\u001b[0m \u001b[38;5;28;01melse\u001b[39;00m:\n\u001b[0;32m   1487\u001b[0m   outputs \u001b[38;5;241m=\u001b[39m execute\u001b[38;5;241m.\u001b[39mexecute_with_cancellation(\n\u001b[0;32m   1488\u001b[0m       name\u001b[38;5;241m.\u001b[39mdecode(\u001b[38;5;124m\"\u001b[39m\u001b[38;5;124mutf-8\u001b[39m\u001b[38;5;124m\"\u001b[39m),\n\u001b[0;32m   1489\u001b[0m       num_outputs\u001b[38;5;241m=\u001b[39mnum_outputs,\n\u001b[1;32m   (...)\u001b[0m\n\u001b[0;32m   1493\u001b[0m       cancellation_manager\u001b[38;5;241m=\u001b[39mcancellation_context,\n\u001b[0;32m   1494\u001b[0m   )\n",
      "File \u001b[1;32m~\\anaconda3\\Lib\\site-packages\\tensorflow\\python\\eager\\execute.py:60\u001b[0m, in \u001b[0;36mquick_execute\u001b[1;34m(op_name, num_outputs, inputs, attrs, ctx, name)\u001b[0m\n\u001b[0;32m     53\u001b[0m   \u001b[38;5;66;03m# Convert any objects of type core_types.Tensor to Tensor.\u001b[39;00m\n\u001b[0;32m     54\u001b[0m   inputs \u001b[38;5;241m=\u001b[39m [\n\u001b[0;32m     55\u001b[0m       tensor_conversion_registry\u001b[38;5;241m.\u001b[39mconvert(t)\n\u001b[0;32m     56\u001b[0m       \u001b[38;5;28;01mif\u001b[39;00m \u001b[38;5;28misinstance\u001b[39m(t, core_types\u001b[38;5;241m.\u001b[39mTensor)\n\u001b[0;32m     57\u001b[0m       \u001b[38;5;28;01melse\u001b[39;00m t\n\u001b[0;32m     58\u001b[0m       \u001b[38;5;28;01mfor\u001b[39;00m t \u001b[38;5;129;01min\u001b[39;00m inputs\n\u001b[0;32m     59\u001b[0m   ]\n\u001b[1;32m---> 60\u001b[0m   tensors \u001b[38;5;241m=\u001b[39m pywrap_tfe\u001b[38;5;241m.\u001b[39mTFE_Py_Execute(ctx\u001b[38;5;241m.\u001b[39m_handle, device_name, op_name,\n\u001b[0;32m     61\u001b[0m                                       inputs, attrs, num_outputs)\n\u001b[0;32m     62\u001b[0m \u001b[38;5;28;01mexcept\u001b[39;00m core\u001b[38;5;241m.\u001b[39m_NotOkStatusException \u001b[38;5;28;01mas\u001b[39;00m e:\n\u001b[0;32m     63\u001b[0m   \u001b[38;5;28;01mif\u001b[39;00m name \u001b[38;5;129;01mis\u001b[39;00m \u001b[38;5;129;01mnot\u001b[39;00m \u001b[38;5;28;01mNone\u001b[39;00m:\n",
      "\u001b[1;31mKeyboardInterrupt\u001b[0m: "
     ]
    }
   ],
   "source": [
    "# This is for precise_relationships and local families combined.\n",
    "from keras.callbacks import ReduceLROnPlateau, ModelCheckpoint, EarlyStopping\n",
    "\n",
    "reducelr = ReduceLROnPlateau(monitor='val_auc', mode='max', patience=6, factor=0.1, verbose=1)\n",
    "\n",
    "model_checkpoint = ModelCheckpoint('model_best_checkpoint.h5', save_best_only=True,\n",
    "                                   save_weights_only=True, monitor='val_auc', mode='max', verbose=1)\n",
    "\n",
    "early_stopping = EarlyStopping(monitor='val_auc', patience=20, mode='max')\n",
    "\n",
    "callbacks_list = [reducelr, model_checkpoint, early_stopping]\n",
    "\n",
    "batch_size = 16\n",
    "\n",
    "def data_generator(data, batch_size):\n",
    "    while True:\n",
    "        batch_data = getMiniBatch(batch_size=batch_size, data=data)\n",
    "        yield batch_data\n",
    "\n",
    "train_gen = data_generator(train, batch_size)\n",
    "val_gen = data_generator(val, batch_size)\n",
    "\n",
    "history = siamese_net.fit(train_gen, steps_per_epoch=200, epochs=20, #Changed from 100 to 50\n",
    "                          validation_data=val_gen, validation_steps=100,\n",
    "                          verbose=1, callbacks=callbacks_list)"
   ]
  },
  {
   "cell_type": "markdown",
   "id": "685eafe8",
   "metadata": {},
   "source": [
    "# Version 4: Usage of all FITW 1st Generation Kinship Relationships\n",
    "\n",
    "This is to ensure larger sample size and higher accuracy."
   ]
  },
  {
   "cell_type": "code",
   "execution_count": 157,
   "id": "23836b8d",
   "metadata": {},
   "outputs": [],
   "source": [
    "#train-faces contains only FITW dataset\n",
    "main_folder = \"train-faces\""
   ]
  },
  {
   "cell_type": "code",
   "execution_count": 158,
   "id": "d53e9485",
   "metadata": {},
   "outputs": [
    {
     "name": "stdout",
     "output_type": "stream",
     "text": [
      "Number of Families: 800 \n",
      "Number of unique Humans: 3949 \n",
      "Average of 5 images per unique human\n"
     ]
    }
   ],
   "source": [
    "#creates dictionary where key is family and values are family members in family\n",
    "allPhotos = defaultdict(list)\n",
    "families = []\n",
    "totalphotocount = 0\n",
    "# indicate name of folder housing all training image folders\n",
    "for family in glob.glob(main_folder + \"/*\"):\n",
    "    families.append(family)\n",
    "    for mem in glob.glob(family+'/*'):\n",
    "        for photo in glob.glob(mem+'/*'):\n",
    "            allPhotos[mem].append(photo)\n",
    "            totalphotocount +=1\n",
    "\n",
    "#forms list of all families\n",
    "ppl = list(allPhotos.keys())\n",
    "\n",
    "#Counts number of members\n",
    "len(ppl)\n",
    "\n",
    "#print statement\n",
    "print(f\"Number of Families: {len(families)} \\nNumber of unique Humans: {len(ppl)} \\nAverage of {int(totalphotocount/len(ppl))} images per unique human\")"
   ]
  },
  {
   "cell_type": "code",
   "execution_count": 146,
   "id": "4c807059",
   "metadata": {},
   "outputs": [
    {
     "name": "stdout",
     "output_type": "stream",
     "text": [
      "OrderedDict([('train-faces\\\\F0001\\\\MID1', ['train-faces\\\\F0001\\\\MID1\\\\P00001_face2.jpg', 'train-faces\\\\F0001\\\\MID1\\\\P00002_face3.jpg', 'train-faces\\\\F0001\\\\MID1\\\\P00003_face1.jpg', 'train-faces\\\\F0001\\\\MID1\\\\P00004_face3.jpg', 'train-faces\\\\F0001\\\\MID1\\\\P00007_face2.jpg', 'train-faces\\\\F0001\\\\MID1\\\\P00008_face7.jpg']), ('train-faces\\\\F0001\\\\MID2', ['train-faces\\\\F0001\\\\MID2\\\\P00001_face1.jpg', 'train-faces\\\\F0001\\\\MID2\\\\P00002_face2.jpg', 'train-faces\\\\F0001\\\\MID2\\\\P00003_face2.jpg', 'train-faces\\\\F0001\\\\MID2\\\\P00004_face1.jpg', 'train-faces\\\\F0001\\\\MID2\\\\P00008_face2.jpg'])])\n",
      "\n",
      "OrderedDict([('train-faces\\\\L908\\\\MID2', ['train-faces\\\\L908\\\\MID2\\\\img1.jpg', 'train-faces\\\\L908\\\\MID2\\\\img2.jpeg']), ('train-faces\\\\L908\\\\MID3', ['train-faces\\\\L908\\\\MID3\\\\img1.jpg'])])\n"
     ]
    }
   ],
   "source": [
    "# Get first 2 and last 2 in dictionary of allPhotos, which contains all unique humans and the images within\n",
    "first = collections.OrderedDict(list(allPhotos.items())[0:2])\n",
    "print(first)\n",
    "last = collections.OrderedDict(list(allPhotos.items())[-2:])\n",
    "print(\"\")\n",
    "print(last)"
   ]
  },
  {
   "cell_type": "code",
   "execution_count": 123,
   "id": "f99f006f",
   "metadata": {},
   "outputs": [
    {
     "name": "stdout",
     "output_type": "stream",
     "text": [
      "(81, 2)\n"
     ]
    }
   ],
   "source": [
    "#turning data into dataframe\n",
    "data2 = pd.read_csv('./train_relationships_local.csv')\n",
    "print(data2.shape)"
   ]
  },
  {
   "cell_type": "code",
   "execution_count": 124,
   "id": "3e91303c",
   "metadata": {},
   "outputs": [
    {
     "name": "stdout",
     "output_type": "stream",
     "text": [
      "Dataframe of all 2nd generational relationships is (3866, 2)\n"
     ]
    }
   ],
   "source": [
    "#precise relationships of FITW dataset kinship\n",
    "fd = pd.read_csv('./precise_relationships/fd.csv')\n",
    "fs = pd.read_csv('./precise_relationships/fs.csv')\n",
    "md = pd.read_csv('./precise_relationships/md.csv')\n",
    "ms = pd.read_csv('./precise_relationships/ms.csv')\n",
    "\n",
    "all_kinship = pd.concat([fd,fs,md,ms])\n",
    "precise_kins_local_df = pd.concat([all_kinship, data2])\n",
    "\n",
    "# total number of 2nd gen relationships\n",
    "print(f\"Dataframe of all 2nd generational relationships is {all_kinship.shape}\")"
   ]
  },
  {
   "cell_type": "code",
   "execution_count": 152,
   "id": "29577ac4",
   "metadata": {},
   "outputs": [
    {
     "name": "stdout",
     "output_type": "stream",
     "text": [
      "(3679, 2)\n"
     ]
    },
    {
     "data": {
      "text/html": [
       "<div>\n",
       "<style scoped>\n",
       "    .dataframe tbody tr th:only-of-type {\n",
       "        vertical-align: middle;\n",
       "    }\n",
       "\n",
       "    .dataframe tbody tr th {\n",
       "        vertical-align: top;\n",
       "    }\n",
       "\n",
       "    .dataframe thead th {\n",
       "        text-align: right;\n",
       "    }\n",
       "</style>\n",
       "<table border=\"1\" class=\"dataframe\">\n",
       "  <thead>\n",
       "    <tr style=\"text-align: right;\">\n",
       "      <th></th>\n",
       "      <th>p1</th>\n",
       "      <th>p2</th>\n",
       "    </tr>\n",
       "  </thead>\n",
       "  <tbody>\n",
       "    <tr>\n",
       "      <th>0</th>\n",
       "      <td>train-faces\\train-faces\\Combined_Families\\F000...</td>\n",
       "      <td>train-faces\\train-faces\\Combined_Families\\F000...</td>\n",
       "    </tr>\n",
       "    <tr>\n",
       "      <th>1</th>\n",
       "      <td>train-faces\\train-faces\\Combined_Families\\F000...</td>\n",
       "      <td>train-faces\\train-faces\\Combined_Families\\F000...</td>\n",
       "    </tr>\n",
       "    <tr>\n",
       "      <th>2</th>\n",
       "      <td>train-faces\\train-faces\\Combined_Families\\F000...</td>\n",
       "      <td>train-faces\\train-faces\\Combined_Families\\F000...</td>\n",
       "    </tr>\n",
       "    <tr>\n",
       "      <th>3</th>\n",
       "      <td>train-faces\\train-faces\\Combined_Families\\F000...</td>\n",
       "      <td>train-faces\\train-faces\\Combined_Families\\F000...</td>\n",
       "    </tr>\n",
       "    <tr>\n",
       "      <th>4</th>\n",
       "      <td>train-faces\\train-faces\\Combined_Families\\F000...</td>\n",
       "      <td>train-faces\\train-faces\\Combined_Families\\F000...</td>\n",
       "    </tr>\n",
       "  </tbody>\n",
       "</table>\n",
       "</div>"
      ],
      "text/plain": [
       "                                                  p1  \\\n",
       "0  train-faces\\train-faces\\Combined_Families\\F000...   \n",
       "1  train-faces\\train-faces\\Combined_Families\\F000...   \n",
       "2  train-faces\\train-faces\\Combined_Families\\F000...   \n",
       "3  train-faces\\train-faces\\Combined_Families\\F000...   \n",
       "4  train-faces\\train-faces\\Combined_Families\\F000...   \n",
       "\n",
       "                                                  p2  \n",
       "0  train-faces\\train-faces\\Combined_Families\\F000...  \n",
       "1  train-faces\\train-faces\\Combined_Families\\F000...  \n",
       "2  train-faces\\train-faces\\Combined_Families\\F000...  \n",
       "3  train-faces\\train-faces\\Combined_Families\\F000...  \n",
       "4  train-faces\\train-faces\\Combined_Families\\F000...  "
      ]
     },
     "execution_count": 152,
     "metadata": {},
     "output_type": "execute_result"
    }
   ],
   "source": [
    "# Using curated database with only 2nd gen kinships mixed in.\n",
    "data = joined_df\n",
    "\n",
    "\n",
    "data.p1 = data.p1.apply( lambda x: main_folder + '/'+x )\n",
    "\n",
    "# Replace forward slashes in the 'p1' column with backslashes\n",
    "data['p1'] = data['p1'].str.replace('/', '\\\\')\n",
    "\n",
    "data.p2 = data.p2.apply( lambda x: main_folder + '/'+x )\n",
    "\n",
    "# Replace forward slashes in the 'p1' column with backslashes\n",
    "data['p2'] = data['p2'].str.replace('/', '\\\\')\n",
    "\n",
    "#remove last \\ in values\n",
    "\n",
    "\n",
    "def remove_last_backslash(df):\n",
    "    # Iterate over the columns in the DataFrame\n",
    "    for column in df.columns:\n",
    "        # Get the values in the column\n",
    "        values = df[column]\n",
    "\n",
    "        # Remove the last \"\\\" character from each value\n",
    "        values = values.str.rstrip(\"\\\\\")\n",
    "\n",
    "        # Update the DataFrame with the modified values\n",
    "        df[column] = values\n",
    "    \n",
    "    return df\n",
    "\n",
    "# Remove the last \"\\\" character from all values in the DataFrame\n",
    "data = remove_last_backslash(data)\n",
    "\n",
    "\n",
    "print(data.shape)\n",
    "data.head()"
   ]
  },
  {
   "cell_type": "code",
   "execution_count": 126,
   "id": "d569068a",
   "metadata": {},
   "outputs": [
    {
     "data": {
      "text/plain": [
       "['train-faces\\\\L907\\\\MID3',\n",
       " 'train-faces\\\\L907\\\\MID4',\n",
       " 'train-faces\\\\L908\\\\MID1',\n",
       " 'train-faces\\\\L908\\\\MID2',\n",
       " 'train-faces\\\\L908\\\\MID3']"
      ]
     },
     "execution_count": 126,
     "metadata": {},
     "output_type": "execute_result"
    }
   ],
   "source": [
    "ppl[-5:]"
   ]
  },
  {
   "cell_type": "code",
   "execution_count": 128,
   "id": "c1b5a1be",
   "metadata": {},
   "outputs": [
    {
     "name": "stdout",
     "output_type": "stream",
     "text": [
      "There are 3843 rows of training pairs to train kinship model on.\n",
      "There are 104 rows of data where either 1 or both folders not found in train-faces folder\n"
     ]
    },
    {
     "data": {
      "text/plain": [
       "[('train-faces\\\\F0002\\\\MID1', 'train-faces\\\\F0002\\\\MID3'),\n",
       " ('train-faces\\\\F0003\\\\MID2', 'train-faces\\\\F0003\\\\MID1'),\n",
       " ('train-faces\\\\F0003\\\\MID2', 'train-faces\\\\F0003\\\\MID4'),\n",
       " ('train-faces\\\\F0004\\\\MID1', 'train-faces\\\\F0004\\\\MID4'),\n",
       " ('train-faces\\\\F0004\\\\MID1', 'train-faces\\\\F0004\\\\MID5')]"
      ]
     },
     "execution_count": 128,
     "metadata": {},
     "output_type": "execute_result"
    }
   ],
   "source": [
    "#return rows where both images are found in folder\n",
    "tdata = data[ ( (data[\"p1\"].isin(ppl)) & (data[\"p2\"].isin(ppl)) ) ]\n",
    "tdata = [ ( x[0], x[1]  ) for x in tdata.values ]\n",
    "print(f\"There are {len(tdata)} rows of training pairs to train kinship model on.\")\n",
    "print(f\"There are {data.shape[0] - len(tdata)} rows of data where either 1 or both folders not found in train-faces folder\")\n",
    "tdata[:5]"
   ]
  },
  {
   "cell_type": "code",
   "execution_count": 129,
   "id": "4d714b25",
   "metadata": {},
   "outputs": [
    {
     "name": "stdout",
     "output_type": "stream",
     "text": [
      "3458\n",
      "385\n"
     ]
    }
   ],
   "source": [
    "# Split the data into a training set and a test set. 90% train dataset and validation 10% (F09)\n",
    "train, val = train_test_split(tdata, test_size=0.1, random_state=42)\n",
    "print(len(train))\n",
    "print(len(val))"
   ]
  },
  {
   "cell_type": "code",
   "execution_count": 130,
   "id": "f549fc66",
   "metadata": {},
   "outputs": [],
   "source": [
    "from keras.models import Model\n",
    "from keras.layers import Input\n",
    "import tensorflow as tf\n",
    "# updated tensorflow version, which changes keras version to keras-2.14.0\n",
    "from tensorflow.keras.applications import VGG16  # Or another architecture"
   ]
  },
  {
   "cell_type": "code",
   "execution_count": 131,
   "id": "b9777b6c",
   "metadata": {},
   "outputs": [],
   "source": [
    "IMG_DIM = (224,224,3)\n",
    "\n",
    "vggface = VGG16(include_top=False, weights='imagenet')\n",
    "\n",
    "for layer in vggface.layers[:-3]:\n",
    "    layer.trainable=True"
   ]
  },
  {
   "cell_type": "code",
   "execution_count": 132,
   "id": "b69be866",
   "metadata": {},
   "outputs": [],
   "source": [
    "#ChatGPT improved version of above cell. \n",
    "import numpy as np\n",
    "import tensorflow as tf\n",
    "\n",
    "def initialize_bias(shape, dtype=None, name=None):\n",
    "    if dtype is None:\n",
    "        dtype = tf.float32  # Set the default data type to float32\n",
    "    return tf.constant(np.random.normal(loc=0.5, scale=1e-2, size=shape), dtype=dtype, name=name)\n",
    "\n",
    "def initialize_weights(shape, dtype=None, name=None):\n",
    "    if dtype is None:\n",
    "        dtype = tf.float32  # Set the default data type to float32\n",
    "    return tf.constant(np.random.normal(loc=0.0, scale=1e-2, size=shape), dtype=dtype, name=name)\n"
   ]
  },
  {
   "cell_type": "markdown",
   "id": "1e6a7f35",
   "metadata": {},
   "source": [
    "# Creating the Siamese Neural Network Architecture\n",
    "\n",
    "The following code definesa Siamese neural network using the Keras library for image similarity comparison. The Siamese network is a type of neural network architecture designed to learn and compare similarity between pairs of inputs. In this case, it appears is used for a binary classification tasks (e.g., determining if two faces provided are 1st degree kin).\n",
    "\n",
    "The code follows the following steps:\n",
    "\n",
    "1. Defines a custom AUC (Area Under the Curve) metric function, auc, which computes the ROC AUC score. This function is used for evaluation during model training.\n",
    "\n",
    "2. Creates two input layers, left_input and right_input, which are placeholders for the left and right images to be compared. IMG_DIM is assumed to be the input shape of your images.\n",
    "\n",
    "3. Passes both inputs through a VGGFace model (not shown in the code) to extract image features.\n",
    "\n",
    "4. Concatenates the features from each image, including Global Max Pooling and Global Average Pooling, to create feature vectors x1 and x2.\n",
    "\n",
    "5. Applies a shared fully connected (Dense) layer with ReLU activation, kernel regularization, and custom weight initialization to each feature vector.\n",
    "\n",
    "6. Computes various operations on the feature vectors:\n",
    "\n",
    "7. Calculations\n",
    "* x3 calculates the absolute difference between the two feature vectors.\n",
    "* x4 calculates the squared difference between the two feature vectors.\n",
    "* x5 multiplies the two feature vectors element-wise.\n",
    "\n",
    "8. Concatenates the results of the operations to create a single vector x.\n",
    "\n",
    "9. Applies another fully connected layer with ReLU activation and dropout for regularization.\n",
    "\n",
    "10. The final output layer with a sigmoid activation is used to produce a binary classification prediction, which indicates whether the two input facial images provided are 1st degree kin."
   ]
  },
  {
   "cell_type": "code",
   "execution_count": 133,
   "id": "a2c2c05f",
   "metadata": {},
   "outputs": [],
   "source": [
    "from keras.layers import Input, Dense, Flatten, Subtract, Dropout, Multiply\n",
    "from keras.layers import Lambda, Concatenate, GlobalMaxPool2D, GlobalAvgPool2D\n",
    "from keras.models import Model\n",
    "from keras.regularizers import l2\n",
    "from keras import backend as K\n",
    "from keras.optimizers import SGD,Adam\n",
    "from keras.losses import binary_crossentropy\n",
    "import tensorflow as tf\n",
    "from sklearn.metrics import roc_auc_score\n",
    "\n",
    "def auc(y_true, y_pred):\n",
    "    y_true = tf.cast(y_true, dtype=tf.float32)\n",
    "    y_pred = tf.cast(y_pred, dtype=tf.float32)\n",
    "    #if len(np.unique(y_true)) == 1:\n",
    "    #    return 0.5  # or any other appropriate value, contains predefined value of 0.5\n",
    "    if tf.shape(y_true)[0] > 1:  \n",
    "        \n",
    "        auc_value = tf.py_function(lambda y_true, y_pred: roc_auc_score(y_true, y_pred, average='macro', multi_class='ovr'),\n",
    "                                   (y_true, y_pred), tf.float32)\n",
    "        \n",
    "        return auc_value\n",
    "    else:\n",
    "        return 0.5  # or any other appropriate value\n",
    "    \n",
    "    #return tf.py_function(roc_auc_score, (y_true, y_pred), tf.double)\n",
    "\n",
    "left_input = Input(IMG_DIM)\n",
    "right_input = Input(IMG_DIM)\n",
    "\n",
    "x1 = vggface(left_input)\n",
    "x2 = vggface(right_input)\n",
    "\n",
    "x1 = Concatenate(axis=-1)([GlobalMaxPool2D()(x1), GlobalAvgPool2D()(x1)])\n",
    "x2 = Concatenate(axis=-1)([GlobalMaxPool2D()(x2), GlobalAvgPool2D()(x2)])\n",
    "\n",
    "fc = Dense(100,activation='relu',kernel_regularizer=l2(1e-3),\n",
    "                   kernel_initializer=initialize_weights,bias_initializer=initialize_bias)\n",
    "x1 = fc(x1)\n",
    "x2 = fc(x2)\n",
    "\n",
    "# |h1-h2|\n",
    "x3 = Lambda(lambda tensors : K.abs(tensors[0] - tensors[1]))([x1, x2])\n",
    "\n",
    "# |h1-h2|^2\n",
    "x4 = Lambda(lambda tensor  : K.square(tensor))(x3)\n",
    "\n",
    "# h1*h2\n",
    "x5 = Multiply()([x1, x2])\n",
    "\n",
    "# |h1-h2|^2 + h1*h2\n",
    "x = Concatenate(axis=-1)([x4,x5])\n",
    "\n",
    "x = Dense(100,activation='relu',kernel_regularizer=l2(1e-3),\n",
    "                   kernel_initializer=initialize_weights,bias_initializer=initialize_bias)(x)\n",
    "x = Dropout(0.1)(x)\n",
    "\n",
    "\n",
    "prediction = Dense(1,activation='sigmoid',bias_initializer=initialize_bias)(x)\n",
    "\n",
    "siamese_net = Model(inputs=[left_input,right_input],outputs=prediction)\n",
    "\n",
    "#optimizer = Adam(1e-5)\n",
    "\n",
    "\"https://towardsdatascience.com/lossless-triplet-loss-7e932f990b24\"\n",
    "\n",
    "#compilation step, removed auc and only put accuracy\n",
    "siamese_net.compile(loss=\"binary_crossentropy\",optimizer= 'adam',metrics=['accuracy', auc]) #If needed, can put accuracy here"
   ]
  },
  {
   "cell_type": "code",
   "execution_count": 134,
   "id": "f96d69f6",
   "metadata": {},
   "outputs": [
    {
     "name": "stdout",
     "output_type": "stream",
     "text": [
      "Epoch 1/20\n",
      "200/200 [==============================] - ETA: 0s - loss: 26.2359 - accuracy: 0.5044 - auc: 0.5080\n",
      "Epoch 1: val_auc improved from -inf to 0.50273, saving model to model_best_checkpoint.h5\n",
      "200/200 [==============================] - 2018s 10s/step - loss: 26.2359 - accuracy: 0.5044 - auc: 0.5080 - val_loss: 0.6964 - val_accuracy: 0.5000 - val_auc: 0.5027 - lr: 0.0010\n",
      "Epoch 2/20\n",
      "200/200 [==============================] - ETA: 0s - loss: 0.7036 - accuracy: 0.5006 - auc: 0.5001 \n",
      "Epoch 2: val_auc did not improve from 0.50273\n",
      "200/200 [==============================] - 2693s 13s/step - loss: 0.7036 - accuracy: 0.5006 - auc: 0.5001 - val_loss: 0.6966 - val_accuracy: 0.5000 - val_auc: 0.5000 - lr: 0.0010\n",
      "Epoch 3/20\n",
      "200/200 [==============================] - ETA: 0s - loss: 0.7019 - accuracy: 0.4881 - auc: 0.4877 \n",
      "Epoch 3: val_auc did not improve from 0.50273\n",
      "200/200 [==============================] - 2600s 13s/step - loss: 0.7019 - accuracy: 0.4881 - auc: 0.4877 - val_loss: 0.6967 - val_accuracy: 0.5000 - val_auc: 0.5000 - lr: 0.0010\n",
      "Epoch 4/20\n",
      "200/200 [==============================] - ETA: 0s - loss: 0.6986 - accuracy: 0.5034 - auc: 0.5119\n",
      "Epoch 4: val_auc did not improve from 0.50273\n",
      "200/200 [==============================] - 2028s 10s/step - loss: 0.6986 - accuracy: 0.5034 - auc: 0.5119 - val_loss: 0.6967 - val_accuracy: 0.5000 - val_auc: 0.5000 - lr: 0.0010\n",
      "Epoch 5/20\n",
      "200/200 [==============================] - ETA: 0s - loss: 0.6975 - accuracy: 0.5141 - auc: 0.5171\n",
      "Epoch 5: val_auc did not improve from 0.50273\n",
      "200/200 [==============================] - 2070s 10s/step - loss: 0.6975 - accuracy: 0.5141 - auc: 0.5171 - val_loss: 0.6964 - val_accuracy: 0.5000 - val_auc: 0.5000 - lr: 0.0010\n",
      "Epoch 6/20\n",
      "200/200 [==============================] - ETA: 0s - loss: 0.6998 - accuracy: 0.4897 - auc: 0.4980 \n",
      "Epoch 6: val_auc did not improve from 0.50273\n",
      "200/200 [==============================] - 2645s 13s/step - loss: 0.6998 - accuracy: 0.4897 - auc: 0.4980 - val_loss: 0.6964 - val_accuracy: 0.5000 - val_auc: 0.5000 - lr: 0.0010\n",
      "Epoch 7/20\n",
      "200/200 [==============================] - ETA: 0s - loss: 0.7031 - accuracy: 0.4762 - auc: 0.4592\n",
      "Epoch 7: ReduceLROnPlateau reducing learning rate to 0.00010000000474974513.\n",
      "\n",
      "Epoch 7: val_auc did not improve from 0.50273\n",
      "200/200 [==============================] - 2108s 11s/step - loss: 0.7031 - accuracy: 0.4762 - auc: 0.4592 - val_loss: 0.6966 - val_accuracy: 0.5000 - val_auc: 0.5000 - lr: 0.0010\n",
      "Epoch 8/20\n",
      "200/200 [==============================] - ETA: 0s - loss: 0.6975 - accuracy: 0.5006 - auc: 0.5082\n",
      "Epoch 8: val_auc did not improve from 0.50273\n",
      "200/200 [==============================] - 2088s 10s/step - loss: 0.6975 - accuracy: 0.5006 - auc: 0.5082 - val_loss: 0.6965 - val_accuracy: 0.5000 - val_auc: 0.5000 - lr: 1.0000e-04\n",
      "Epoch 9/20\n",
      "200/200 [==============================] - ETA: 0s - loss: 0.6983 - accuracy: 0.4975 - auc: 0.4935\n",
      "Epoch 9: val_auc did not improve from 0.50273\n",
      "200/200 [==============================] - 2037s 10s/step - loss: 0.6983 - accuracy: 0.4975 - auc: 0.4935 - val_loss: 0.6965 - val_accuracy: 0.5000 - val_auc: 0.5000 - lr: 1.0000e-04\n",
      "Epoch 10/20\n",
      "200/200 [==============================] - ETA: 0s - loss: 0.6979 - accuracy: 0.5022 - auc: 0.4987\n",
      "Epoch 10: val_auc did not improve from 0.50273\n",
      "200/200 [==============================] - 1977s 10s/step - loss: 0.6979 - accuracy: 0.5022 - auc: 0.4987 - val_loss: 0.6965 - val_accuracy: 0.5000 - val_auc: 0.5000 - lr: 1.0000e-04\n",
      "Epoch 11/20\n",
      "200/200 [==============================] - ETA: 0s - loss: 0.6984 - accuracy: 0.4984 - auc: 0.4965 \n",
      "Epoch 11: val_auc did not improve from 0.50273\n",
      "200/200 [==============================] - 3342s 17s/step - loss: 0.6984 - accuracy: 0.4984 - auc: 0.4965 - val_loss: 0.6964 - val_accuracy: 0.5000 - val_auc: 0.5000 - lr: 1.0000e-04\n",
      "Epoch 12/20\n",
      "200/200 [==============================] - ETA: 0s - loss: 0.6987 - accuracy: 0.4872 - auc: 0.4899 \n",
      "Epoch 12: val_auc did not improve from 0.50273\n",
      "200/200 [==============================] - 2773s 14s/step - loss: 0.6987 - accuracy: 0.4872 - auc: 0.4899 - val_loss: 0.6964 - val_accuracy: 0.5000 - val_auc: 0.5000 - lr: 1.0000e-04\n",
      "Epoch 13/20\n",
      "200/200 [==============================] - ETA: 0s - loss: 0.6972 - accuracy: 0.5013 - auc: 0.5051 \n",
      "Epoch 13: ReduceLROnPlateau reducing learning rate to 1.0000000474974514e-05.\n",
      "\n",
      "Epoch 13: val_auc did not improve from 0.50273\n",
      "200/200 [==============================] - 2628s 13s/step - loss: 0.6972 - accuracy: 0.5013 - auc: 0.5051 - val_loss: 0.6963 - val_accuracy: 0.5000 - val_auc: 0.5000 - lr: 1.0000e-04\n",
      "Epoch 14/20\n",
      "200/200 [==============================] - ETA: 0s - loss: 0.6957 - accuracy: 0.5194 - auc: 0.5206 \n",
      "Epoch 14: val_auc did not improve from 0.50273\n",
      "200/200 [==============================] - 2260s 11s/step - loss: 0.6957 - accuracy: 0.5194 - auc: 0.5206 - val_loss: 0.6963 - val_accuracy: 0.5000 - val_auc: 0.5000 - lr: 1.0000e-05\n",
      "Epoch 15/20\n",
      "200/200 [==============================] - ETA: 0s - loss: 0.6979 - accuracy: 0.4978 - auc: 0.5013 \n",
      "Epoch 15: val_auc did not improve from 0.50273\n",
      "200/200 [==============================] - 2312s 12s/step - loss: 0.6979 - accuracy: 0.4978 - auc: 0.5013 - val_loss: 0.6963 - val_accuracy: 0.5000 - val_auc: 0.5000 - lr: 1.0000e-05\n",
      "Epoch 16/20\n",
      "200/200 [==============================] - ETA: 0s - loss: 0.6973 - accuracy: 0.5019 - auc: 0.5034\n",
      "Epoch 16: val_auc did not improve from 0.50273\n",
      "200/200 [==============================] - 2063s 10s/step - loss: 0.6973 - accuracy: 0.5019 - auc: 0.5034 - val_loss: 0.6963 - val_accuracy: 0.5000 - val_auc: 0.5000 - lr: 1.0000e-05\n",
      "Epoch 17/20\n",
      "200/200 [==============================] - ETA: 0s - loss: 0.6971 - accuracy: 0.5109 - auc: 0.5099\n",
      "Epoch 17: val_auc did not improve from 0.50273\n",
      "200/200 [==============================] - 2264s 11s/step - loss: 0.6971 - accuracy: 0.5109 - auc: 0.5099 - val_loss: 0.6963 - val_accuracy: 0.5000 - val_auc: 0.5000 - lr: 1.0000e-05\n",
      "Epoch 18/20\n",
      "200/200 [==============================] - ETA: 0s - loss: 0.6973 - accuracy: 0.4981 - auc: 0.4909 \n",
      "Epoch 18: val_auc did not improve from 0.50273\n",
      "200/200 [==============================] - 2732s 14s/step - loss: 0.6973 - accuracy: 0.4981 - auc: 0.4909 - val_loss: 0.6963 - val_accuracy: 0.5000 - val_auc: 0.5000 - lr: 1.0000e-05\n",
      "Epoch 19/20\n",
      "200/200 [==============================] - ETA: 0s - loss: 0.6976 - accuracy: 0.5044 - auc: 0.4998 \n",
      "Epoch 19: ReduceLROnPlateau reducing learning rate to 1.0000000656873453e-06.\n",
      "\n",
      "Epoch 19: val_auc did not improve from 0.50273\n",
      "200/200 [==============================] - 2288s 11s/step - loss: 0.6976 - accuracy: 0.5044 - auc: 0.4998 - val_loss: 0.6963 - val_accuracy: 0.5000 - val_auc: 0.5000 - lr: 1.0000e-05\n",
      "Epoch 20/20\n",
      "200/200 [==============================] - ETA: 0s - loss: 0.6975 - accuracy: 0.5100 - auc: 0.5017\n",
      "Epoch 20: val_auc did not improve from 0.50273\n",
      "200/200 [==============================] - 2052s 10s/step - loss: 0.6975 - accuracy: 0.5100 - auc: 0.5017 - val_loss: 0.6963 - val_accuracy: 0.5000 - val_auc: 0.5000 - lr: 1.0000e-06\n"
     ]
    }
   ],
   "source": [
    "# This is for FITW families only 1st degree kinship entire dataset + local families\n",
    "from keras.callbacks import ReduceLROnPlateau, ModelCheckpoint, EarlyStopping\n",
    "\n",
    "reducelr = ReduceLROnPlateau(monitor='val_auc', mode='max', patience=6, factor=0.1, verbose=1)\n",
    "\n",
    "model_checkpoint = ModelCheckpoint('model_best_checkpoint.h5', save_best_only=True,\n",
    "                                   save_weights_only=True, monitor='val_auc', mode='max', verbose=1)\n",
    "\n",
    "early_stopping = EarlyStopping(monitor='val_auc', patience=20, mode='max')\n",
    "\n",
    "callbacks_list = [reducelr, model_checkpoint, early_stopping]\n",
    "\n",
    "batch_size = 16\n",
    "\n",
    "def data_generator(data, batch_size):\n",
    "    while True:\n",
    "        batch_data = getMiniBatch(batch_size=batch_size, data=data)\n",
    "        yield batch_data\n",
    "\n",
    "train_gen = data_generator(train, batch_size)\n",
    "val_gen = data_generator(val, batch_size)\n",
    "\n",
    "history = siamese_net.fit(train_gen, steps_per_epoch=200, epochs=20, #Changed from 100 to 20\n",
    "                          validation_data=val_gen, validation_steps=100,\n",
    "                          verbose=1, callbacks=callbacks_list)"
   ]
  },
  {
   "cell_type": "markdown",
   "id": "de7b0657",
   "metadata": {},
   "source": [
    "# Version 5: Modelling all relationships of 1st generation in FITW and local datasets"
   ]
  },
  {
   "cell_type": "code",
   "execution_count": 166,
   "id": "094ee429",
   "metadata": {},
   "outputs": [
    {
     "name": "stdout",
     "output_type": "stream",
     "text": [
      "(3598, 2)\n",
      "(101, 2)\n",
      "(3699, 2)\n",
      "           p1          p2\n",
      "0  F0002/MID1  F0002/MID3\n",
      "1  F0002/MID2  F0002/MID3\n",
      "2  F0005/MID1  F0005/MID2\n",
      "3  F0005/MID3  F0005/MID2\n",
      "4  F0009/MID1  F0009/MID4\n"
     ]
    }
   ],
   "source": [
    "#turning data into dataframe\n",
    "data = pd.read_csv('./train_relationships_fitw.csv')\n",
    "print(data.shape)\n",
    "data2 = pd.read_csv('./train_relationships_local.csv')\n",
    "print(data2.shape)\n",
    "\n",
    "#concatenate both dataframes of FITW and local dataset\n",
    "fitw_local_df = pd.concat([data, data2])\n",
    "print(fitw_local_df.shape)\n",
    "print(fitw_local_df.head())"
   ]
  },
  {
   "cell_type": "code",
   "execution_count": 167,
   "id": "97e71e90",
   "metadata": {},
   "outputs": [
    {
     "name": "stdout",
     "output_type": "stream",
     "text": [
      "(3699, 2)\n"
     ]
    },
    {
     "data": {
      "text/html": [
       "<div>\n",
       "<style scoped>\n",
       "    .dataframe tbody tr th:only-of-type {\n",
       "        vertical-align: middle;\n",
       "    }\n",
       "\n",
       "    .dataframe tbody tr th {\n",
       "        vertical-align: top;\n",
       "    }\n",
       "\n",
       "    .dataframe thead th {\n",
       "        text-align: right;\n",
       "    }\n",
       "</style>\n",
       "<table border=\"1\" class=\"dataframe\">\n",
       "  <thead>\n",
       "    <tr style=\"text-align: right;\">\n",
       "      <th></th>\n",
       "      <th>p1</th>\n",
       "      <th>p2</th>\n",
       "    </tr>\n",
       "  </thead>\n",
       "  <tbody>\n",
       "    <tr>\n",
       "      <th>0</th>\n",
       "      <td>train-faces\\F0002\\MID1</td>\n",
       "      <td>train-faces\\F0002\\MID3</td>\n",
       "    </tr>\n",
       "    <tr>\n",
       "      <th>1</th>\n",
       "      <td>train-faces\\F0002\\MID2</td>\n",
       "      <td>train-faces\\F0002\\MID3</td>\n",
       "    </tr>\n",
       "    <tr>\n",
       "      <th>2</th>\n",
       "      <td>train-faces\\F0005\\MID1</td>\n",
       "      <td>train-faces\\F0005\\MID2</td>\n",
       "    </tr>\n",
       "    <tr>\n",
       "      <th>3</th>\n",
       "      <td>train-faces\\F0005\\MID3</td>\n",
       "      <td>train-faces\\F0005\\MID2</td>\n",
       "    </tr>\n",
       "    <tr>\n",
       "      <th>4</th>\n",
       "      <td>train-faces\\F0009\\MID1</td>\n",
       "      <td>train-faces\\F0009\\MID4</td>\n",
       "    </tr>\n",
       "  </tbody>\n",
       "</table>\n",
       "</div>"
      ],
      "text/plain": [
       "                       p1                      p2\n",
       "0  train-faces\\F0002\\MID1  train-faces\\F0002\\MID3\n",
       "1  train-faces\\F0002\\MID2  train-faces\\F0002\\MID3\n",
       "2  train-faces\\F0005\\MID1  train-faces\\F0005\\MID2\n",
       "3  train-faces\\F0005\\MID3  train-faces\\F0005\\MID2\n",
       "4  train-faces\\F0009\\MID1  train-faces\\F0009\\MID4"
      ]
     },
     "execution_count": 167,
     "metadata": {},
     "output_type": "execute_result"
    }
   ],
   "source": [
    "# Using curated database with only 2nd gen kinships mixed in.\n",
    "data = fitw_local_df\n",
    "\n",
    "\n",
    "data.p1 = data.p1.apply( lambda x: main_folder + '/'+x )\n",
    "\n",
    "# Replace forward slashes in the 'p1' column with backslashes\n",
    "data['p1'] = data['p1'].str.replace('/', '\\\\')\n",
    "\n",
    "data.p2 = data.p2.apply( lambda x: main_folder + '/'+x )\n",
    "\n",
    "# Replace forward slashes in the 'p1' column with backslashes\n",
    "data['p2'] = data['p2'].str.replace('/', '\\\\')\n",
    "\n",
    "#remove last \\ in values\n",
    "\n",
    "\n",
    "def remove_last_backslash(df):\n",
    "    # Iterate over the columns in the DataFrame\n",
    "    for column in df.columns:\n",
    "        # Get the values in the column\n",
    "        values = df[column]\n",
    "\n",
    "        # Remove the last \"\\\" character from each value\n",
    "        values = values.str.rstrip(\"\\\\\")\n",
    "\n",
    "        # Update the DataFrame with the modified values\n",
    "        df[column] = values\n",
    "    \n",
    "    return df\n",
    "\n",
    "# Remove the last \"\\\" character from all values in the DataFrame\n",
    "data = remove_last_backslash(data)\n",
    "\n",
    "\n",
    "print(data.shape)\n",
    "data.head()"
   ]
  },
  {
   "cell_type": "code",
   "execution_count": 156,
   "id": "49b0d4d4",
   "metadata": {},
   "outputs": [
    {
     "data": {
      "text/plain": [
       "['train-faces\\\\F0001\\\\MID1',\n",
       " 'train-faces\\\\F0001\\\\MID2',\n",
       " 'train-faces\\\\F0001\\\\MID3',\n",
       " 'train-faces\\\\F0001\\\\MID4',\n",
       " 'train-faces\\\\F0002\\\\MID1']"
      ]
     },
     "execution_count": 156,
     "metadata": {},
     "output_type": "execute_result"
    }
   ],
   "source": [
    "ppl[:5]"
   ]
  },
  {
   "cell_type": "code",
   "execution_count": 168,
   "id": "3d92a806",
   "metadata": {},
   "outputs": [
    {
     "name": "stdout",
     "output_type": "stream",
     "text": [
      "There are 2591 rows of training pairs to train kinship model on.\n",
      "There are 1108 rows of data where either 1 or both folders not found in train-faces folder\n"
     ]
    },
    {
     "data": {
      "text/plain": [
       "[('train-faces\\\\F0002\\\\MID1', 'train-faces\\\\F0002\\\\MID3'),\n",
       " ('train-faces\\\\F0002\\\\MID2', 'train-faces\\\\F0002\\\\MID3'),\n",
       " ('train-faces\\\\F0005\\\\MID1', 'train-faces\\\\F0005\\\\MID2'),\n",
       " ('train-faces\\\\F0005\\\\MID3', 'train-faces\\\\F0005\\\\MID2'),\n",
       " ('train-faces\\\\F0016\\\\MID1', 'train-faces\\\\F0016\\\\MID5')]"
      ]
     },
     "execution_count": 168,
     "metadata": {},
     "output_type": "execute_result"
    }
   ],
   "source": [
    "#return rows where both images are found in folder\n",
    "tdata = data[ ( (data[\"p1\"].isin(ppl)) & (data[\"p2\"].isin(ppl)) ) ]\n",
    "tdata = [ ( x[0], x[1]  ) for x in tdata.values ]\n",
    "print(f\"There are {len(tdata)} rows of training pairs to train kinship model on.\")\n",
    "print(f\"There are {data.shape[0] - len(tdata)} rows of data where either 1 or both folders not found in train-faces folder\")\n",
    "tdata[:5]"
   ]
  },
  {
   "cell_type": "code",
   "execution_count": 169,
   "id": "ce829bd4",
   "metadata": {},
   "outputs": [
    {
     "name": "stdout",
     "output_type": "stream",
     "text": [
      "2331\n",
      "260\n"
     ]
    }
   ],
   "source": [
    "# Split the data into a training set and a test set. 90% train dataset and validation 10% (F09)\n",
    "train, val = train_test_split(tdata, test_size=0.1, random_state=42)\n",
    "print(len(train))\n",
    "print(len(val))"
   ]
  },
  {
   "cell_type": "code",
   "execution_count": 170,
   "id": "49cd6a62",
   "metadata": {},
   "outputs": [],
   "source": [
    "from keras.models import Model\n",
    "from keras.layers import Input\n",
    "import tensorflow as tf\n",
    "# updated tensorflow version, which changes keras version to keras-2.14.0\n",
    "from tensorflow.keras.applications import VGG16  # Or another architecture"
   ]
  },
  {
   "cell_type": "code",
   "execution_count": 171,
   "id": "8579a05f",
   "metadata": {},
   "outputs": [],
   "source": [
    "IMG_DIM = (224,224,3)\n",
    "\n",
    "vggface = VGG16(include_top=False, weights='imagenet', classifier_activation = \"softmax\")\n",
    "\n",
    "for layer in vggface.layers[:-3]:\n",
    "    layer.trainable=True"
   ]
  },
  {
   "cell_type": "code",
   "execution_count": 172,
   "id": "f999b705",
   "metadata": {},
   "outputs": [],
   "source": [
    "#ChatGPT improved version of above cell. \n",
    "import numpy as np\n",
    "import tensorflow as tf\n",
    "\n",
    "def initialize_bias(shape, dtype=None, name=None):\n",
    "    if dtype is None:\n",
    "        dtype = tf.float32  # Set the default data type to float32\n",
    "    return tf.constant(np.random.normal(loc=0.5, scale=1e-2, size=shape), dtype=dtype, name=name)\n",
    "\n",
    "def initialize_weights(shape, dtype=None, name=None):\n",
    "    if dtype is None:\n",
    "        dtype = tf.float32  # Set the default data type to float32\n",
    "    return tf.constant(np.random.normal(loc=0.0, scale=1e-2, size=shape), dtype=dtype, name=name)"
   ]
  },
  {
   "cell_type": "code",
   "execution_count": 173,
   "id": "4111b6cb",
   "metadata": {},
   "outputs": [],
   "source": [
    "from keras.layers import Input, Dense, Flatten, Subtract, Dropout, Multiply\n",
    "from keras.layers import Lambda, Concatenate, GlobalMaxPool2D, GlobalAvgPool2D\n",
    "from keras.models import Model\n",
    "from keras.regularizers import l2\n",
    "from keras import backend as K\n",
    "from keras.optimizers import SGD,Adam\n",
    "from keras.losses import binary_crossentropy\n",
    "import tensorflow as tf\n",
    "from sklearn.metrics import roc_auc_score\n",
    "\n",
    "def auc(y_true, y_pred):\n",
    "    return tf.py_function(roc_auc_score, (y_true, y_pred), tf.double)\n",
    "\n",
    "left_input = Input(IMG_DIM)\n",
    "right_input = Input(IMG_DIM)\n",
    "\n",
    "x1 = vggface(left_input)\n",
    "x2 = vggface(right_input)\n",
    "\n",
    "x1 = Concatenate(axis=-1)([GlobalMaxPool2D()(x1), GlobalAvgPool2D()(x1)])\n",
    "x2 = Concatenate(axis=-1)([GlobalMaxPool2D()(x2), GlobalAvgPool2D()(x2)])\n",
    "\n",
    "fc = Dense(100,activation='relu',kernel_regularizer=l2(1e-3),\n",
    "                   kernel_initializer=initialize_weights,bias_initializer=initialize_bias)\n",
    "x1 = fc(x1)\n",
    "x2 = fc(x2)\n",
    "\n",
    "# |h1-h2|\n",
    "x3 = Lambda(lambda tensors : K.abs(tensors[0] - tensors[1]))([x1, x2])\n",
    "\n",
    "# |h1-h2|^2\n",
    "x4 = Lambda(lambda tensor  : K.square(tensor))(x3)\n",
    "\n",
    "# h1*h2\n",
    "x5 = Multiply()([x1, x2])\n",
    "\n",
    "# |h1-h2|^2 + h1*h2\n",
    "x = Concatenate(axis=-1)([x4,x5])\n",
    "\n",
    "x = Dense(100,activation='relu',kernel_regularizer=l2(1e-3),\n",
    "                   kernel_initializer=initialize_weights,bias_initializer=initialize_bias)(x)\n",
    "x = Dropout(0.1)(x)\n",
    "\n",
    "\n",
    "prediction = Dense(1,activation='sigmoid',bias_initializer=initialize_bias)(x)\n",
    "\n",
    "siamese_net = Model(inputs=[left_input,right_input],outputs=prediction)\n",
    "\n",
    "#optimizer = Adam(1e-5)\n",
    "\n",
    "\"https://towardsdatascience.com/lossless-triplet-loss-7e932f990b24\"\n",
    "\n",
    "#compilation step, removed auc and only put accuracy\n",
    "siamese_net.compile(loss=\"binary_crossentropy\",optimizer= 'adam',metrics=['accuracy', auc]) #If needed, can put accuracy here"
   ]
  },
  {
   "cell_type": "code",
   "execution_count": null,
   "id": "f3993e85",
   "metadata": {},
   "outputs": [],
   "source": [
    "# Save the model architecture to a file\n",
    "model_architecture = siamese_net.to_json()  # Or siamese_net.to_yaml()\n",
    "with open('model_architecture.json', 'w') as json_file:\n",
    "    json_file.write(model_architecture)"
   ]
  },
  {
   "cell_type": "code",
   "execution_count": 174,
   "id": "8efdfe24",
   "metadata": {
    "scrolled": true
   },
   "outputs": [
    {
     "name": "stdout",
     "output_type": "stream",
     "text": [
      "Epoch 1/20\n",
      "200/200 [==============================] - ETA: 0s - loss: 0.8621 - accuracy: 0.5153 - auc: 0.5077 \n",
      "Epoch 1: val_auc improved from -inf to 0.51258, saving model to model_best_checkpoint_9nov.h5\n",
      "200/200 [==============================] - 2404s 12s/step - loss: 0.8621 - accuracy: 0.5153 - auc: 0.5077 - val_loss: 0.6968 - val_accuracy: 0.5000 - val_auc: 0.5126 - lr: 0.0010\n",
      "Epoch 2/20\n",
      "200/200 [==============================] - ETA: 0s - loss: 0.7365 - accuracy: 0.4919 - auc: 0.4907\n",
      "Epoch 2: val_auc improved from 0.51258 to 0.52797, saving model to model_best_checkpoint_9nov.h5\n",
      "200/200 [==============================] - 1969s 10s/step - loss: 0.7365 - accuracy: 0.4919 - auc: 0.4907 - val_loss: 0.6995 - val_accuracy: 0.5000 - val_auc: 0.5280 - lr: 0.0010\n",
      "Epoch 3/20\n",
      "200/200 [==============================] - ETA: 0s - loss: 0.7025 - accuracy: 0.5044 - auc: 0.5123\n",
      "Epoch 3: val_auc did not improve from 0.52797\n",
      "200/200 [==============================] - 2011s 10s/step - loss: 0.7025 - accuracy: 0.5044 - auc: 0.5123 - val_loss: 0.6989 - val_accuracy: 0.5000 - val_auc: 0.5073 - lr: 0.0010\n",
      "Epoch 4/20\n",
      "200/200 [==============================] - ETA: 0s - loss: 0.7004 - accuracy: 0.4994 - auc: 0.5027\n",
      "Epoch 4: val_auc did not improve from 0.52797\n",
      "200/200 [==============================] - 2025s 10s/step - loss: 0.7004 - accuracy: 0.4994 - auc: 0.5027 - val_loss: 0.6982 - val_accuracy: 0.5000 - val_auc: 0.4702 - lr: 0.0010\n",
      "Epoch 5/20\n",
      "200/200 [==============================] - ETA: 0s - loss: 0.7027 - accuracy: 0.4947 - auc: 0.4896 \n",
      "Epoch 5: val_auc did not improve from 0.52797\n",
      "200/200 [==============================] - 2633s 13s/step - loss: 0.7027 - accuracy: 0.4947 - auc: 0.4896 - val_loss: 0.6981 - val_accuracy: 0.5000 - val_auc: 0.4590 - lr: 0.0010\n",
      "Epoch 6/20\n",
      "200/200 [==============================] - ETA: 0s - loss: 0.6995 - accuracy: 0.5044 - auc: 0.5079 \n",
      "Epoch 6: val_auc did not improve from 0.52797\n",
      "200/200 [==============================] - 2599s 13s/step - loss: 0.6995 - accuracy: 0.5044 - auc: 0.5079 - val_loss: 0.6981 - val_accuracy: 0.5000 - val_auc: 0.5067 - lr: 0.0010\n",
      "Epoch 7/20\n",
      "200/200 [==============================] - ETA: 0s - loss: 0.6999 - accuracy: 0.5050 - auc: 0.4980  \n",
      "Epoch 7: val_auc improved from 0.52797 to 0.52820, saving model to model_best_checkpoint_9nov.h5\n",
      "200/200 [==============================] - 14871s 75s/step - loss: 0.6999 - accuracy: 0.5050 - auc: 0.4980 - val_loss: 0.6977 - val_accuracy: 0.5000 - val_auc: 0.5282 - lr: 0.0010\n",
      "Epoch 8/20\n",
      "200/200 [==============================] - ETA: 0s - loss: 0.6984 - accuracy: 0.5003 - auc: 0.5164\n",
      "Epoch 8: val_auc did not improve from 0.52820\n",
      "200/200 [==============================] - 1976s 10s/step - loss: 0.6984 - accuracy: 0.5003 - auc: 0.5164 - val_loss: 0.6976 - val_accuracy: 0.5000 - val_auc: 0.5227 - lr: 0.0010\n",
      "Epoch 9/20\n",
      "200/200 [==============================] - ETA: 0s - loss: 0.6969 - accuracy: 0.5166 - auc: 0.5252\n",
      "Epoch 9: val_auc did not improve from 0.52820\n",
      "200/200 [==============================] - 1972s 10s/step - loss: 0.6969 - accuracy: 0.5166 - auc: 0.5252 - val_loss: 0.6969 - val_accuracy: 0.5000 - val_auc: 0.4706 - lr: 0.0010\n",
      "Epoch 10/20\n",
      "200/200 [==============================] - ETA: 0s - loss: 0.7000 - accuracy: 0.4819 - auc: 0.4858\n",
      "Epoch 10: val_auc did not improve from 0.52820\n",
      "200/200 [==============================] - 2033s 10s/step - loss: 0.7000 - accuracy: 0.4819 - auc: 0.4858 - val_loss: 0.6965 - val_accuracy: 0.5000 - val_auc: 0.5043 - lr: 0.0010\n",
      "Epoch 11/20\n",
      "200/200 [==============================] - ETA: 0s - loss: 0.6968 - accuracy: 0.5131 - auc: 0.5230\n",
      "Epoch 11: val_auc improved from 0.52820 to 0.54344, saving model to model_best_checkpoint_9nov.h5\n",
      "200/200 [==============================] - 2023s 10s/step - loss: 0.6968 - accuracy: 0.5131 - auc: 0.5230 - val_loss: 0.6963 - val_accuracy: 0.5000 - val_auc: 0.5434 - lr: 0.0010\n",
      "Epoch 12/20\n",
      "200/200 [==============================] - ETA: 0s - loss: 0.6984 - accuracy: 0.4913 - auc: 0.4894 \n",
      "Epoch 12: val_auc did not improve from 0.54344\n",
      "200/200 [==============================] - 2463s 12s/step - loss: 0.6984 - accuracy: 0.4913 - auc: 0.4894 - val_loss: 0.6960 - val_accuracy: 0.5000 - val_auc: 0.5159 - lr: 0.0010\n",
      "Epoch 13/20\n",
      "200/200 [==============================] - ETA: 0s - loss: 0.6980 - accuracy: 0.5009 - auc: 0.4869 \n",
      "Epoch 13: val_auc did not improve from 0.54344\n",
      "200/200 [==============================] - 2658s 13s/step - loss: 0.6980 - accuracy: 0.5009 - auc: 0.4869 - val_loss: 0.6959 - val_accuracy: 0.5000 - val_auc: 0.4816 - lr: 0.0010\n",
      "Epoch 14/20\n",
      "200/200 [==============================] - ETA: 0s - loss: 0.6967 - accuracy: 0.4991 - auc: 0.4924 \n",
      "Epoch 14: val_auc did not improve from 0.54344\n",
      "200/200 [==============================] - 2355s 12s/step - loss: 0.6967 - accuracy: 0.4991 - auc: 0.4924 - val_loss: 0.6956 - val_accuracy: 0.5000 - val_auc: 0.4980 - lr: 0.0010\n",
      "Epoch 15/20\n",
      "200/200 [==============================] - ETA: 0s - loss: 0.6975 - accuracy: 0.4959 - auc: 0.4809\n",
      "Epoch 15: val_auc did not improve from 0.54344\n",
      "200/200 [==============================] - 2067s 10s/step - loss: 0.6975 - accuracy: 0.4959 - auc: 0.4809 - val_loss: 0.6954 - val_accuracy: 0.5000 - val_auc: 0.4970 - lr: 0.0010\n",
      "Epoch 16/20\n",
      "200/200 [==============================] - ETA: 0s - loss: 0.6964 - accuracy: 0.5116 - auc: 0.5052\n",
      "Epoch 16: val_auc did not improve from 0.54344\n",
      "200/200 [==============================] - 2090s 10s/step - loss: 0.6964 - accuracy: 0.5116 - auc: 0.5052 - val_loss: 0.6953 - val_accuracy: 0.5000 - val_auc: 0.4977 - lr: 0.0010\n",
      "Epoch 17/20\n",
      "200/200 [==============================] - ETA: 0s - loss: 0.6964 - accuracy: 0.4916 - auc: 0.4963\n",
      "Epoch 17: ReduceLROnPlateau reducing learning rate to 0.00010000000474974513.\n",
      "\n",
      "Epoch 17: val_auc did not improve from 0.54344\n",
      "200/200 [==============================] - 2106s 11s/step - loss: 0.6964 - accuracy: 0.4916 - auc: 0.4963 - val_loss: 0.6952 - val_accuracy: 0.5000 - val_auc: 0.4730 - lr: 0.0010\n",
      "Epoch 18/20\n",
      "200/200 [==============================] - ETA: 0s - loss: 0.6956 - accuracy: 0.5059 - auc: 0.5086\n",
      "Epoch 18: val_auc did not improve from 0.54344\n",
      "200/200 [==============================] - 2178s 11s/step - loss: 0.6956 - accuracy: 0.5059 - auc: 0.5086 - val_loss: 0.6951 - val_accuracy: 0.5000 - val_auc: 0.4945 - lr: 1.0000e-04\n",
      "Epoch 19/20\n",
      "200/200 [==============================] - ETA: 0s - loss: 0.6958 - accuracy: 0.5053 - auc: 0.5067 \n",
      "Epoch 19: val_auc did not improve from 0.54344\n",
      "200/200 [==============================] - 2811s 14s/step - loss: 0.6958 - accuracy: 0.5053 - auc: 0.5067 - val_loss: 0.6951 - val_accuracy: 0.5000 - val_auc: 0.5049 - lr: 1.0000e-04\n",
      "Epoch 20/20\n",
      "200/200 [==============================] - ETA: 0s - loss: 0.6966 - accuracy: 0.4978 - auc: 0.4961 \n",
      "Epoch 20: val_auc did not improve from 0.54344\n",
      "200/200 [==============================] - 2780s 14s/step - loss: 0.6966 - accuracy: 0.4978 - auc: 0.4961 - val_loss: 0.6950 - val_accuracy: 0.5000 - val_auc: 0.5116 - lr: 1.0000e-04\n"
     ]
    }
   ],
   "source": [
    "# This is for FITW families only 1st degree kinship entire dataset + local families\n",
    "from keras.callbacks import ReduceLROnPlateau, ModelCheckpoint, EarlyStopping\n",
    "\n",
    "reducelr = ReduceLROnPlateau(monitor='val_auc', mode='max', patience=6, factor=0.1, verbose=1)\n",
    "\n",
    "model_checkpoint = ModelCheckpoint('model_best_checkpoint_9nov.h5', save_best_only=True,\n",
    "                                   save_weights_only=True, monitor='val_auc', mode='max', verbose=1)\n",
    "\n",
    "early_stopping = EarlyStopping(monitor='val_auc', patience=20, mode='max')\n",
    "\n",
    "callbacks_list = [reducelr, model_checkpoint, early_stopping]\n",
    "\n",
    "batch_size = 16\n",
    "\n",
    "def data_generator(data, batch_size):\n",
    "    while True:\n",
    "        batch_data = getMiniBatch(batch_size=batch_size, data=data)\n",
    "        yield batch_data\n",
    "\n",
    "train_gen = data_generator(train, batch_size)\n",
    "val_gen = data_generator(val, batch_size)\n",
    "\n",
    "history = siamese_net.fit(train_gen, steps_per_epoch=200, epochs=20, #Changed from 100 to 20\n",
    "                          validation_data=val_gen, validation_steps=100,\n",
    "                          verbose=1, callbacks=callbacks_list)"
   ]
  },
  {
   "cell_type": "markdown",
   "id": "adc52101",
   "metadata": {},
   "source": [
    "## Measuring Performance of Version 5 Siamese Network Architecture using VGG16 and AUC function"
   ]
  },
  {
   "cell_type": "code",
   "execution_count": 177,
   "id": "40240bcc",
   "metadata": {},
   "outputs": [
    {
     "data": {
      "image/png": "[encoded data removed]",
      "text/plain": [
       "<Figure size 1600x400 with 3 Axes>"
      ]
     },
     "metadata": {},
     "output_type": "display_data"
    }
   ],
   "source": [
    "# Measurement of Performance\n",
    "f, (ax1, ax2, ax3) = plt.subplots(1, 3, figsize=(16, 4))\n",
    "t = f.suptitle('Siamese Net Performance', fontsize=12)\n",
    "f.subplots_adjust(top=0.85, wspace=0.3)\n",
    "epoch_list = history.epoch\n",
    "\n",
    "ax1.plot(epoch_list, history.history['accuracy'], label='Train Accuracy')\n",
    "ax1.plot(epoch_list, history.history['val_accuracy'], label='Validation Accuracy')\n",
    "ax1.set_xticks(np.arange(0, epoch_list[-1], 5))\n",
    "ax1.set_ylabel('Accuracy Value');ax1.set_xlabel('Epoch');ax1.set_title('Accuracy')\n",
    "ax1.legend(loc=\"best\");ax1.grid(color='gray', linestyle='-', linewidth=0.5)\n",
    "\n",
    "ax2.plot(epoch_list, history.history['loss'], label='Train Loss')\n",
    "ax2.plot(epoch_list, history.history['val_loss'], label='Validation Loss')\n",
    "ax2.set_xticks(np.arange(0, epoch_list[-1], 5))\n",
    "ax2.set_ylabel('Loss Value');ax2.set_xlabel('Epoch');ax2.set_title('Loss')\n",
    "ax2.legend(loc=\"best\");ax2.grid(color='gray', linestyle='-', linewidth=0.5)\n",
    "\n",
    "ax3.plot(epoch_list, history.history['auc'], label='Train AUC')\n",
    "ax3.plot(epoch_list, history.history['val_auc'], label='Validation AUC')\n",
    "ax3.set_xticks(np.arange(0, epoch_list[-1], 5))\n",
    "ax3.set_ylabel('AUC');ax3.set_xlabel('Epoch');ax3.set_title('AUC')\n",
    "ax3.legend(loc=\"best\");ax3.grid(color='gray', linestyle='-', linewidth=0.5)"
   ]
  }
 ],
 "metadata": {
  "kernelspec": {
   "display_name": "Python 3 (ipykernel)",
   "language": "python",
   "name": "python3"
  },
  "language_info": {
   "codemirror_mode": {
    "name": "ipython",
    "version": 3
   },
   "file_extension": ".py",
   "mimetype": "text/x-python",
   "name": "python",
   "nbconvert_exporter": "python",
   "pygments_lexer": "ipython3",
   "version": "3.11.4"
  }
 },
 "nbformat": 4,
 "nbformat_minor": 5
}
